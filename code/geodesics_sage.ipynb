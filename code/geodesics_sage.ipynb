{
 "cells": [
  {
   "cell_type": "code",
   "execution_count": 1,
   "metadata": {
    "vscode": {
     "languageId": "sage"
    }
   },
   "outputs": [],
   "source": [
    "import sympy as sp\n",
    "from IPython.display import display, Math"
   ]
  },
  {
   "cell_type": "code",
   "execution_count": 2,
   "metadata": {
    "vscode": {
     "languageId": "sage"
    }
   },
   "outputs": [
    {
     "data": {
      "text/latex": [
       "$\\displaystyle \\mathbf{r}(u, v) = \\left({\\left(\\cos\\left(u\\right) + 3\\right)} \\cos\\left(v\\right),\\,{\\left(\\cos\\left(u\\right) + 3\\right)} \\sin\\left(v\\right),\\,\\sin\\left(u\\right)\\right)$"
      ],
      "text/plain": [
       "<IPython.core.display.Math object>"
      ]
     },
     "metadata": {},
     "output_type": "display_data"
    },
    {
     "data": {
      "text/html": [
       "\n",
       "<iframe srcdoc=\"&lt;!DOCTYPE html&gt;\n",
       "&lt;html&gt;\n",
       "&lt;head&gt;\n",
       "&lt;title&gt;&lt;/title&gt;\n",
       "&lt;meta charset=&quot;utf-8&quot;&gt;\n",
       "&lt;meta name=viewport content=&quot;width=device-width, user-scalable=no, minimum-scale=1.0, maximum-scale=1.0&quot;&gt;\n",
       "&lt;style&gt;\n",
       "\n",
       "    body { margin: 0px; overflow: hidden; }\n",
       "\n",
       "    #menu-container { position: absolute; bottom: 30px; right: 40px; cursor: default; }\n",
       "\n",
       "    #menu-message { position: absolute; bottom: 0px; right: 0px; white-space: nowrap;\n",
       "                    display: none; background-color: #F5F5F5; padding: 10px; }\n",
       "\n",
       "    #menu-content { position: absolute; bottom: 0px; right: 0px;\n",
       "                    display: none; background-color: #F5F5F5; border-bottom: 1px solid black;\n",
       "                    border-right: 1px solid black; border-left: 1px solid black; }\n",
       "\n",
       "    #menu-content div { border-top: 1px solid black; padding: 10px; white-space: nowrap; }\n",
       "\n",
       "    #menu-content div:hover { background-color: #FEFEFE; }\n",
       "\n",
       "    .dark-theme #menu-container { color: white; }\n",
       "\n",
       "    .dark-theme #menu-message { background-color: #181818; }\n",
       "\n",
       "    .dark-theme #menu-content { background-color: #181818; border-color: white; }\n",
       "\n",
       "    .dark-theme #menu-content div { border-color: white; }\n",
       "\n",
       "    .dark-theme #menu-content div:hover { background-color: #303030; }\n",
       "\n",
       "&lt;/style&gt;\n",
       "\n",
       "&lt;/head&gt;\n",
       "\n",
       "&lt;body&gt;\n",
       "\n",
       "&lt;script src=&quot;/nbextensions/threejs-sage/r122/three.min.js&quot;&gt;&lt;/script&gt;\n",
       "&lt;script&gt;\n",
       "  if ( !window.THREE ) document.write(&#x27; \\\n",
       "&lt;script src=&quot;https://cdn.jsdelivr.net/gh/sagemath/threejs-sage@r122/build/three.min.js&quot;&gt;&lt;\\/script&gt; \\\n",
       "            &#x27;);\n",
       "&lt;/script&gt;\n",
       "        \n",
       "&lt;script&gt;\n",
       "\n",
       "    var options = {&quot;animate&quot;: false, &quot;animationControls&quot;: true, &quot;aspectRatio&quot;: [1.0, 1.0, 1.0], &quot;autoScaling&quot;: [false, false, false], &quot;autoPlay&quot;: true, &quot;axes&quot;: false, &quot;axesLabels&quot;: [&quot;x&quot;, &quot;y&quot;, &quot;z&quot;], &quot;axesLabelsStyle&quot;: null, &quot;decimals&quot;: 2, &quot;delay&quot;: 20, &quot;frame&quot;: true, &quot;loop&quot;: true, &quot;projection&quot;: &quot;perspective&quot;, &quot;theme&quot;: &quot;light&quot;, &quot;viewpoint&quot;: false};\n",
       "    var animate = options.animate;\n",
       "\n",
       "    if ( options.theme === &#x27;dark&#x27; )\n",
       "        document.body.className = &#x27;dark-theme&#x27;;\n",
       "\n",
       "    var scene = new THREE.Scene();\n",
       "\n",
       "    var renderer = new THREE.WebGLRenderer( { antialias: true, preserveDrawingBuffer: true } );\n",
       "    renderer.setPixelRatio( window.devicePixelRatio );\n",
       "    renderer.setSize( window.innerWidth, window.innerHeight );\n",
       "    renderer.setClearColor( options.theme === &#x27;dark&#x27; ? 0 : 0xffffff, 1 );\n",
       "    document.body.appendChild( renderer.domElement );\n",
       "\n",
       "    var b = [{&quot;x&quot;:-3.98702923253684, &quot;y&quot;:-3.996755992686279, &quot;z&quot;:-0.9991889981715697}, {&quot;x&quot;:4.0, &quot;y&quot;:3.996755992686279, &quot;z&quot;:0.9991889981715697}]; // bounds\n",
       "\n",
       "    if ( b[0].x === b[1].x ) {\n",
       "        b[0].x -= 1;\n",
       "        b[1].x += 1;\n",
       "    }\n",
       "    if ( b[0].y === b[1].y ) {\n",
       "        b[0].y -= 1;\n",
       "        b[1].y += 1;\n",
       "    }\n",
       "    if ( b[0].z === b[1].z ) {\n",
       "        b[0].z -= 1;\n",
       "        b[1].z += 1;\n",
       "    }\n",
       "\n",
       "    var rxRange = Math.sqrt( Math.pow( b[1].z - b[0].z, 2 )\n",
       "                            + Math.pow( b[1].y - b[0].y, 2 ) );\n",
       "    var ryRange = Math.sqrt( Math.pow( b[1].x - b[0].x, 2 )\n",
       "                            + Math.pow( b[1].z - b[0].z, 2 ) );\n",
       "    var rzRange = Math.sqrt( Math.pow( b[1].x - b[0].x, 2 )\n",
       "                            + Math.pow( b[1].y - b[0].y, 2 ) );\n",
       "    var xRange = b[1].x - b[0].x;\n",
       "    var yRange = b[1].y - b[0].y;\n",
       "    var zRange = b[1].z - b[0].z;\n",
       "\n",
       "    var ar = options.aspectRatio;\n",
       "    var a = [ ar[0], ar[1], ar[2] ]; // aspect multipliers\n",
       "\n",
       "    var autoScaling = options.autoScaling;\n",
       "    var autoAspect = 2.5;\n",
       "    if ( xRange &gt; autoAspect * rxRange &amp;&amp; autoScaling[0] ) a[0] = autoAspect * rxRange / xRange;\n",
       "    if ( yRange &gt; autoAspect * ryRange &amp;&amp; autoScaling[1] ) a[1] = autoAspect * ryRange / yRange;\n",
       "    if ( zRange &gt; autoAspect * rzRange &amp;&amp; autoScaling[2] ) a[2] = autoAspect * rzRange / zRange;\n",
       "\n",
       "    // Distance from (xMid,yMid,zMid) to any corner of the bounding box, after applying aspectRatio\n",
       "    var midToCorner = Math.sqrt( a[0]*a[0]*xRange*xRange + a[1]*a[1]*yRange*yRange + a[2]*a[2]*zRange*zRange ) / 2;\n",
       "\n",
       "    var xMid = ( b[0].x + b[1].x ) / 2;\n",
       "    var yMid = ( b[0].y + b[1].y ) / 2;\n",
       "    var zMid = ( b[0].z + b[1].z ) / 2;\n",
       "\n",
       "    var box = new THREE.Geometry();\n",
       "    box.vertices.push( new THREE.Vector3( a[0]*b[0].x, a[1]*b[0].y, a[2]*b[0].z ) );\n",
       "    box.vertices.push( new THREE.Vector3( a[0]*b[1].x, a[1]*b[1].y, a[2]*b[1].z ) );\n",
       "    var boxMesh = new THREE.Line( box );\n",
       "    var boxColor = options.theme === &#x27;dark&#x27; ? &#x27;white&#x27; : &#x27;black&#x27;;\n",
       "    if ( options.frame ) scene.add( new THREE.BoxHelper( boxMesh, boxColor ) );\n",
       "\n",
       "    if ( options.axesLabels ) {\n",
       "\n",
       "        var d = options.decimals; // decimals\n",
       "        var offsetRatio = 0.1;\n",
       "        var al = options.axesLabels;\n",
       "        var als = options.axesLabelsStyle || [{}, {}, {}];\n",
       "\n",
       "        var offset = offsetRatio * a[1]*( b[1].y - b[0].y );\n",
       "        var xm = xMid.toFixed(d);\n",
       "        if ( /^-0.?0*$/.test(xm) ) xm = xm.substr(1);\n",
       "        addLabel( al[0] + &#x27;=&#x27; + xm, a[0]*xMid, a[1]*b[1].y+offset, a[2]*b[0].z, als[0] );\n",
       "        addLabel( ( b[0].x ).toFixed(d), a[0]*b[0].x, a[1]*b[1].y+offset, a[2]*b[0].z, als[0] );\n",
       "        addLabel( ( b[1].x ).toFixed(d), a[0]*b[1].x, a[1]*b[1].y+offset, a[2]*b[0].z, als[0] );\n",
       "\n",
       "        var offset = offsetRatio * a[0]*( b[1].x - b[0].x );\n",
       "        var ym = yMid.toFixed(d);\n",
       "        if ( /^-0.?0*$/.test(ym) ) ym = ym.substr(1);\n",
       "        addLabel( al[1] + &#x27;=&#x27; + ym, a[0]*b[1].x+offset, a[1]*yMid, a[2]*b[0].z, als[1] );\n",
       "        addLabel( ( b[0].y ).toFixed(d), a[0]*b[1].x+offset, a[1]*b[0].y, a[2]*b[0].z, als[1] );\n",
       "        addLabel( ( b[1].y ).toFixed(d), a[0]*b[1].x+offset, a[1]*b[1].y, a[2]*b[0].z, als[1] );\n",
       "\n",
       "        var offset = offsetRatio * a[1]*( b[1].y - b[0].y );\n",
       "        var zm = zMid.toFixed(d);\n",
       "        if ( /^-0.?0*$/.test(zm) ) zm = zm.substr(1);\n",
       "        addLabel( al[2] + &#x27;=&#x27; + zm, a[0]*b[1].x, a[1]*b[0].y-offset, a[2]*zMid, als[2] );\n",
       "        addLabel( ( b[0].z ).toFixed(d), a[0]*b[1].x, a[1]*b[0].y-offset, a[2]*b[0].z, als[2] );\n",
       "        addLabel( ( b[1].z ).toFixed(d), a[0]*b[1].x, a[1]*b[0].y-offset, a[2]*b[1].z, als[2] );\n",
       "\n",
       "    }\n",
       "\n",
       "    function addLabel( text, x, y, z, style ) {\n",
       "\n",
       "        var color = style.color || &#x27;black&#x27;;\n",
       "        var fontSize = style.fontSize || 14;\n",
       "        var fontFamily = style.fontFamily || &#x27;monospace&#x27;;\n",
       "        var fontStyle = style.fontStyle || &#x27;normal&#x27;;\n",
       "        var fontWeight = style.fontWeight || &#x27;normal&#x27;;\n",
       "        var opacity = style.opacity || 1;\n",
       "\n",
       "        if ( options.theme === &#x27;dark&#x27; )\n",
       "            if ( color === &#x27;black&#x27; || color === &#x27;#000000&#x27; )\n",
       "                color = &#x27;white&#x27;;\n",
       "\n",
       "        if ( Array.isArray( fontStyle ) ) {\n",
       "            fontFamily = fontFamily.map( function( f ) {\n",
       "                // Need to put quotes around fonts that have whitespace in their names.\n",
       "                return /\\s/.test( f ) ? &#x27;&quot;&#x27; + f + &#x27;&quot;&#x27; : f;\n",
       "            }).join(&#x27;, &#x27;);\n",
       "        }\n",
       "\n",
       "        var canvas = document.createElement( &#x27;canvas&#x27; );\n",
       "        var context = canvas.getContext( &#x27;2d&#x27; );\n",
       "        var pixelRatio = Math.round( window.devicePixelRatio );\n",
       "\n",
       "        // For example: italic bold 20px &quot;Times New Roman&quot;, Georgia, serif\n",
       "        var font = [fontStyle, fontWeight, fontSize + &#x27;px&#x27;, fontFamily].join(&#x27; &#x27;);\n",
       "\n",
       "        context.font = font;\n",
       "        var width = context.measureText( text ).width;\n",
       "        var height = fontSize;\n",
       "\n",
       "        // The dimensions of the canvas&#x27;s underlying image data need to be powers\n",
       "        // of two in order for the resulting texture to support mipmapping.\n",
       "        canvas.width = THREE.MathUtils.ceilPowerOfTwo( width * pixelRatio );\n",
       "        canvas.height = THREE.MathUtils.ceilPowerOfTwo( height * pixelRatio );\n",
       "\n",
       "        // Re-compute the unscaled dimensions after the power of two conversion.\n",
       "        width = canvas.width / pixelRatio;\n",
       "        height = canvas.height / pixelRatio;\n",
       "\n",
       "        canvas.style.width = width + &#x27;px&#x27;;\n",
       "        canvas.style.height = height + &#x27;px&#x27;;\n",
       "\n",
       "        context.scale( pixelRatio, pixelRatio );\n",
       "        context.fillStyle = color;\n",
       "        context.font = font; // Must be set again after measureText.\n",
       "        context.textAlign = &#x27;center&#x27;;\n",
       "        context.textBaseline = &#x27;middle&#x27;;\n",
       "        context.fillText( text, width/2, height/2 );\n",
       "\n",
       "        var texture = new THREE.Texture( canvas );\n",
       "        texture.needsUpdate = true;\n",
       "\n",
       "        var materialOptions = { map: texture, sizeAttenuation: false, depthWrite: false };\n",
       "        if ( opacity &lt; 1 ) {\n",
       "            // Setting opacity=1 would cause the texture&#x27;s alpha component to be\n",
       "            // discarded, giving the text a black background instead of the\n",
       "            // background being transparent.\n",
       "            materialOptions.opacity = opacity;\n",
       "        }\n",
       "        var sprite = new THREE.Sprite( new THREE.SpriteMaterial( materialOptions ) );\n",
       "        sprite.position.set( x, y, z );\n",
       "\n",
       "        // Scaling factor, chosen somewhat arbitrarily so that the size of the text\n",
       "        // is consistent with previously generated plots.\n",
       "        var scale = 1/625;\n",
       "        if ( options.projection === &#x27;orthographic&#x27; ) {\n",
       "            scale = midToCorner/256; // Needs to scale along with the plot itself.\n",
       "        }\n",
       "        sprite.scale.set( scale * width, scale * height, 1 );\n",
       "\n",
       "        scene.add( sprite );\n",
       "\n",
       "        return sprite;\n",
       "\n",
       "    }\n",
       "\n",
       "    if ( options.axes ) scene.add( new THREE.AxesHelper( Math.min( a[0]*b[1].x, a[1]*b[1].y, a[2]*b[1].z ) ) );\n",
       "\n",
       "    var camera = createCamera();\n",
       "    camera.up.set( 0, 0, 1 );\n",
       "    camera.position.set( a[0]*xMid, a[1]*yMid, a[2]*zMid );\n",
       "\n",
       "    // camera is positioned so that the line from the camera to the center\n",
       "    // of the bounding sphere of the objects makes an angle of 60 degrees with x-axis\n",
       "    // and an angle of 30 degrees with z-axis and the field of view of the camera looking\n",
       "    // at the center has an angle of 45 degrees.\n",
       "    const sin8 = Math.sin(Math.PI / 8);\n",
       "    const sin5 = Math.sin(Math.PI / 5);\n",
       "    const cos5 = Math.cos(Math.PI / 5);\n",
       "    const sin3 = Math.sin(Math.PI / 3);\n",
       "    const cos3 = Math.cos(Math.PI / 3);\n",
       "    var r = midToCorner / sin8;\n",
       "    var offset = new THREE.Vector3( r * sin3 * cos5, r * sin3 * sin5, r * cos3 );\n",
       "\n",
       "    if ( options.viewpoint ) {\n",
       "\n",
       "        var aa = options.viewpoint;\n",
       "        var axis = new THREE.Vector3( aa[0][0], aa[0][1], aa[0][2] ).normalize();\n",
       "        var angle = aa[1] * Math.PI / 180;\n",
       "        var q = new THREE.Quaternion().setFromAxisAngle( axis, angle ).inverse();\n",
       "\n",
       "        offset.set( 0, 0, offset.length() );\n",
       "        offset.applyQuaternion( q );\n",
       "\n",
       "    }\n",
       "\n",
       "    camera.position.add( offset );\n",
       "\n",
       "    function createCamera() {\n",
       "\n",
       "        var aspect = window.innerWidth / window.innerHeight;\n",
       "\n",
       "        // Scale the near and far clipping planes along with the overall plot size.\n",
       "        var nearClip = 0.01 * midToCorner;\n",
       "        var farClip = 100 * midToCorner;\n",
       "\n",
       "        if ( options.projection === &#x27;orthographic&#x27; ) {\n",
       "            var camera = new THREE.OrthographicCamera( -1, 1, 1, -1, -farClip, farClip );\n",
       "            updateCameraAspect( camera, aspect );\n",
       "            return camera;\n",
       "        }\n",
       "\n",
       "        return new THREE.PerspectiveCamera( 45, aspect, nearClip, farClip );\n",
       "\n",
       "    }\n",
       "\n",
       "    function updateCameraAspect( camera, aspect ) {\n",
       "\n",
       "        if ( camera.isPerspectiveCamera ) {\n",
       "            camera.aspect = aspect;\n",
       "        } else if ( camera.isOrthographicCamera ) {\n",
       "            // Fit the camera frustum to the bounding box&#x27;s diagonal so that the entire plot fits\n",
       "            // within at the default zoom level and camera position.\n",
       "            if ( aspect &gt; 1 ) { // Wide window\n",
       "                camera.top = midToCorner;\n",
       "                camera.right = midToCorner * aspect;\n",
       "            } else { // Tall or square window\n",
       "                camera.top = midToCorner / aspect;\n",
       "                camera.right = midToCorner;\n",
       "            }\n",
       "            camera.bottom = -camera.top;\n",
       "            camera.left = -camera.right;\n",
       "        }\n",
       "\n",
       "        camera.updateProjectionMatrix();\n",
       "\n",
       "    }\n",
       "\n",
       "    var lights = [{&quot;x&quot;:-5, &quot;y&quot;:3, &quot;z&quot;:0, &quot;color&quot;:&quot;#7f7f7f&quot;, &quot;parent&quot;:&quot;camera&quot;}];\n",
       "    for ( var i=0 ; i &lt; lights.length ; i++ ) {\n",
       "        var light = new THREE.DirectionalLight( lights[i].color, 1 );\n",
       "        light.position.set( a[0]*lights[i].x, a[1]*lights[i].y, a[2]*lights[i].z );\n",
       "        if ( lights[i].parent === &#x27;camera&#x27; ) {\n",
       "            light.target.position.set( a[0]*xMid, a[1]*yMid, a[2]*zMid );\n",
       "            scene.add( light.target );\n",
       "            camera.add( light );\n",
       "        } else scene.add( light );\n",
       "    }\n",
       "    scene.add( camera );\n",
       "\n",
       "    var ambient = {&quot;color&quot;:&quot;#7f7f7f&quot;};\n",
       "    scene.add( new THREE.AmbientLight( ambient.color, 1 ) );\n",
       "\n",
       "    var controls = new THREE.OrbitControls( camera, renderer.domElement );\n",
       "    controls.target.set( a[0]*xMid, a[1]*yMid, a[2]*zMid );\n",
       "    controls.addEventListener( &#x27;change&#x27;, function() { if ( !animate ) render(); } );\n",
       "\n",
       "    window.addEventListener( &#x27;resize&#x27;, function() {\n",
       "\n",
       "        renderer.setSize( window.innerWidth, window.innerHeight );\n",
       "        updateCameraAspect( camera, window.innerWidth / window.innerHeight );\n",
       "        if ( window.rescaleFatLines ) rescaleFatLines();\n",
       "        if ( !animate ) render();\n",
       "\n",
       "    } );\n",
       "\n",
       "    var texts = [];\n",
       "    for ( var i=0 ; i &lt; texts.length ; i++ ) addText( texts[i] );\n",
       "\n",
       "    function addText( json ) {\n",
       "        var sprite = addLabel( json.text, a[0]*json.x, a[1]*json.y, a[2]*json.z, json );\n",
       "        sprite.userData = json;\n",
       "    }\n",
       "\n",
       "    var points = [];\n",
       "    for ( var i=0 ; i &lt; points.length ; i++ ) addPoint( points[i] );\n",
       "\n",
       "    function addPoint( json ) {\n",
       "\n",
       "        var geometry = new THREE.Geometry();\n",
       "        var v = json.point;\n",
       "        geometry.vertices.push( new THREE.Vector3( a[0]*v[0], a[1]*v[1], a[2]*v[2] ) );\n",
       "\n",
       "        var canvas = document.createElement( &#x27;canvas&#x27; );\n",
       "        canvas.width = 128;\n",
       "        canvas.height = 128;\n",
       "\n",
       "        var context = canvas.getContext( &#x27;2d&#x27; );\n",
       "        context.arc( 64, 64, 64, 0, 2 * Math.PI );\n",
       "        context.fillStyle = json.color;\n",
       "        context.fill();\n",
       "\n",
       "        var texture = new THREE.Texture( canvas );\n",
       "        texture.needsUpdate = true;\n",
       "\n",
       "        var transparent = json.opacity &lt; 1 ? true : false;\n",
       "        var size = camera.isOrthographicCamera ? json.size : json.size/100;\n",
       "        var material = new THREE.PointsMaterial( { size: size, map: texture,\n",
       "                                                   transparent: transparent, opacity: json.opacity,\n",
       "                                                   alphaTest: .1 } );\n",
       "\n",
       "        var c = new THREE.Vector3();\n",
       "        geometry.computeBoundingBox();\n",
       "        geometry.boundingBox.getCenter( c );\n",
       "        geometry.translate( -c.x, -c.y, -c.z );\n",
       "\n",
       "        var mesh = new THREE.Points( geometry, material );\n",
       "        mesh.position.set( c.x, c.y, c.z );\n",
       "        mesh.userData = json;\n",
       "        scene.add( mesh );\n",
       "\n",
       "    }\n",
       "\n",
       "    var lines = [];\n",
       "    for ( var i=0 ; i &lt; lines.length ; i++ ) addLine( lines[i] );\n",
       "\n",
       "    function addLine( json ) {\n",
       "\n",
       "        var geometry = new THREE.Geometry();\n",
       "        for ( var i=0 ; i &lt; json.points.length ; i++ ) {\n",
       "            var v = json.points[i];\n",
       "            geometry.vertices.push( new THREE.Vector3( a[0]*v[0], a[1]*v[1], a[2]*v[2] ) );\n",
       "        }\n",
       "\n",
       "        var c = new THREE.Vector3();\n",
       "        geometry.computeBoundingBox();\n",
       "        geometry.boundingBox.getCenter( c );\n",
       "        geometry.translate( -c.x, -c.y, -c.z );\n",
       "\n",
       "        var transparent = json.opacity &lt; 1 ? true : false;\n",
       "        var materialOptions = { color: json.color, linewidth: json.linewidth,\n",
       "                                transparent: transparent, opacity: json.opacity };\n",
       "\n",
       "        var mesh;\n",
       "        if ( json.linewidth &gt; 1 &amp;&amp; window.createFatLineStrip ) {\n",
       "            mesh = createFatLineStrip( geometry, materialOptions );\n",
       "        } else {\n",
       "            var material = new THREE.LineBasicMaterial( materialOptions );\n",
       "            mesh = new THREE.Line( geometry, material );\n",
       "        }\n",
       "\n",
       "        mesh.position.set( c.x, c.y, c.z );\n",
       "        mesh.userData = json;\n",
       "        scene.add( mesh );\n",
       "\n",
       "    }\n",
       "\n",
       "    var surfaces = [{&quot;vertices&quot;: [{&quot;x&quot;: 4.0, &quot;y&quot;: 0.0, &quot;z&quot;: 0.0}, {&quot;x&quot;: 3.9482010505516514, &quot;y&quot;: 0.641645123431041, &quot;z&quot;: 0.0}, {&quot;x&quot;: 3.9354190088873113, &quot;y&quot;: 0.639567839474017, &quot;z&quot;: 0.16041128085776024}, {&quot;x&quot;: 3.9870502626379127, &quot;y&quot;: 0.0, &quot;z&quot;: 0.16041128085776024}, {&quot;x&quot;: 3.794145767788582, &quot;y&quot;: 1.26667197520589, &quot;z&quot;: 0.0}, {&quot;x&quot;: 3.7818624699869976, &quot;y&quot;: 1.2625712078551818, &quot;z&quot;: 0.16041128085776024}, {&quot;x&quot;: 3.5418241026128396, &quot;y&quot;: 1.858892688175074, &quot;z&quot;: 0.0}, {&quot;x&quot;: 3.530357679634953, &quot;y&quot;: 1.8528746451510312, &quot;z&quot;: 0.16041128085776024}, {&quot;x&quot;: 3.1977710536140047, &quot;y&quot;: 2.4029690569519153, &quot;z&quot;: 0.0}, {&quot;x&quot;: 3.187418479791908, &quot;y&quot;: 2.395189602407728, &quot;z&quot;: 0.16041128085776024}, {&quot;x&quot;: 2.770897414038398, &quot;y&quot;: 2.884809789375258, &quot;z&quot;: 0.0}, {&quot;x&quot;: 2.761926815596127, &quot;y&quot;: 2.8754704070972608, &quot;z&quot;: 0.16041128085776024}, {&quot;x&quot;: 2.2722589869246237, &quot;y&quot;: 3.291935463574625, &quot;z&quot;: 0.0}, {&quot;x&quot;: 2.2649026976497946, &quot;y&quot;: 3.281278038658067, &quot;z&quot;: 0.16041128085776024}, {&quot;x&quot;: 1.7147702456122178, &quot;y&quot;: 3.6138017384415284, &quot;z&quot;: 0.0}, {&quot;x&quot;: 1.7092187895329678, &quot;y&quot;: 3.6021022925936603, &quot;z&quot;: 0.16041128085776024}, {&quot;x&quot;: 1.1128698556658119, &quot;y&quot;: 3.842072446525489, &quot;z&quot;: 0.0}, {&quot;x&quot;: 1.1092670125785478, &quot;y&quot;: 3.8296339892483346, &quot;z&quot;: 0.16041128085776024}, {&quot;x&quot;: 0.4821467210212938, &quot;y&quot;: 3.970835496392216, &quot;z&quot;: 0.0}, {&quot;x&quot;: 0.48058580266948947, &quot;y&quot;: 3.957980177195633, &quot;z&quot;: 0.16041128085776024}, {&quot;x&quot;: -0.16106376043765872, &quot;y&quot;: 3.996755992686279, &quot;z&quot;: 0.0}, {&quot;x&quot;: -0.16054232708860425, &quot;y&quot;: 3.98381675758487, &quot;z&quot;: 0.16041128085776024}, {&quot;x&quot;: -0.8001027751041756, &quot;y&quot;: 3.919162608169071, &quot;z&quot;: 0.0}, {&quot;x&quot;: -0.7975124949041066, &quot;y&quot;: 3.9064745765552957, &quot;z&quot;: 0.16041128085776024}, {&quot;x&quot;: -1.4184195481701403, &quot;y&quot;: 3.74006497074166, &quot;z&quot;: 0.0}, {&quot;x&quot;: -1.4138275080156268, &quot;y&quot;: 3.7279567559695983, &quot;z&quot;: 0.16041128085776024}, {&quot;x&quot;: -1.9999999999999978, &quot;y&quot;: 3.464101615137756, &quot;z&quot;: 0.0}, {&quot;x&quot;: -1.9935251313189541, &quot;y&quot;: 3.4528868136098523, &quot;z&quot;: 0.16041128085776024}, {&quot;x&quot;: -2.5297815023815073, &quot;y&quot;: 3.0984198473106197, &quot;z&quot;: 0.0}, {&quot;x&quot;: -2.5215915008716805, &quot;y&quot;: 3.088388916495582, &quot;z&quot;: 0.16041128085776024}, {&quot;x&quot;: -2.9940429926844034, &quot;y&quot;: 2.652490632963182, &quot;z&quot;: 0.0}, {&quot;x&quot;: -2.984349975082888, &quot;y&quot;: 2.6439033687001148, &quot;z&quot;: 0.16041128085776024}, {&quot;x&quot;: -3.3807603421751784, &quot;y&quot;: 2.137863304511205, &quot;z&quot;: 0.0}, {&quot;x&quot;: -3.3698153525463463, &quot;y&quot;: 2.130942112433839, &quot;z&quot;: 0.16041128085776024}, {&quot;x&quot;: -3.679917774635297, &quot;y&quot;: 1.5678664394403006, &quot;z&quot;: 0.0}, {&quot;x&quot;: -3.668004282461396, &quot;y&quot;: 1.562790574787905, &quot;z&quot;: 0.16041128085776024}, {&quot;x&quot;: -3.883767269704208, &quot;y&quot;: 0.9572626571502307, &quot;z&quot;: 0.0}, {&quot;x&quot;: -3.871193828174673, &quot;y&quot;: 0.9541635821510734, &quot;z&quot;: 0.16041128085776024}, {&quot;x&quot;: -3.98702923253684, &quot;y&quot;: 0.32186627486690256, &quot;z&quot;: 0.0}, {&quot;x&quot;: -3.974121487182761, &quot;y&quot;: 0.3208242539355926, &quot;z&quot;: 0.16041128085776024}, {&quot;x&quot;: -3.9870292325368397, &quot;y&quot;: -0.3218662748669051, &quot;z&quot;: 0.0}, {&quot;x&quot;: -3.9741214871827606, &quot;y&quot;: -0.32082425393559516, &quot;z&quot;: 0.16041128085776024}, {&quot;x&quot;: -3.8837672697042076, &quot;y&quot;: -0.9572626571502332, &quot;z&quot;: 0.0}, {&quot;x&quot;: -3.8711938281746727, &quot;y&quot;: -0.9541635821510759, &quot;z&quot;: 0.16041128085776024}, {&quot;x&quot;: -3.6799177746352956, &quot;y&quot;: -1.5678664394403028, &quot;z&quot;: 0.0}, {&quot;x&quot;: -3.6680042824613945, &quot;y&quot;: -1.5627905747879072, &quot;z&quot;: 0.16041128085776024}, {&quot;x&quot;: -3.380760342175177, &quot;y&quot;: -2.137863304511207, &quot;z&quot;: 0.0}, {&quot;x&quot;: -3.369815352546345, &quot;y&quot;: -2.130942112433841, &quot;z&quot;: 0.16041128085776024}, {&quot;x&quot;: -2.9940429926844017, &quot;y&quot;: -2.652490632963184, &quot;z&quot;: 0.0}, {&quot;x&quot;: -2.9843499750828864, &quot;y&quot;: -2.6439033687001166, &quot;z&quot;: 0.16041128085776024}, {&quot;x&quot;: -2.529781502381505, &quot;y&quot;: -3.098419847310621, &quot;z&quot;: 0.0}, {&quot;x&quot;: -2.5215915008716783, &quot;y&quot;: -3.088388916495583, &quot;z&quot;: 0.16041128085776024}, {&quot;x&quot;: -1.9999999999999953, &quot;y&quot;: -3.464101615137757, &quot;z&quot;: 0.0}, {&quot;x&quot;: -1.9935251313189517, &quot;y&quot;: -3.452886813609853, &quot;z&quot;: 0.16041128085776024}, {&quot;x&quot;: -1.418419548170137, &quot;y&quot;: -3.7400649707416616, &quot;z&quot;: 0.0}, {&quot;x&quot;: -1.4138275080156235, &quot;y&quot;: -3.7279567559695996, &quot;z&quot;: 0.16041128085776024}, {&quot;x&quot;: -0.8001027751041714, &quot;y&quot;: -3.919162608169072, &quot;z&quot;: 0.0}, {&quot;x&quot;: -0.7975124949041024, &quot;y&quot;: -3.9064745765552966, &quot;z&quot;: 0.16041128085776024}, {&quot;x&quot;: -0.16106376043765347, &quot;y&quot;: -3.996755992686279, &quot;z&quot;: 0.0}, {&quot;x&quot;: -0.16054232708859903, &quot;y&quot;: -3.98381675758487, &quot;z&quot;: 0.16041128085776024}, {&quot;x&quot;: 0.48214672102129985, &quot;y&quot;: -3.970835496392215, &quot;z&quot;: 0.0}, {&quot;x&quot;: 0.4805858026694955, &quot;y&quot;: -3.957980177195632, &quot;z&quot;: 0.16041128085776024}, {&quot;x&quot;: 1.1128698556658185, &quot;y&quot;: -3.8420724465254867, &quot;z&quot;: 0.0}, {&quot;x&quot;: 1.1092670125785544, &quot;y&quot;: -3.8296339892483324, &quot;z&quot;: 0.16041128085776024}, {&quot;x&quot;: 1.714770245612225, &quot;y&quot;: -3.6138017384415253, &quot;z&quot;: 0.0}, {&quot;x&quot;: 1.709218789532975, &quot;y&quot;: -3.602102292593657, &quot;z&quot;: 0.16041128085776024}, {&quot;x&quot;: 2.2722589869246312, &quot;y&quot;: -3.29193546357462, &quot;z&quot;: 0.0}, {&quot;x&quot;: 2.264902697649802, &quot;y&quot;: -3.281278038658062, &quot;z&quot;: 0.16041128085776024}, {&quot;x&quot;: 2.770897414038405, &quot;y&quot;: -2.884809789375251, &quot;z&quot;: 0.0}, {&quot;x&quot;: 2.761926815596134, &quot;y&quot;: -2.875470407097254, &quot;z&quot;: 0.16041128085776024}, {&quot;x&quot;: 3.197771053614011, &quot;y&quot;: -2.402969056951907, &quot;z&quot;: 0.0}, {&quot;x&quot;: 3.1874184797919143, &quot;y&quot;: -2.3951896024077195, &quot;z&quot;: 0.16041128085776024}, {&quot;x&quot;: 3.541824102612845, &quot;y&quot;: -1.858892688175064, &quot;z&quot;: 0.0}, {&quot;x&quot;: 3.5303576796349585, &quot;y&quot;: -1.8528746451510212, &quot;z&quot;: 0.16041128085776024}, {&quot;x&quot;: 3.794145767788586, &quot;y&quot;: -1.2666719752058786, &quot;z&quot;: 0.0}, {&quot;x&quot;: 3.7818624699870016, &quot;y&quot;: -1.2625712078551705, &quot;z&quot;: 0.16041128085776024}, {&quot;x&quot;: 3.9482010505516536, &quot;y&quot;: -0.6416451234310285, &quot;z&quot;: 0.0}, {&quot;x&quot;: 3.9354190088873136, &quot;y&quot;: -0.6395678394740045, &quot;z&quot;: 0.16041128085776024}, {&quot;x&quot;: 4.0, &quot;y&quot;: -9.797174393178826e-16, &quot;z&quot;: 0.0}, {&quot;x&quot;: 3.9870502626379127, &quot;y&quot;: -9.765456684358267e-16, &quot;z&quot;: 0.16041128085776024}, {&quot;x&quot;: 3.8974039320592997, &quot;y&quot;: 0.6333897881662849, &quot;z&quot;: 0.3166679938014725}, {&quot;x&quot;: 3.9485364419471454, &quot;y&quot;: 0.0, &quot;z&quot;: 0.3166679938014725}, {&quot;x&quot;: 3.7453307075431868, &quot;y&quot;: 1.250375113523407, &quot;z&quot;: 0.3166679938014725}, {&quot;x&quot;: 3.4962553850333857, &quot;y&quot;: 1.8349763802320929, &quot;z&quot;: 0.3166679938014725}, {&quot;x&quot;: 3.156628884549654, &quot;y&quot;: 2.372052722561501, &quot;z&quot;: 0.3166679938014725}, {&quot;x&quot;: 2.7352473540569306, &quot;y&quot;: 2.8476941453585187, &quot;z&quot;: 0.3166679938014725}, {&quot;x&quot;: 2.243024353853445, &quot;y&quot;: 3.249581785615644, &quot;z&quot;: 0.3166679938014725}, {&quot;x&quot;: 1.6927082010916248, &quot;y&quot;: 3.5673069645520803, &quot;z&quot;: 0.3166679938014725}, {&quot;x&quot;: 1.0985517950602295, &quot;y&quot;: 3.7926407669267297, &quot;z&quot;: 0.3166679938014725}, {&quot;x&quot;: 0.4759434745794756, &quot;y&quot;: 3.9197471656204868, &quot;z&quot;: 0.3166679938014725}, {&quot;x&quot;: -0.1589915318912851, &quot;y&quot;: 3.9453341716731027, &quot;z&quot;: 0.3166679938014725}, {&quot;x&quot;: -0.7898087412004696, &quot;y&quot;: 3.8687390950680496, &quot;z&quot;: 0.3166679938014725}, {&quot;x&quot;: -1.4001703189800008, &quot;y&quot;: 3.6919457080558575, &quot;z&quot;: 0.3166679938014725}, {&quot;x&quot;: -1.9742682209735705, &quot;y&quot;: 3.419532866494849, &quot;z&quot;: 0.3166679938014725}, {&quot;x&quot;: -2.4972336130792954, &quot;y&quot;: 3.058555919889573, &quot;z&quot;: 0.3166679938014725}, {&quot;x&quot;: -2.9555219663427144, &quot;y&quot;: 2.618363981544644, &quot;z&quot;: 0.3166679938014725}, {&quot;x&quot;: -3.337263853142098, &quot;y&quot;: 2.11035779144101, &quot;z&quot;: 0.3166679938014725}, {&quot;x&quot;: -3.632572359129128, &quot;y&quot;: 1.547694443058986, &quot;z&quot;: 0.3166679938014725}, {&quot;x&quot;: -3.833799149117158, &quot;y&quot;: 0.9449466215682105, &quot;z&quot;: 0.3166679938014725}, {&quot;x&quot;: -3.9357325549450684, &quot;y&quot;: 0.3177251789364353, &quot;z&quot;: 0.3166679938014725}, {&quot;x&quot;: -3.935732554945068, &quot;y&quot;: -0.31772517893643787, &quot;z&quot;: 0.3166679938014725}, {&quot;x&quot;: -3.8337991491171577, &quot;y&quot;: -0.944946621568213, &quot;z&quot;: 0.3166679938014725}, {&quot;x&quot;: -3.6325723591291266, &quot;y&quot;: -1.547694443058988, &quot;z&quot;: 0.3166679938014725}, {&quot;x&quot;: -3.337263853142097, &quot;y&quot;: -2.1103577914410123, &quot;z&quot;: 0.3166679938014725}, {&quot;x&quot;: -2.9555219663427126, &quot;y&quot;: -2.6183639815446456, &quot;z&quot;: 0.3166679938014725}, {&quot;x&quot;: -2.497233613079293, &quot;y&quot;: -3.0585559198895744, &quot;z&quot;: 0.3166679938014725}, {&quot;x&quot;: -1.974268220973568, &quot;y&quot;: -3.41953286649485, &quot;z&quot;: 0.3166679938014725}, {&quot;x&quot;: -1.4001703189799974, &quot;y&quot;: -3.691945708055859, &quot;z&quot;: 0.3166679938014725}, {&quot;x&quot;: -0.7898087412004655, &quot;y&quot;: -3.8687390950680505, &quot;z&quot;: 0.3166679938014725}, {&quot;x&quot;: -0.1589915318912799, &quot;y&quot;: -3.9453341716731027, &quot;z&quot;: 0.3166679938014725}, {&quot;x&quot;: 0.47594347457948155, &quot;y&quot;: -3.919747165620486, &quot;z&quot;: 0.3166679938014725}, {&quot;x&quot;: 1.0985517950602361, &quot;y&quot;: -3.7926407669267275, &quot;z&quot;: 0.3166679938014725}, {&quot;x&quot;: 1.6927082010916317, &quot;y&quot;: -3.567306964552077, &quot;z&quot;: 0.3166679938014725}, {&quot;x&quot;: 2.243024353853452, &quot;y&quot;: -3.2495817856156393, &quot;z&quot;: 0.3166679938014725}, {&quot;x&quot;: 2.7352473540569373, &quot;y&quot;: -2.847694145358512, &quot;z&quot;: 0.3166679938014725}, {&quot;x&quot;: 3.15662888454966, &quot;y&quot;: -2.3720527225614925, &quot;z&quot;: 0.3166679938014725}, {&quot;x&quot;: 3.496255385033391, &quot;y&quot;: -1.8349763802320829, &quot;z&quot;: 0.3166679938014725}, {&quot;x&quot;: 3.7453307075431908, &quot;y&quot;: -1.2503751135233956, &quot;z&quot;: 0.3166679938014725}, {&quot;x&quot;: 3.897403932059302, &quot;y&quot;: -0.6333897881662726, &quot;z&quot;: 0.3166679938014725}, {&quot;x&quot;: 3.9485364419471454, &quot;y&quot;: -9.671125029894501e-16, &quot;z&quot;: 0.3166679938014725}, {&quot;x&quot;: 3.835140390589062, &quot;y&quot;: 0.623270977791534, &quot;z&quot;: 0.4647231720437685}, {&quot;x&quot;: 3.88545602565321, &quot;y&quot;: 0.0, &quot;z&quot;: 0.4647231720437685}, {&quot;x&quot;: 3.6854966339151924, &quot;y&quot;: 1.2303995646474446, &quot;z&quot;: 0.4647231720437685}, {&quot;x&quot;: 3.4404004503252077, &quot;y&quot;: 1.8056614490781335, &quot;z&quot;: 0.4647231720437685}, {&quot;x&quot;: 3.106199702230987, &quot;y&quot;: 2.3341576504480077, &quot;z&quot;: 0.4647231720437685}, {&quot;x&quot;: 2.6915500134605974, &quot;y&quot;: 2.8022003947478655, &quot;z&quot;: 0.4647231720437685}, {&quot;x&quot;: 2.2071905931477342, &quot;y&quot;: 3.1976676207518797, &quot;z&quot;: 0.4647231720437685}, {&quot;x&quot;: 1.6656660958562066, &quot;y&quot;: 3.5103169350359202, &quot;z&quot;: 0.4647231720437685}, {&quot;x&quot;: 1.0810017216161367, &quot;y&quot;: 3.732050884587158, &quot;z&quot;: 0.4647231720437685}, {&quot;x&quot;: 0.46833997061028076, &quot;y&quot;: 3.8571266765836976, &quot;z&quot;: 0.4647231720437685}, {&quot;x&quot;: -0.15645153962671654, &quot;y&quot;: 3.8823049137121197, &quot;z&quot;: 0.4647231720437685}, {&quot;x&quot;: -0.7771910371675935, &quot;y&quot;: 3.806933492856317, &quot;z&quot;: 0.4647231720437685}, {&quot;x&quot;: -1.3778016950854937, &quot;y&quot;: 3.63296449422567, &quot;z&quot;: 0.4647231720437685}, {&quot;x&quot;: -1.9427280128266027, &quot;y&quot;: 3.3649036235030025, &quot;z&quot;: 0.4647231720437685}, {&quot;x&quot;: -2.4573386955035645, &quot;y&quot;: 3.0096935164341363, &quot;z&quot;: 0.4647231720437685}, {&quot;x&quot;: -2.908305596747596, &quot;y&quot;: 2.5765339282088733, &quot;z&quot;: 0.4647231720437685}, {&quot;x&quot;: -3.2839489106984887, &quot;y&quot;: 2.076643464633986, &quot;z&quot;: 0.4647231720437685}, {&quot;x&quot;: -3.5745396728412664, &quot;y&quot;: 1.5229690261356899, &quot;z&quot;: 0.4647231720437685}, {&quot;x&quot;: -3.7725517350767324, &quot;y&quot;: 0.9298504898392916, &quot;z&quot;: 0.4647231720437685}, {&quot;x&quot;: -3.8728566890039398, &quot;y&quot;: 0.3126493142840397, &quot;z&quot;: 0.4647231720437685}, {&quot;x&quot;: -3.8728566890039393, &quot;y&quot;: -0.3126493142840422, &quot;z&quot;: 0.4647231720437685}, {&quot;x&quot;: -3.772551735076732, &quot;y&quot;: -0.9298504898392941, &quot;z&quot;: 0.4647231720437685}, {&quot;x&quot;: -3.574539672841265, &quot;y&quot;: -1.5229690261356919, &quot;z&quot;: 0.4647231720437685}, {&quot;x&quot;: -3.2839489106984874, &quot;y&quot;: -2.0766434646339884, &quot;z&quot;: 0.4647231720437685}, {&quot;x&quot;: -2.9083055967475944, &quot;y&quot;: -2.5765339282088746, &quot;z&quot;: 0.4647231720437685}, {&quot;x&quot;: -2.4573386955035623, &quot;y&quot;: -3.0096935164341376, &quot;z&quot;: 0.4647231720437685}, {&quot;x&quot;: -1.9427280128266005, &quot;y&quot;: -3.3649036235030034, &quot;z&quot;: 0.4647231720437685}, {&quot;x&quot;: -1.3778016950854906, &quot;y&quot;: -3.6329644942256714, &quot;z&quot;: 0.4647231720437685}, {&quot;x&quot;: -0.7771910371675894, &quot;y&quot;: -3.8069334928563174, &quot;z&quot;: 0.4647231720437685}, {&quot;x&quot;: -0.15645153962671143, &quot;y&quot;: -3.8823049137121197, &quot;z&quot;: 0.4647231720437685}, {&quot;x&quot;: 0.46833997061028665, &quot;y&quot;: -3.8571266765836967, &quot;z&quot;: 0.4647231720437685}, {&quot;x&quot;: 1.0810017216161432, &quot;y&quot;: -3.7320508845871556, &quot;z&quot;: 0.4647231720437685}, {&quot;x&quot;: 1.6656660958562135, &quot;y&quot;: -3.510316935035917, &quot;z&quot;: 0.4647231720437685}, {&quot;x&quot;: 2.207190593147742, &quot;y&quot;: -3.197667620751875, &quot;z&quot;: 0.4647231720437685}, {&quot;x&quot;: 2.6915500134606045, &quot;y&quot;: -2.8022003947478593, &quot;z&quot;: 0.4647231720437685}, {&quot;x&quot;: 3.106199702230993, &quot;y&quot;: -2.3341576504479993, &quot;z&quot;: 0.4647231720437685}, {&quot;x&quot;: 3.4404004503252126, &quot;y&quot;: -1.805661449078124, &quot;z&quot;: 0.4647231720437685}, {&quot;x&quot;: 3.6854966339151964, &quot;y&quot;: -1.2303995646474335, &quot;z&quot;: 0.4647231720437685}, {&quot;x&quot;: 3.8351403905890638, &quot;y&quot;: -0.6232709777915219, &quot;z&quot;: 0.4647231720437685}, {&quot;x&quot;: 3.88545602565321, &quot;y&quot;: -9.516622570088e-16, &quot;z&quot;: 0.4647231720437685}, {&quot;x&quot;: 3.7502409774951433, &quot;y&quot;: 0.6094734802233037, &quot;z&quot;: 0.6007422642379788}, {&quot;x&quot;: 3.7994427634035013, &quot;y&quot;: 0.0, &quot;z&quot;: 0.6007422642379788}, {&quot;x&quot;: 3.603909920180587, &quot;y&quot;: 1.2031619174505095, &quot;z&quot;: 0.6007422642379788}, {&quot;x&quot;: 3.3642394889801133, &quot;y&quot;: 1.7656890930076166, &quot;z&quot;: 0.6007422642379788}, {&quot;x&quot;: 3.03743702216873, &quot;y&quot;: 2.2824858485296224, &quot;z&quot;: 0.6007422642379788}, {&quot;x&quot;: 2.6319665319754164, &quot;y&quot;: 2.7401674195093504, &quot;z&quot;: 0.6007422642379788}, {&quot;x&quot;: 2.158329491112333, &quot;y&quot;: 3.1268800936674896, &quot;z&quot;: 0.6007422642379788}, {&quot;x&quot;: 1.6287928501477464, &quot;y&quot;: 3.4326082158741644, &quot;z&quot;: 0.6007422642379788}, {&quot;x&quot;: 1.057071329929842, &quot;y&quot;: 3.6494335883558136, &quot;z&quot;: 0.6007422642379788}, {&quot;x&quot;: 0.4579722175207704, &quot;y&quot;: 3.771740547858289, &quot;z&quot;: 0.6007422642379788}, {&quot;x&quot;: -0.1529881347603544, &quot;y&quot;: 3.7963614083753647, &quot;z&quot;: 0.6007422642379788}, {&quot;x&quot;: -0.7599861747121548, &quot;y&quot;: 3.722658502552392, &quot;z&quot;: 0.6007422642379788}, {&quot;x&quot;: -1.3473009719412758, &quot;y&quot;: 3.552540696935832, &quot;z&quot;: 0.6007422642379788}, {&quot;x&quot;: -1.8997213817017486, &quot;y&quot;: 3.290413953332382, &quot;z&quot;: 0.6007422642379788}, {&quot;x&quot;: -2.4029400055538637, &quot;y&quot;: 2.943067216712529, &quot;z&quot;: 0.6007422642379788}, {&quot;x&quot;: -2.84392374546843, &quot;y&quot;: 2.5194965851018836, &quot;z&quot;: 0.6007422642379788}, {&quot;x&quot;: -3.2112513542197565, &quot;y&quot;: 2.0306723153677484, &quot;z&quot;: 0.6007422642379788}, {&quot;x&quot;: -3.495409239689499, &quot;y&quot;: 1.489254699328666, &quot;z&quot;: 0.6007422642379788}, {&quot;x&quot;: -3.689037861905257, &quot;y&quot;: 0.9092661688464627, &quot;z&quot;: 0.6007422642379788}, {&quot;x&quot;: -3.787122341260078, &quot;y&quot;: 0.3057281222066738, &quot;z&quot;: 0.6007422642379788}, {&quot;x&quot;: -3.7871223412600776, &quot;y&quot;: -0.3057281222066762, &quot;z&quot;: 0.6007422642379788}, {&quot;x&quot;: -3.6890378619052564, &quot;y&quot;: -0.909266168846465, &quot;z&quot;: 0.6007422642379788}, {&quot;x&quot;: -3.4954092396894976, &quot;y&quot;: -1.4892546993286682, &quot;z&quot;: 0.6007422642379788}, {&quot;x&quot;: -3.211251354219755, &quot;y&quot;: -2.0306723153677506, &quot;z&quot;: 0.6007422642379788}, {&quot;x&quot;: -2.843923745468428, &quot;y&quot;: -2.5194965851018853, &quot;z&quot;: 0.6007422642379788}, {&quot;x&quot;: -2.402940005553862, &quot;y&quot;: -2.9430672167125302, &quot;z&quot;: 0.6007422642379788}, {&quot;x&quot;: -1.8997213817017462, &quot;y&quot;: -3.290413953332383, &quot;z&quot;: 0.6007422642379788}, {&quot;x&quot;: -1.3473009719412727, &quot;y&quot;: -3.5525406969358335, &quot;z&quot;: 0.6007422642379788}, {&quot;x&quot;: -0.7599861747121508, &quot;y&quot;: -3.722658502552393, &quot;z&quot;: 0.6007422642379788}, {&quot;x&quot;: -0.1529881347603494, &quot;y&quot;: -3.7963614083753647, &quot;z&quot;: 0.6007422642379788}, {&quot;x&quot;: 0.4579722175207761, &quot;y&quot;: -3.771740547858288, &quot;z&quot;: 0.6007422642379788}, {&quot;x&quot;: 1.0570713299298482, &quot;y&quot;: -3.6494335883558118, &quot;z&quot;: 0.6007422642379788}, {&quot;x&quot;: 1.628792850147753, &quot;y&quot;: -3.4326082158741613, &quot;z&quot;: 0.6007422642379788}, {&quot;x&quot;: 2.1583294911123403, &quot;y&quot;: -3.126880093667485, &quot;z&quot;: 0.6007422642379788}, {&quot;x&quot;: 2.6319665319754235, &quot;y&quot;: -2.740167419509344, &quot;z&quot;: 0.6007422642379788}, {&quot;x&quot;: 3.037437022168736, &quot;y&quot;: -2.2824858485296144, &quot;z&quot;: 0.6007422642379788}, {&quot;x&quot;: 3.3642394889801186, &quot;y&quot;: -1.765689093007607, &quot;z&quot;: 0.6007422642379788}, {&quot;x&quot;: 3.603909920180591, &quot;y&quot;: -1.2031619174504986, &quot;z&quot;: 0.6007422642379788}, {&quot;x&quot;: 3.7502409774951455, &quot;y&quot;: -0.609473480223292, &quot;z&quot;: 0.6007422642379788}, {&quot;x&quot;: 3.7994427634035013, &quot;y&quot;: -9.305950837491345e-16, &quot;z&quot;: 0.6007422642379788}, {&quot;x&quot;: 3.644904542981067, &quot;y&quot;: 0.5923546434011194, &quot;z&quot;: 0.7212024473438144}, {&quot;x&quot;: 3.6927243535095995, &quot;y&quot;: 0.0, &quot;z&quot;: 0.7212024473438144}, {&quot;x&quot;: 3.5026836193695687, &quot;y&quot;: 1.1693676126877244, &quot;z&quot;: 0.7212024473438144}, {&quot;x&quot;: 3.269745029891429, &quot;y&quot;: 1.7160945750462555, &quot;z&quot;: 0.7212024473438144}, {&quot;x&quot;: 2.9521217616571214, &quot;y&quot;: 2.2183755893340833, &quot;z&quot;: 0.7212024473438144}, {&quot;x&quot;: 2.558040090474091, &quot;y&quot;: 2.6632018411172282, &quot;z&quot;: 0.7212024473438144}, {&quot;x&quot;: 2.097706524624402, &quot;y&quot;: 3.0390525641309827, &quot;z&quot;: 0.7212024473438144}, {&quot;x&quot;: 1.5830434616614686, &quot;y&quot;: 3.33619342207459, &quot;z&quot;: 0.7212024473438144}, {&quot;x&quot;: 1.027380404575964, &quot;y&quot;: 3.5469286228082204, &quot;z&quot;: 0.7212024473438144}, {&quot;x&quot;: 0.4451087346700326, &quot;y&quot;: 3.6658002353269787, &quot;z&quot;: 0.7212024473438144}, {&quot;x&quot;: -0.14869101765899456, &quot;y&quot;: 3.689729547307014, &quot;z&quot;: 0.7212024473438144}, {&quot;x&quot;: -0.7386397507344509, &quot;y&quot;: 3.6180968021375324, &quot;z&quot;: 0.7212024473438144}, {&quot;x&quot;: -1.3094581022554899, &quot;y&quot;: 3.4527572502914743, &quot;z&quot;: 0.7212024473438144}, {&quot;x&quot;: -1.8463621767547977, &quot;y&quot;: 3.1979930993127823, &quot;z&quot;: 0.7212024473438144}, {&quot;x&quot;: -2.335446440725574, &quot;y&quot;: 2.860402606890355, &quot;z&quot;: 0.7212024473438144}, {&quot;x&quot;: -2.764043868635115, &quot;y&quot;: 2.448729189449809, &quot;z&quot;: 0.7212024473438144}, {&quot;x&quot;: -3.121054012232432, &quot;y&quot;: 1.973634972260759, &quot;z&quot;: 0.7212024473438144}, {&quot;x&quot;: -3.3972304963271527, &quot;y&quot;: 1.4474246459928954, &quot;z&quot;: 0.7212024473438144}, {&quot;x&quot;: -3.5854204950500534, &quot;y&quot;: 0.8837267816909918, &quot;z&quot;: 0.7212024473438144}, {&quot;x&quot;: -3.6807499862858695, &quot;y&quot;: 0.29714085794360645, &quot;z&quot;: 0.7212024473438144}, {&quot;x&quot;: -3.680749986285869, &quot;y&quot;: -0.2971408579436088, &quot;z&quot;: 0.7212024473438144}, {&quot;x&quot;: -3.585420495050053, &quot;y&quot;: -0.8837267816909941, &quot;z&quot;: 0.7212024473438144}, {&quot;x&quot;: -3.3972304963271514, &quot;y&quot;: -1.4474246459928974, &quot;z&quot;: 0.7212024473438144}, {&quot;x&quot;: -3.1210540122324306, &quot;y&quot;: -1.973634972260761, &quot;z&quot;: 0.7212024473438144}, {&quot;x&quot;: -2.764043868635113, &quot;y&quot;: -2.44872918944981, &quot;z&quot;: 0.7212024473438144}, {&quot;x&quot;: -2.3354464407255717, &quot;y&quot;: -2.8604026068903563, &quot;z&quot;: 0.7212024473438144}, {&quot;x&quot;: -1.8463621767547955, &quot;y&quot;: -3.197993099312783, &quot;z&quot;: 0.7212024473438144}, {&quot;x&quot;: -1.3094581022554868, &quot;y&quot;: -3.452757250291475, &quot;z&quot;: 0.7212024473438144}, {&quot;x&quot;: -0.738639750734447, &quot;y&quot;: -3.6180968021375333, &quot;z&quot;: 0.7212024473438144}, {&quot;x&quot;: -0.14869101765898973, &quot;y&quot;: -3.689729547307014, &quot;z&quot;: 0.7212024473438144}, {&quot;x&quot;: 0.4451087346700382, &quot;y&quot;: -3.665800235326978, &quot;z&quot;: 0.7212024473438144}, {&quot;x&quot;: 1.0273804045759702, &quot;y&quot;: -3.546928622808218, &quot;z&quot;: 0.7212024473438144}, {&quot;x&quot;: 1.583043461661475, &quot;y&quot;: -3.336193422074587, &quot;z&quot;: 0.7212024473438144}, {&quot;x&quot;: 2.097706524624409, &quot;y&quot;: -3.0390525641309782, &quot;z&quot;: 0.7212024473438144}, {&quot;x&quot;: 2.5580400904740976, &quot;y&quot;: -2.663201841117222, &quot;z&quot;: 0.7212024473438144}, {&quot;x&quot;: 2.952121761657127, &quot;y&quot;: -2.2183755893340757, &quot;z&quot;: 0.7212024473438144}, {&quot;x&quot;: 3.2697450298914337, &quot;y&quot;: -1.7160945750462462, &quot;z&quot;: 0.7212024473438144}, {&quot;x&quot;: 3.5026836193695723, &quot;y&quot;: -1.169367612687714, &quot;z&quot;: 0.7212024473438144}, {&quot;x&quot;: 3.6449045429810694, &quot;y&quot;: -0.592354643401108, &quot;z&quot;: 0.7212024473438144}, {&quot;x&quot;: 3.6927243535095995, &quot;y&quot;: -9.04456611931802e-16, &quot;z&quot;: 0.7212024473438144}, {&quot;x&quot;: 3.5218592453700652, &quot;y&quot;: 0.5723578362065646, &quot;z&quot;: 0.8229838658936562}, {&quot;x&quot;: 3.5680647467311557, &quot;y&quot;: 0.0, &quot;z&quot;: 0.8229838658936562}, {&quot;x&quot;: 3.384439439501413, &quot;y&quot;: 1.129891905101114, &quot;z&quot;: 0.8229838658936562}, {&quot;x&quot;: 3.159364429913896, &quot;y&quot;: 1.6581623671584482, &quot;z&quot;: 0.8229838658936562}, {&quot;x&quot;: 2.8524635411293686, &quot;y&quot;: 2.143487294898985, &quot;z&quot;: 0.8229838658936562}, {&quot;x&quot;: 2.4716853449597327, &quot;y&quot;: 2.573297027623697, &quot;z&quot;: 0.8229838658936562}, {&quot;x&quot;: 2.0268917966721998, &quot;y&quot;: 2.936459719023676, &quot;z&quot;: 0.8229838658936562}, {&quot;x&quot;: 1.5296028155281198, &quot;y&quot;: 3.2235696461522454, &quot;z&quot;: 0.8229838658936562}, {&quot;x&quot;: 0.9926979249252432, &quot;y&quot;: 3.4271908127086803, &quot;z&quot;: 0.8229838658936562}, {&quot;x&quot;: 0.43008267950702495, &quot;y&quot;: 3.542049537436444, &quot;z&quot;: 0.8229838658936562}, {&quot;x&quot;: -0.14367148139839056, &quot;y&quot;: 3.565171039697599, &quot;z&quot;: 0.8229838658936562}, {&quot;x&quot;: -0.7137046264027438, &quot;y&quot;: 3.4959564847287483, &quot;z&quot;: 0.8229838658936562}, {&quot;x&quot;: -1.2652531964750529, &quot;y&quot;: 3.3361984931468522, &quot;z&quot;: 0.8229838658936562}, {&quot;x&quot;: -1.7840323733655759, &quot;y&quot;: 3.0900347130168715, &quot;z&quot;: 0.8229838658936562}, {&quot;x&quot;: -2.256606048895009, &quot;y&quot;: 2.763840656940288, &quot;z&quot;: 0.8229838658936562}, {&quot;x&quot;: -2.670734813098667, &quot;y&quot;: 2.366064579627635, &quot;z&quot;: 0.8229838658936562}, {&quot;x&quot;: -3.0156929485155035, &quot;y&quot;: 1.907008672539151, &quot;z&quot;: 0.8229838658936562}, {&quot;x&quot;: -3.2825462206363922, &quot;y&quot;: 1.3985622425374586, &quot;z&quot;: 0.8229838658936562}, {&quot;x&quot;: -3.464383269884974, &quot;y&quot;: 0.8538937850849828, &quot;z&quot;: 0.8229838658936562}, {&quot;x&quot;: -3.5564946122003187, &quot;y&quot;: 0.2871099271285688, &quot;z&quot;: 0.8229838658936562}, {&quot;x&quot;: -3.5564946122003183, &quot;y&quot;: -0.2871099271285711, &quot;z&quot;: 0.8229838658936562}, {&quot;x&quot;: -3.4643832698849737, &quot;y&quot;: -0.8538937850849849, &quot;z&quot;: 0.8229838658936562}, {&quot;x&quot;: -3.282546220636391, &quot;y&quot;: -1.3985622425374606, &quot;z&quot;: 0.8229838658936562}, {&quot;x&quot;: -3.015692948515502, &quot;y&quot;: -1.907008672539153, &quot;z&quot;: 0.8229838658936562}, {&quot;x&quot;: -2.6707348130986652, &quot;y&quot;: -2.3660645796276363, &quot;z&quot;: 0.8229838658936562}, {&quot;x&quot;: -2.256606048895007, &quot;y&quot;: -2.7638406569402894, &quot;z&quot;: 0.8229838658936562}, {&quot;x&quot;: -1.7840323733655736, &quot;y&quot;: -3.090034713016872, &quot;z&quot;: 0.8229838658936562}, {&quot;x&quot;: -1.26525319647505, &quot;y&quot;: -3.3361984931468536, &quot;z&quot;: 0.8229838658936562}, {&quot;x&quot;: -0.71370462640274, &quot;y&quot;: -3.4959564847287488, &quot;z&quot;: 0.8229838658936562}, {&quot;x&quot;: -0.1436714813983859, &quot;y&quot;: -3.565171039697599, &quot;z&quot;: 0.8229838658936562}, {&quot;x&quot;: 0.4300826795070304, &quot;y&quot;: -3.542049537436443, &quot;z&quot;: 0.8229838658936562}, {&quot;x&quot;: 0.9926979249252491, &quot;y&quot;: -3.427190812708678, &quot;z&quot;: 0.8229838658936562}, {&quot;x&quot;: 1.5296028155281263, &quot;y&quot;: -3.2235696461522427, &quot;z&quot;: 0.8229838658936562}, {&quot;x&quot;: 2.026891796672207, &quot;y&quot;: -2.9364597190236714, &quot;z&quot;: 0.8229838658936562}, {&quot;x&quot;: 2.471685344959739, &quot;y&quot;: -2.573297027623691, &quot;z&quot;: 0.8229838658936562}, {&quot;x&quot;: 2.8524635411293744, &quot;y&quot;: -2.1434872948989776, &quot;z&quot;: 0.8229838658936562}, {&quot;x&quot;: 3.159364429913901, &quot;y&quot;: -1.6581623671584393, &quot;z&quot;: 0.8229838658936562}, {&quot;x&quot;: 3.3844394395014166, &quot;y&quot;: -1.129891905101104, &quot;z&quot;: 0.8229838658936562}, {&quot;x&quot;: 3.521859245370067, &quot;y&quot;: -0.5723578362065534, &quot;z&quot;: 0.8229838658936562}, {&quot;x&quot;: 3.5680647467311557, &quot;y&quot;: -8.739238142469642e-16, &quot;z&quot;: 0.8229838658936562}, {&quot;x&quot;: 3.384291893237543, &quot;y&quot;: 0.5500009654421387, &quot;z&quot;: 0.9034504346103821}, {&quot;x&quot;: 3.4286925614030546, &quot;y&quot;: 0.0, &quot;z&quot;: 0.9034504346103821}, {&quot;x&quot;: 3.252239842723898, &quot;y&quot;: 1.0857571947815372, &quot;z&quot;: 0.9034504346103821}, {&quot;x&quot;: 3.035956488606673, &quot;y&quot;: 1.593392883098101, &quot;z&quot;: 0.9034504346103821}, {&quot;x&quot;: 2.7410434561490864, &quot;y&quot;: 2.0597605327131863, &quot;z&quot;: 0.9034504346103821}, {&quot;x&quot;: 2.375138837981104, &quot;y&quot;: 2.472781466473415, &quot;z&quot;: 0.9034504346103821}, {&quot;x&quot;: 1.9477193715124244, &quot;y&quot;: 2.821758659144308, &quot;z&quot;: 0.9034504346103821}, {&quot;x&quot;: 1.469854996411475, &quot;y&quot;: 3.0976537847449737, &quot;z&quot;: 0.9034504346103821}, {&quot;x&quot;: 0.9539221489827651, &quot;y&quot;: 3.2933213044433947, &quot;z&quot;: 0.9034504346103821}, {&quot;x&quot;: 0.41328321896764597, &quot;y&quot;: 3.403693532258799, &quot;z&quot;: 0.9034504346103821}, {&quot;x&quot;: -0.138059529331051, &quot;y&quot;: 3.4259118854666313, &quot;z&quot;: 0.9034504346103821}, {&quot;x&quot;: -0.685826608339407, &quot;y&quot;: 3.359400920389572, &quot;z&quot;: 0.9034504346103821}, {&quot;x&quot;: -1.2158311384399103, &quot;y&quot;: 3.2058832360865157, &quot;z&quot;: 0.9034504346103821}, {&quot;x&quot;: -1.7143462807015253, &quot;y&quot;: 2.969334859941783, &quot;z&quot;: 0.9034504346103821}, {&quot;x&quot;: -2.1684607547976293, &quot;y&quot;: 2.6558822706443777, &quot;z&quot;: 0.9034504346103821}, {&quot;x&quot;: -2.5664132343844885, &quot;y&quot;: 2.2736437256080357, &quot;z&quot;: 0.9034504346103821}, {&quot;x&quot;: -2.89789695927562, &quot;y&quot;: 1.8325190023685305, &quot;z&quot;: 0.9034504346103821}, {&quot;x&quot;: -3.154326675116731, &quot;y&quot;: 1.3439329995456128, &quot;z&quot;: 0.9034504346103821}, {&quot;x&quot;: -3.329060986963867, &quot;y&quot;: 0.8205398379699796, &quot;z&quot;: 0.9034504346103821}, {&quot;x&quot;: -3.417574367923898, &quot;y&quot;: 0.2758951256006649, &quot;z&quot;: 0.9034504346103821}, {&quot;x&quot;: -3.417574367923898, &quot;y&quot;: -0.27589512560066715, &quot;z&quot;: 0.9034504346103821}, {&quot;x&quot;: -3.3290609869638668, &quot;y&quot;: -0.8205398379699818, &quot;z&quot;: 0.9034504346103821}, {&quot;x&quot;: -3.15432667511673, &quot;y&quot;: -1.3439329995456146, &quot;z&quot;: 0.9034504346103821}, {&quot;x&quot;: -2.8978969592756187, &quot;y&quot;: -1.8325190023685323, &quot;z&quot;: 0.9034504346103821}, {&quot;x&quot;: -2.566413234384487, &quot;y&quot;: -2.273643725608037, &quot;z&quot;: 0.9034504346103821}, {&quot;x&quot;: -2.1684607547976276, &quot;y&quot;: -2.6558822706443785, &quot;z&quot;: 0.9034504346103821}, {&quot;x&quot;: -1.7143462807015233, &quot;y&quot;: -2.9693348599417835, &quot;z&quot;: 0.9034504346103821}, {&quot;x&quot;: -1.2158311384399076, &quot;y&quot;: -3.205883236086517, &quot;z&quot;: 0.9034504346103821}, {&quot;x&quot;: -0.6858266083394033, &quot;y&quot;: -3.359400920389573, &quot;z&quot;: 0.9034504346103821}, {&quot;x&quot;: -0.1380595293310465, &quot;y&quot;: -3.4259118854666313, &quot;z&quot;: 0.9034504346103821}, {&quot;x&quot;: 0.41328321896765113, &quot;y&quot;: -3.4036935322587984, &quot;z&quot;: 0.9034504346103821}, {&quot;x&quot;: 0.9539221489827707, &quot;y&quot;: -3.293321304443393, &quot;z&quot;: 0.9034504346103821}, {&quot;x&quot;: 1.469854996411481, &quot;y&quot;: -3.097653784744971, &quot;z&quot;: 0.9034504346103821}, {&quot;x&quot;: 1.947719371512431, &quot;y&quot;: -2.821758659144304, &quot;z&quot;: 0.9034504346103821}, {&quot;x&quot;: 2.37513883798111, &quot;y&quot;: -2.472781466473409, &quot;z&quot;: 0.9034504346103821}, {&quot;x&quot;: 2.7410434561490917, &quot;y&quot;: -2.059760532713179, &quot;z&quot;: 0.9034504346103821}, {&quot;x&quot;: 3.0359564886066774, &quot;y&quot;: -1.5933928830980926, &quot;z&quot;: 0.9034504346103821}, {&quot;x&quot;: 3.2522398427239017, &quot;y&quot;: -1.0857571947815277, &quot;z&quot;: 0.9034504346103821}, {&quot;x&quot;: 3.384291893237545, &quot;y&quot;: -0.5500009654421281, &quot;z&quot;: 0.9034504346103821}, {&quot;x&quot;: 3.4286925614030546, &quot;y&quot;: -8.397874741165181e-16, &quot;z&quot;: 0.9034504346103821}, {&quot;x&quot;: 3.2357654087429273, &quot;y&quot;: 0.5258630623171167, &quot;z&quot;: 0.9605181116313722}, {&quot;x&quot;: 3.278217463916453, &quot;y&quot;: 0.0, &quot;z&quot;: 0.9605181116313722}, {&quot;x&quot;: 3.109508729152307, &quot;y&quot;: 1.0381065475433742, &quot;z&quot;: 0.9605181116313722}, {&quot;x&quot;: 2.9027174068264077, &quot;y&quot;: 1.5234636184805324, &quot;z&quot;: 0.9605181116313722}, {&quot;x&quot;: 2.6207472283909867, &quot;y&quot;: 1.9693637819376546, &quot;z&quot;: 0.9605181116313722}, {&quot;x&quot;: 2.270901073355404, &quot;y&quot;: 2.3642584579017787, &quot;z&quot;: 0.9605181116313722}, {&quot;x&quot;: 1.862239773369352, &quot;y&quot;: 2.69792008169406, &quot;z&quot;: 0.9605181116313722}, {&quot;x&quot;: 1.4053474414425695, &quot;y&quot;: 2.961706992522664, &quot;z&quot;: 0.9605181116313722}, {&quot;x&quot;: 0.9120573489774617, &quot;y&quot;: 3.1487872479580177, &quot;z&quot;: 0.9605181116313722}, {&quot;x&quot;: 0.39514545025551484, &quot;y&quot;: 3.2543155676530797, &quot;z&quot;: 0.9605181116313722}, {&quot;x&quot;: -0.13200050806769717, &quot;y&quot;: 3.2755588235592246, &quot;z&quot;: 0.9605181116313722}, {&quot;x&quot;: -0.6557277225686317, &quot;y&quot;: 3.211966826507051, &quot;z&quot;: 0.9605181116313722}, {&quot;x&quot;: -1.1624719334929596, &quot;y&quot;: 3.065186575816872, &quot;z&quot;: 0.9605181116313722}, {&quot;x&quot;: -1.6391087319582247, &quot;y&quot;: 2.839019602881446, &quot;z&quot;: 0.9605181116313722}, {&quot;x&quot;: -2.0732934752499648, &quot;y&quot;: 2.5393235134997556, &quot;z&quot;: 0.9605181116313722}, {&quot;x&quot;: -2.453781006583673, &quot;y&quot;: 2.1738602789636774, &quot;z&quot;: 0.9605181116313722}, {&quot;x&quot;: -2.770716898758708, &quot;y&quot;: 1.7520952050786924, &quot;z&quot;: 0.9605181116313722}, {&quot;x&quot;: -3.0158926786465, &quot;y&quot;: 1.2849517857154253, &quot;z&quot;: 0.9605181116313722}, {&quot;x&quot;: -3.182958422332864, &quot;y&quot;: 0.7845287900562387, &quot;z&quot;: 0.9605181116313722}, {&quot;x&quot;: -3.2675872148119205, &quot;y&quot;: 0.26378691082860334, &quot;z&quot;: 0.9605181116313722}, {&quot;x&quot;: -3.26758721481192, &quot;y&quot;: -0.2637869108286054, &quot;z&quot;: 0.9605181116313722}, {&quot;x&quot;: -3.1829584223328635, &quot;y&quot;: -0.7845287900562407, &quot;z&quot;: 0.9605181116313722}, {&quot;x&quot;: -3.015892678646499, &quot;y&quot;: -1.2849517857154271, &quot;z&quot;: 0.9605181116313722}, {&quot;x&quot;: -2.770716898758707, &quot;y&quot;: -1.7520952050786944, &quot;z&quot;: 0.9605181116313722}, {&quot;x&quot;: -2.4537810065836716, &quot;y&quot;: -2.1738602789636787, &quot;z&quot;: 0.9605181116313722}, {&quot;x&quot;: -2.073293475249963, &quot;y&quot;: -2.539323513499757, &quot;z&quot;: 0.9605181116313722}, {&quot;x&quot;: -1.6391087319582227, &quot;y&quot;: -2.8390196028814465, &quot;z&quot;: 0.9605181116313722}, {&quot;x&quot;: -1.1624719334929567, &quot;y&quot;: -3.065186575816873, &quot;z&quot;: 0.9605181116313722}, {&quot;x&quot;: -0.6557277225686282, &quot;y&quot;: -3.2119668265070516, &quot;z&quot;: 0.9605181116313722}, {&quot;x&quot;: -0.13200050806769287, &quot;y&quot;: -3.2755588235592246, &quot;z&quot;: 0.9605181116313722}, {&quot;x&quot;: 0.3951454502555198, &quot;y&quot;: -3.2543155676530793, &quot;z&quot;: 0.9605181116313722}, {&quot;x&quot;: 0.9120573489774672, &quot;y&quot;: -3.148787247958016, &quot;z&quot;: 0.9605181116313722}, {&quot;x&quot;: 1.4053474414425753, &quot;y&quot;: -2.9617069925226613, &quot;z&quot;: 0.9605181116313722}, {&quot;x&quot;: 1.8622397733693583, &quot;y&quot;: -2.697920081694056, &quot;z&quot;: 0.9605181116313722}, {&quot;x&quot;: 2.2709010733554096, &quot;y&quot;: -2.3642584579017734, &quot;z&quot;: 0.9605181116313722}, {&quot;x&quot;: 2.6207472283909916, &quot;y&quot;: -1.9693637819376477, &quot;z&quot;: 0.9605181116313722}, {&quot;x&quot;: 2.9027174068264117, &quot;y&quot;: -1.5234636184805241, &quot;z&quot;: 0.9605181116313722}, {&quot;x&quot;: 3.1095087291523105, &quot;y&quot;: -1.0381065475433648, &quot;z&quot;: 0.9605181116313722}, {&quot;x&quot;: 3.2357654087429295, &quot;y&quot;: -0.5258630623171064, &quot;z&quot;: 0.9605181116313722}, {&quot;x&quot;: 3.278217463916453, &quot;y&quot;: -8.029317048188476e-16, &quot;z&quot;: 0.9605181116313722}, {&quot;x&quot;: 3.080126549817258, &quot;y&quot;: 0.5005692858433795, &quot;z&quot;: 0.992708874098054}, {&quot;x&quot;: 3.1205366802553236, &quot;y&quot;: 0.0, &quot;z&quot;: 0.992708874098054}, {&quot;x&quot;: 2.959942759654942, &quot;y&quot;: 0.9881740901203603, &quot;z&quot;: 0.992708874098054}, {&quot;x&quot;: 2.7630980068039404, &quot;y&quot;: 1.450185704527185, &quot;z&quot;: 0.992708874098054}, {&quot;x&quot;: 2.4946904669653036, &quot;y&quot;: 1.8746382709342488, &quot;z&quot;: 0.992708874098054}, {&quot;x&quot;: 2.1616717544328607, &quot;y&quot;: 2.2505386908262817, &quot;z&quot;: 0.992708874098054}, {&quot;x&quot;: 1.7726668789345226, &quot;y&quot;: 2.5681513407794827, &quot;z&quot;: 0.992708874098054}, {&quot;x&quot;: 1.337750862410839, &quot;y&quot;: 2.819250219994311, &quot;z&quot;: 0.992708874098054}, {&quot;x&quot;: 0.8681878012389034, &quot;y&quot;: 2.9973319993952745, &quot;z&quot;: 0.992708874098054}, {&quot;x&quot;: 0.37613913205294447, &quot;y&quot;: 3.0977844544379414, &quot;z&quot;: 0.992708874098054}, {&quot;x&quot;: -0.12565134307639256, &quot;y&quot;: 3.118005919301953, &quot;z&quot;: 0.992708874098054}, {&quot;x&quot;: -0.624187514421664, &quot;y&quot;: 3.057472668669177, &quot;z&quot;: 0.992708874098054}, {&quot;x&quot;: -1.1065575570140265, &quot;y&quot;: 2.917752481934351, &quot;z&quot;: 0.992708874098054}, {&quot;x&quot;: -1.56026834012766, &quot;y&quot;: 2.7024640385422694, &quot;z&quot;: 0.992708874098054}, {&quot;x&quot;: -1.9735689928032285, &quot;y&quot;: 2.417183196090972, &quot;z&quot;: 0.992708874098054}, {&quot;x&quot;: -2.3357552452332757, &quot;y&quot;: 2.0692985785488176, &quot;z&quot;: 0.992708874098054}, {&quot;x&quot;: -2.637446663727546, &quot;y&quot;: 1.6678202147747678, &quot;z&quot;: 0.992708874098054}, {&quot;x&quot;: -2.870829599018247, &quot;y&quot;: 1.2231461835036925, &quot;z&quot;: 0.992708874098054}, {&quot;x&quot;: -3.029859555671763, &quot;y&quot;: 0.7467933085689927, &quot;z&quot;: 0.992708874098054}, {&quot;x&quot;: -3.1104177413453606, &quot;y&quot;: 0.2510988792148279, &quot;z&quot;: 0.992708874098054}, {&quot;x&quot;: -3.11041774134536, &quot;y&quot;: -0.2510988792148299, &quot;z&quot;: 0.992708874098054}, {&quot;x&quot;: -3.0298595556717625, &quot;y&quot;: -0.7467933085689946, &quot;z&quot;: 0.992708874098054}, {&quot;x&quot;: -2.8708295990182457, &quot;y&quot;: -1.2231461835036943, &quot;z&quot;: 0.992708874098054}, {&quot;x&quot;: -2.6374466637275447, &quot;y&quot;: -1.6678202147747696, &quot;z&quot;: 0.992708874098054}, {&quot;x&quot;: -2.3357552452332744, &quot;y&quot;: -2.069298578548819, &quot;z&quot;: 0.992708874098054}, {&quot;x&quot;: -1.9735689928032267, &quot;y&quot;: -2.417183196090973, &quot;z&quot;: 0.992708874098054}, {&quot;x&quot;: -1.5602683401276582, &quot;y&quot;: -2.7024640385422702, &quot;z&quot;: 0.992708874098054}, {&quot;x&quot;: -1.1065575570140238, &quot;y&quot;: -2.917752481934352, &quot;z&quot;: 0.992708874098054}, {&quot;x&quot;: -0.6241875144216606, &quot;y&quot;: -3.057472668669178, &quot;z&quot;: 0.992708874098054}, {&quot;x&quot;: -0.12565134307638848, &quot;y&quot;: -3.118005919301953, &quot;z&quot;: 0.992708874098054}, {&quot;x&quot;: 0.3761391320529492, &quot;y&quot;: -3.0977844544379405, &quot;z&quot;: 0.992708874098054}, {&quot;x&quot;: 0.8681878012389086, &quot;y&quot;: -2.9973319993952727, &quot;z&quot;: 0.992708874098054}, {&quot;x&quot;: 1.3377508624108445, &quot;y&quot;: -2.819250219994309, &quot;z&quot;: 0.992708874098054}, {&quot;x&quot;: 1.7726668789345283, &quot;y&quot;: -2.5681513407794787, &quot;z&quot;: 0.992708874098054}, {&quot;x&quot;: 2.1616717544328665, &quot;y&quot;: -2.2505386908262763, &quot;z&quot;: 0.992708874098054}, {&quot;x&quot;: 2.4946904669653085, &quot;y&quot;: -1.8746382709342422, &quot;z&quot;: 0.992708874098054}, {&quot;x&quot;: 2.7630980068039444, &quot;y&quot;: -1.450185704527177, &quot;z&quot;: 0.992708874098054}, {&quot;x&quot;: 2.959942759654945, &quot;y&quot;: -0.9881740901203515, &quot;z&quot;: 0.992708874098054}, {&quot;x&quot;: 3.0801265498172596, &quot;y&quot;: -0.5005692858433698, &quot;z&quot;: 0.992708874098054}, {&quot;x&quot;: 3.1205366802553236, &quot;y&quot;: -7.643110514193179e-16, &quot;z&quot;: 0.992708874098054}, {&quot;x&quot;: 2.9214062811533785, &quot;y&quot;: 0.4747747315453877, &quot;z&quot;: 0.9991889981715697}, {&quot;x&quot;: 2.9597340598905855, &quot;y&quot;: 0.0, &quot;z&quot;: 0.9991889981715697}, {&quot;x&quot;: 2.8074156142783955, &quot;y&quot;: 0.9372530469314388, &quot;z&quot;: 0.9991889981715697}, {&quot;x&quot;: 2.6207143576611576, &quot;y&quot;: 1.375457000718334, &quot;z&quot;: 0.9991889981715697}, {&quot;x&quot;: 2.3661379757783934, &quot;y&quot;: 1.778037340680936, &quot;z&quot;: 0.9991889981715697}, {&quot;x&quot;: 2.050279863198048, &quot;y&quot;: 2.134567447479934, &quot;z&quot;: 0.9991889981715697}, {&quot;x&quot;: 1.6813205791233212, &quot;y&quot;: 2.4358133786258804, &quot;z&quot;: 0.9991889981715697}, {&quot;x&quot;: 1.2688159752063564, &quot;y&quot;: 2.6739730227393, &quot;z&quot;: 0.9991889981715697}, {&quot;x&quot;: 0.8234497040099058, &quot;y&quot;: 2.84287817013716, &quot;z&quot;: 0.9991889981715697}, {&quot;x&quot;: 0.3567565180178218, &quot;y&quot;: 2.9381542662236453, &quot;z&quot;: 0.9991889981715697}, {&quot;x&quot;: -0.11917647439534908, &quot;y&quot;: 2.957333710156347, &quot;z&quot;: 0.9991889981715697}, {&quot;x&quot;: -0.5920228587222014, &quot;y&quot;: 2.899919764411905, &quot;z&quot;: 0.9991889981715697}, {&quot;x&quot;: -1.0495361619834447, &quot;y&quot;: 2.7673994200269445, &quot;z&quot;: 0.9991889981715697}, {&quot;x&quot;: -1.4798670299452912, &quot;y&quot;: 2.5632048843113013, &quot;z&quot;: 0.9991889981715697}, {&quot;x&quot;: -1.871870119169931, &quot;y&quot;: 2.292624688481557, &quot;z&quot;: 0.9991889981715697}, {&quot;x&quot;: -2.215392755556192, &quot;y&quot;: 1.9626667174804668, &quot;z&quot;: 0.9991889981715697}, {&quot;x&quot;: -2.5015378832658066, &quot;y&quot;: 1.5818767094380128, &quot;z&quot;: 0.9991889981715697}, {&quot;x&quot;: -2.722894493796214, &quot;y&quot;: 1.1601169255427093, &quot;z&quot;: 0.9991889981715697}, {&quot;x&quot;: -2.8737295672079526, &quot;y&quot;: 0.7083107226572255, &quot;z&quot;: 0.9991889981715697}, {&quot;x&quot;: -2.950136554329677, &quot;y&quot;: 0.23815964411341917, &quot;z&quot;: 0.9991889981715697}, {&quot;x&quot;: -2.9501365543296765, &quot;y&quot;: -0.23815964411342105, &quot;z&quot;: 0.9991889981715697}, {&quot;x&quot;: -2.873729567207952, &quot;y&quot;: -0.7083107226572273, &quot;z&quot;: 0.9991889981715697}, {&quot;x&quot;: -2.722894493796213, &quot;y&quot;: -1.160116925542711, &quot;z&quot;: 0.9991889981715697}, {&quot;x&quot;: -2.5015378832658053, &quot;y&quot;: -1.5818767094380146, &quot;z&quot;: 0.9991889981715697}, {&quot;x&quot;: -2.2153927555561905, &quot;y&quot;: -1.9626667174804682, &quot;z&quot;: 0.9991889981715697}, {&quot;x&quot;: -1.8718701191699292, &quot;y&quot;: -2.292624688481558, &quot;z&quot;: 0.9991889981715697}, {&quot;x&quot;: -1.4798670299452892, &quot;y&quot;: -2.5632048843113022, &quot;z&quot;: 0.9991889981715697}, {&quot;x&quot;: -1.0495361619834422, &quot;y&quot;: -2.7673994200269454, &quot;z&quot;: 0.9991889981715697}, {&quot;x&quot;: -0.5920228587221983, &quot;y&quot;: -2.899919764411906, &quot;z&quot;: 0.9991889981715697}, {&quot;x&quot;: -0.11917647439534519, &quot;y&quot;: -2.957333710156347, &quot;z&quot;: 0.9991889981715697}, {&quot;x&quot;: 0.3567565180178263, &quot;y&quot;: -2.938154266223645, &quot;z&quot;: 0.9991889981715697}, {&quot;x&quot;: 0.8234497040099107, &quot;y&quot;: -2.8428781701371584, &quot;z&quot;: 0.9991889981715697}, {&quot;x&quot;: 1.2688159752063617, &quot;y&quot;: -2.6739730227392977, &quot;z&quot;: 0.9991889981715697}, {&quot;x&quot;: 1.681320579123327, &quot;y&quot;: -2.435813378625877, &quot;z&quot;: 0.9991889981715697}, {&quot;x&quot;: 2.050279863198053, &quot;y&quot;: -2.134567447479929, &quot;z&quot;: 0.9991889981715697}, {&quot;x&quot;: 2.366137975778398, &quot;y&quot;: -1.7780373406809298, &quot;z&quot;: 0.9991889981715697}, {&quot;x&quot;: 2.620714357661161, &quot;y&quot;: -1.3754570007183267, &quot;z&quot;: 0.9991889981715697}, {&quot;x&quot;: 2.8074156142783986, &quot;y&quot;: -0.9372530469314305, &quot;z&quot;: 0.9991889981715697}, {&quot;x&quot;: 2.9214062811533803, &quot;y&quot;: -0.47477473154537847, &quot;z&quot;: 0.9991889981715697}, {&quot;x&quot;: 2.9597340598905855, &quot;y&quot;: -7.249257685544812e-16, &quot;z&quot;: 0.9991889981715697}, {&quot;x&quot;: 2.763715374337764, &quot;y&quot;: 0.4491474648302034, &quot;z&quot;: 0.9797906520422678}, {&quot;x&quot;: 2.799974306223956, &quot;y&quot;: 0.0, &quot;z&quot;: 0.9797906520422678}, {&quot;x&quot;: 2.6558776659690984, &quot;y&quot;: 0.8866622462476099, &quot;z&quot;: 0.9797906520422678}, {&quot;x&quot;: 2.4792541211201677, &quot;y&quot;: 1.3012129412294469, &quot;z&quot;: 0.9797906520422678}, {&quot;x&quot;: 2.2384191968264804, &quot;y&quot;: 1.6820629045291433, &quot;z&quot;: 0.9797906520422678}, {&quot;x&quot;: 1.9396103911224793, &quot;y&quot;: 2.0193483221485162, &quot;z&quot;: 0.9797906520422678}, {&quot;x&quot;: 1.5905666951188557, &quot;y&quot;: 2.3043336789390994, &quot;z&quot;: 0.9797906520422678}, {&quot;x&quot;: 1.200328157197888, &quot;y&quot;: 2.5296380038559363, &quot;z&quot;: 0.9797906520422678}, {&quot;x&quot;: 0.779001750508859, &quot;y&quot;: 2.689426033230596, &quot;z&quot;: 0.9797906520422678}, {&quot;x&quot;: 0.3374996076724381, &quot;y&quot;: 2.779559341035063, &quot;z&quot;: 0.9797906520422678}, {&quot;x&quot;: -0.11274359772231374, &quot;y&quot;: 2.7977035219420507, &quot;z&quot;: 0.9797906520422678}, {&quot;x&quot;: -0.560066803157544, &quot;y&quot;: 2.7433886511967662, &quot;z&quot;: 0.9797906520422678}, {&quot;x&quot;: -0.9928845725805464, &quot;y&quot;: 2.6180214554212253, &quot;z&quot;: 0.9797906520422678}, {&quot;x&quot;: -1.3999871531119765, &quot;y&quot;: 2.424848879133656, &quot;z&quot;: 0.9797906520422678}, {&quot;x&quot;: -1.7708308017572145, &quot;y&quot;: 2.168873990591022, &quot;z&quot;: 0.9797906520422678}, {&quot;x&quot;: -2.0958108628115526, &quot;y&quot;: 1.856726404949157, &quot;z&quot;: 0.9797906520422678}, {&quot;x&quot;: -2.3665105233978525, &quot;y&quot;: 1.4964905807126039, &quot;z&quot;: 0.9797906520422678}, {&quot;x&quot;: -2.5759188044989174, &quot;y&quot;: 1.09749643650592, &quot;z&quot;: 0.9797906520422678}, {&quot;x&quot;: -2.718612141631337, &quot;y&quot;: 0.6700777110820795, &quot;z&quot;: 0.9797906520422678}, {&quot;x&quot;: -2.7908948523167427, &quot;y&quot;: 0.22530432491683616, &quot;z&quot;: 0.9797906520422678}, {&quot;x&quot;: -2.7908948523167427, &quot;y&quot;: -0.22530432491683797, &quot;z&quot;: 0.9797906520422678}, {&quot;x&quot;: -2.7186121416313367, &quot;y&quot;: -0.6700777110820813, &quot;z&quot;: 0.9797906520422678}, {&quot;x&quot;: -2.5759188044989165, &quot;y&quot;: -1.0974964365059217, &quot;z&quot;: 0.9797906520422678}, {&quot;x&quot;: -2.3665105233978516, &quot;y&quot;: -1.4964905807126054, &quot;z&quot;: 0.9797906520422678}, {&quot;x&quot;: -2.0958108628115513, &quot;y&quot;: -1.8567264049491583, &quot;z&quot;: 0.9797906520422678}, {&quot;x&quot;: -1.770830801757213, &quot;y&quot;: -2.168873990591023, &quot;z&quot;: 0.9797906520422678}, {&quot;x&quot;: -1.3999871531119747, &quot;y&quot;: -2.424848879133657, &quot;z&quot;: 0.9797906520422678}, {&quot;x&quot;: -0.9928845725805441, &quot;y&quot;: -2.618021455421226, &quot;z&quot;: 0.9797906520422678}, {&quot;x&quot;: -0.5600668031575411, &quot;y&quot;: -2.743388651196767, &quot;z&quot;: 0.9797906520422678}, {&quot;x&quot;: -0.11274359772231006, &quot;y&quot;: -2.7977035219420507, &quot;z&quot;: 0.9797906520422678}, {&quot;x&quot;: 0.33749960767244236, &quot;y&quot;: -2.7795593410350627, &quot;z&quot;: 0.9797906520422678}, {&quot;x&quot;: 0.7790017505088637, &quot;y&quot;: -2.6894260332305944, &quot;z&quot;: 0.9797906520422678}, {&quot;x&quot;: 1.200328157197893, &quot;y&quot;: -2.529638003855934, &quot;z&quot;: 0.9797906520422678}, {&quot;x&quot;: 1.590566695118861, &quot;y&quot;: -2.3043336789390962, &quot;z&quot;: 0.9797906520422678}, {&quot;x&quot;: 1.9396103911224845, &quot;y&quot;: -2.0193483221485113, &quot;z&quot;: 0.9797906520422678}, {&quot;x&quot;: 2.238419196826485, &quot;y&quot;: -1.6820629045291373, &quot;z&quot;: 0.9797906520422678}, {&quot;x&quot;: 2.4792541211201717, &quot;y&quot;: -1.30121294122944, &quot;z&quot;: 0.9797906520422678}, {&quot;x&quot;: 2.6558776659691015, &quot;y&quot;: -0.886662246247602, &quot;z&quot;: 0.9797906520422678}, {&quot;x&quot;: 2.763715374337765, &quot;y&quot;: -0.4491474648301947, &quot;z&quot;: 0.9797906520422678}, {&quot;x&quot;: 2.799974306223956, &quot;y&quot;: -6.857959143623998e-16, &quot;z&quot;: 0.9797906520422678}, {&quot;x&quot;: 2.6111379410257167, &quot;y&quot;: 0.4243512184443663, &quot;z&quot;: 0.935016242685415}, {&quot;x&quot;: 2.645395112957465, &quot;y&quot;: 0.0, &quot;z&quot;: 0.935016242685415}, {&quot;x&quot;: 2.5092536679890407, &quot;y&quot;: 0.8377119632324601, &quot;z&quot;: 0.935016242685415}, {&quot;x&quot;: 2.3423810430017413, &quot;y&quot;: 1.2293764082026764, &quot;z&quot;: 0.935016242685415}, {&quot;x&quot;: 2.1148419793968327, &quot;y&quot;: 1.5892006499621512, &quot;z&quot;: 0.935016242685415}, {&quot;x&quot;: 1.8325296194009137, &quot;y&quot;: 1.90786542965629, &quot;z&quot;: 0.935016242685415}, {&quot;x&quot;: 1.5027557048460198, &quot;y&quot;: 2.1771174968779197, &quot;z&quot;: 0.935016242685415}, {&quot;x&quot;: 1.134061206896858, &quot;y&quot;: 2.3899833645176023, &quot;z&quot;: 0.935016242685415}, {&quot;x&quot;: 0.7359951193840045, &quot;y&quot;: 2.5409499184167648, &quot;z&quot;: 0.935016242685415}, {&quot;x&quot;: 0.3188671448795492, &quot;y&quot;: 2.626107204128499, &quot;z&quot;: 0.935016242685415}, {&quot;x&quot;: -0.10651932118408355, &quot;y&quot;: 2.643249692683936, &quot;z&quot;: 0.935016242685415}, {&quot;x&quot;: -0.5291469927810729, &quot;y&quot;: 2.591933402634023, &quot;z&quot;: 0.935016242685415}, {&quot;x&quot;: -0.9380700352131561, &quot;y&quot;: 2.473487398935848, &quot;z&quot;: 0.935016242685415}, {&quot;x&quot;: -1.3226975564787309, &quot;y&quot;: 2.2909793708683703, &quot;z&quot;: 0.935016242685415}, {&quot;x&quot;: -1.6730679058125582, &quot;y&quot;: 2.049136180491482, &quot;z&quot;: 0.935016242685415}, {&quot;x&quot;: -1.980106675207966, &quot;y&quot;: 1.7542214394015636, &quot;z&quot;: 0.935016242685415}, {&quot;x&quot;: -2.2358617218176557, &quot;y&quot;: 1.4138732844812596, &quot;z&quot;: 0.935016242685415}, {&quot;x&quot;: -2.433709124276381, &quot;y&quot;: 1.036906554166348, &quot;z&quot;: 0.935016242685415}, {&quot;x&quot;: -2.5685247387849173, &quot;y&quot;: 0.6330844887604744, &quot;z&quot;: 0.935016242685415}, {&quot;x&quot;: -2.6368169117428772, &quot;y&quot;: 0.21286586763968204, &quot;z&quot;: 0.935016242685415}, {&quot;x&quot;: -2.636816911742877, &quot;y&quot;: -0.2128658676396837, &quot;z&quot;: 0.935016242685415}, {&quot;x&quot;: -2.568524738784917, &quot;y&quot;: -0.6330844887604761, &quot;z&quot;: 0.935016242685415}, {&quot;x&quot;: -2.43370912427638, &quot;y&quot;: -1.0369065541663496, &quot;z&quot;: 0.935016242685415}, {&quot;x&quot;: -2.235861721817655, &quot;y&quot;: -1.413873284481261, &quot;z&quot;: 0.935016242685415}, {&quot;x&quot;: -1.9801066752079648, &quot;y&quot;: -1.754221439401565, &quot;z&quot;: 0.935016242685415}, {&quot;x&quot;: -1.6730679058125568, &quot;y&quot;: -2.049136180491483, &quot;z&quot;: 0.935016242685415}, {&quot;x&quot;: -1.3226975564787293, &quot;y&quot;: -2.290979370868371, &quot;z&quot;: 0.935016242685415}, {&quot;x&quot;: -0.9380700352131539, &quot;y&quot;: -2.473487398935849, &quot;z&quot;: 0.935016242685415}, {&quot;x&quot;: -0.5291469927810701, &quot;y&quot;: -2.591933402634024, &quot;z&quot;: 0.935016242685415}, {&quot;x&quot;: -0.10651932118408008, &quot;y&quot;: -2.643249692683936, &quot;z&quot;: 0.935016242685415}, {&quot;x&quot;: 0.3188671448795532, &quot;y&quot;: -2.6261072041284987, &quot;z&quot;: 0.935016242685415}, {&quot;x&quot;: 0.735995119384009, &quot;y&quot;: -2.5409499184167634, &quot;z&quot;: 0.935016242685415}, {&quot;x&quot;: 1.134061206896863, &quot;y&quot;: -2.3899833645176005, &quot;z&quot;: 0.935016242685415}, {&quot;x&quot;: 1.502755704846025, &quot;y&quot;: -2.1771174968779166, &quot;z&quot;: 0.935016242685415}, {&quot;x&quot;: 1.8325296194009184, &quot;y&quot;: -1.9078654296562858, &quot;z&quot;: 0.935016242685415}, {&quot;x&quot;: 2.114841979396837, &quot;y&quot;: -1.5892006499621456, &quot;z&quot;: 0.935016242685415}, {&quot;x&quot;: 2.342381043001745, &quot;y&quot;: -1.2293764082026697, &quot;z&quot;: 0.935016242685415}, {&quot;x&quot;: 2.5092536679890434, &quot;y&quot;: -0.8377119632324526, &quot;z&quot;: 0.935016242685415}, {&quot;x&quot;: 2.6111379410257185, &quot;y&quot;: -0.4243512184443581, &quot;z&quot;: 0.935016242685415}, {&quot;x&quot;: 2.645395112957465, &quot;y&quot;: -6.479349315126821e-16, &quot;z&quot;: 0.935016242685415}, {&quot;x&quot;: 2.4676256565947825, &quot;y&quot;: 0.40102820214440066, &quot;z&quot;: 0.866025403784439}, {&quot;x&quot;: 2.5000000000000004, &quot;y&quot;: 0.0, &quot;z&quot;: 0.866025403784439}, {&quot;x&quot;: 2.3713411048678643, &quot;y&quot;: 0.7916699845036813, &quot;z&quot;: 0.866025403784439}, {&quot;x&quot;: 2.2136400641330254, &quot;y&quot;: 1.1618079301094215, &quot;z&quot;: 0.866025403784439}, {&quot;x&quot;: 1.9986069085087532, &quot;y&quot;: 1.5018556605949474, &quot;z&quot;: 0.866025403784439}, {&quot;x&quot;: 1.731810883773999, &quot;y&quot;: 1.8030061183595365, &quot;z&quot;: 0.866025403784439}, {&quot;x&quot;: 1.4201618668278901, &quot;y&quot;: 2.0574596647341408, &quot;z&quot;: 0.866025403784439}, {&quot;x&quot;: 1.0717314035076364, &quot;y&quot;: 2.2586260865259558, &quot;z&quot;: 0.866025403784439}, {&quot;x&quot;: 0.6955436597911325, &quot;y&quot;: 2.401295279078431, &quot;z&quot;: 0.866025403784439}, {&quot;x&quot;: 0.3013417006383087, &quot;y&quot;: 2.4817721852451355, &quot;z&quot;: 0.866025403784439}, {&quot;x&quot;: -0.10066485027353672, &quot;y&quot;: 2.497972495428925, &quot;z&quot;: 0.866025403784439}, {&quot;x&quot;: -0.5000642344401098, &quot;y&quot;: 2.44947663010567, &quot;z&quot;: 0.866025403784439}, {&quot;x&quot;: -0.8865122176063378, &quot;y&quot;: 2.3375406067135382, &quot;z&quot;: 0.866025403784439}, {&quot;x&quot;: -1.249999999999999, &quot;y&quot;: 2.165063509461098, &quot;z&quot;: 0.866025403784439}, {&quot;x&quot;: -1.5811134389884425, &quot;y&quot;: 1.9365124045691378, &quot;z&quot;: 0.866025403784439}, {&quot;x&quot;: -1.8712768704277525, &quot;y&quot;: 1.657806645601989, &quot;z&quot;: 0.866025403784439}, {&quot;x&quot;: -2.112975213859487, &quot;y&quot;: 1.3361645653195033, &quot;z&quot;: 0.866025403784439}, {&quot;x&quot;: -2.299948609147061, &quot;y&quot;: 0.9799165246501881, &quot;z&quot;: 0.866025403784439}, {&quot;x&quot;: -2.4273545435651305, &quot;y&quot;: 0.5982891607188943, &quot;z&quot;: 0.866025403784439}, {&quot;x&quot;: -2.4918932703355257, &quot;y&quot;: 0.20116642179181413, &quot;z&quot;: 0.866025403784439}, {&quot;x&quot;: -2.491893270335525, &quot;y&quot;: -0.20116642179181574, &quot;z&quot;: 0.866025403784439}, {&quot;x&quot;: -2.42735454356513, &quot;y&quot;: -0.5982891607188958, &quot;z&quot;: 0.866025403784439}, {&quot;x&quot;: -2.29994860914706, &quot;y&quot;: -0.9799165246501894, &quot;z&quot;: 0.866025403784439}, {&quot;x&quot;: -2.112975213859486, &quot;y&quot;: -1.3361645653195047, &quot;z&quot;: 0.866025403784439}, {&quot;x&quot;: -1.8712768704277514, &quot;y&quot;: -1.6578066456019902, &quot;z&quot;: 0.866025403784439}, {&quot;x&quot;: -1.581113438988441, &quot;y&quot;: -1.9365124045691384, &quot;z&quot;: 0.866025403784439}, {&quot;x&quot;: -1.2499999999999973, &quot;y&quot;: -2.1650635094610986, &quot;z&quot;: 0.866025403784439}, {&quot;x&quot;: -0.8865122176063357, &quot;y&quot;: -2.3375406067135387, &quot;z&quot;: 0.866025403784439}, {&quot;x&quot;: -0.5000642344401072, &quot;y&quot;: -2.4494766301056705, &quot;z&quot;: 0.866025403784439}, {&quot;x&quot;: -0.10066485027353343, &quot;y&quot;: -2.497972495428925, &quot;z&quot;: 0.866025403784439}, {&quot;x&quot;: 0.30134170063831245, &quot;y&quot;: -2.4817721852451347, &quot;z&quot;: 0.866025403784439}, {&quot;x&quot;: 0.6955436597911367, &quot;y&quot;: -2.4012952790784294, &quot;z&quot;: 0.866025403784439}, {&quot;x&quot;: 1.0717314035076408, &quot;y&quot;: -2.2586260865259535, &quot;z&quot;: 0.866025403784439}, {&quot;x&quot;: 1.4201618668278948, &quot;y&quot;: -2.057459664734138, &quot;z&quot;: 0.866025403784439}, {&quot;x&quot;: 1.7318108837740034, &quot;y&quot;: -1.8030061183595323, &quot;z&quot;: 0.866025403784439}, {&quot;x&quot;: 1.9986069085087572, &quot;y&quot;: -1.501855660594942, &quot;z&quot;: 0.866025403784439}, {&quot;x&quot;: 2.2136400641330285, &quot;y&quot;: -1.1618079301094153, &quot;z&quot;: 0.866025403784439}, {&quot;x&quot;: 2.3713411048678665, &quot;y&quot;: -0.7916699845036743, &quot;z&quot;: 0.866025403784439}, {&quot;x&quot;: 2.467625656594784, &quot;y&quot;: -0.4010282021443929, &quot;z&quot;: 0.866025403784439}, {&quot;x&quot;: 2.5000000000000004, &quot;y&quot;: -6.123233995736767e-16, &quot;z&quot;: 0.866025403784439}, {&quot;x&quot;: 2.3368954138281883, &quot;y&quot;: 0.3797824698014591, &quot;z&quot;: 0.7746049618276549}, {&quot;x&quot;: 2.3675546244046233, &quot;y&quot;: 0.0, &quot;z&quot;: 0.7746049618276549}, {&quot;x&quot;: 2.245711839548272, &quot;y&quot;: 0.7497287731256107, &quot;z&quot;: 0.7746049618276549}, {&quot;x&quot;: 2.096365508242196, &quot;y&quot;: 1.1002574950402095, &quot;z&quot;: 0.7746049618276549}, {&quot;x&quot;: 1.8927244114427704, &quot;y&quot;: 1.422290125771931, &quot;z&quot;: 0.7746049618276549}, {&quot;x&quot;: 1.6400627465893554, &quot;y&quot;: 1.7074861893407798, &quot;z&quot;: 0.7746049618276549}, {&quot;x&quot;: 1.3449243180845893, &quot;y&quot;: 1.9484592575069202, &quot;z&quot;: 0.7746049618276549}, {&quot;x&quot;: 1.0149530561976645, &quot;y&quot;: 2.138968254382177, &quot;z&quot;: 0.7746049618276549}, {&quot;x&quot;: 0.6586950432855246, &quot;y&quot;: 2.2740790970172515, &quot;z&quot;: 0.7746049618276549}, {&quot;x&quot;: 0.2853771747488725, &quot;y&quot;: 2.3502924855583545, &quot;z&quot;: 0.7746049618276549}, {&quot;x&quot;: -0.09533181271204433, &quot;y&quot;: 2.3656345332753226, &quot;z&quot;: 0.7746049618276549}, {&quot;x&quot;: -0.47357175629921583, &quot;y&quot;: 2.319707889191092, &quot;z&quot;: 0.7746049618276549}, {&quot;x&quot;: -0.839546440154033, &quot;y&quot;: 2.21370202926329, &quot;z&quot;: 0.7746049618276549}, {&quot;x&quot;: -1.1837773122023103, &quot;y&quot;: 2.05036244958173, &quot;z&quot;: 0.7746049618276549}, {&quot;x&quot;: -1.4973489736741532, &quot;y&quot;: 1.8339195594618312, &quot;z&quot;: 0.7746049618276549}, {&quot;x&quot;: -1.7721400832490541, &quot;y&quot;: 1.569979116065482, &quot;z&quot;: 0.7746049618276549}, {&quot;x&quot;: -2.00103369553015, &quot;y&quot;: 1.2653770382351133, &quot;z&quot;: 0.7746049618276549}, {&quot;x&quot;: -2.1781015861916417, &quot;y&quot;: 0.9280023597864238, &quot;z&quot;: 0.7746049618276549}, {&quot;x&quot;: -2.298757789874879, &quot;y&quot;: 0.5665929076764715, &quot;z&quot;: 0.7746049618276549}, {&quot;x&quot;: -2.359877374282253, &quot;y&quot;: 0.1905089968752562, &quot;z&quot;: 0.7746049618276549}, {&quot;x&quot;: -2.3598773742822527, &quot;y&quot;: -0.19050899687525769, &quot;z&quot;: 0.7746049618276549}, {&quot;x&quot;: -2.2987577898748786, &quot;y&quot;: -0.566592907676473, &quot;z&quot;: 0.7746049618276549}, {&quot;x&quot;: -2.1781015861916413, &quot;y&quot;: -0.928002359786425, &quot;z&quot;: 0.7746049618276549}, {&quot;x&quot;: -2.001033695530149, &quot;y&quot;: -1.2653770382351144, &quot;z&quot;: 0.7746049618276549}, {&quot;x&quot;: -1.7721400832490533, &quot;y&quot;: -1.569979116065483, &quot;z&quot;: 0.7746049618276549}, {&quot;x&quot;: -1.497348973674152, &quot;y&quot;: -1.8339195594618318, &quot;z&quot;: 0.7746049618276549}, {&quot;x&quot;: -1.183777312202309, &quot;y&quot;: -2.0503624495817303, &quot;z&quot;: 0.7746049618276549}, {&quot;x&quot;: -0.839546440154031, &quot;y&quot;: -2.2137020292632905, &quot;z&quot;: 0.7746049618276549}, {&quot;x&quot;: -0.47357175629921333, &quot;y&quot;: -2.319707889191093, &quot;z&quot;: 0.7746049618276549}, {&quot;x&quot;: -0.09533181271204122, &quot;y&quot;: -2.3656345332753226, &quot;z&quot;: 0.7746049618276549}, {&quot;x&quot;: 0.2853771747488761, &quot;y&quot;: -2.350292485558354, &quot;z&quot;: 0.7746049618276549}, {&quot;x&quot;: 0.6586950432855285, &quot;y&quot;: -2.27407909701725, &quot;z&quot;: 0.7746049618276549}, {&quot;x&quot;: 1.0149530561976687, &quot;y&quot;: -2.138968254382175, &quot;z&quot;: 0.7746049618276549}, {&quot;x&quot;: 1.3449243180845938, &quot;y&quot;: -1.9484592575069173, &quot;z&quot;: 0.7746049618276549}, {&quot;x&quot;: 1.6400627465893596, &quot;y&quot;: -1.7074861893407758, &quot;z&quot;: 0.7746049618276549}, {&quot;x&quot;: 1.892724411442774, &quot;y&quot;: -1.4222901257719258, &quot;z&quot;: 0.7746049618276549}, {&quot;x&quot;: 2.096365508242199, &quot;y&quot;: -1.1002574950402035, &quot;z&quot;: 0.7746049618276549}, {&quot;x&quot;: 2.245711839548274, &quot;y&quot;: -0.749728773125604, &quot;z&quot;: 0.7746049618276549}, {&quot;x&quot;: 2.3368954138281897, &quot;y&quot;: -0.37978246980145175, &quot;z&quot;: 0.7746049618276549}, {&quot;x&quot;: 2.3675546244046233, &quot;y&quot;: -5.798836385167272e-16, &quot;z&quot;: 0.7746049618276549}, {&quot;x&quot;: 2.222333057344153, &quot;y&quot;: 0.36116427472335405, &quot;z&quot;: 0.6631226582407955}, {&quot;x&quot;: 2.2514892518288994, &quot;y&quot;: 0.0, &quot;z&quot;: 0.6631226582407955}, {&quot;x&quot;: 2.135619604012025, &quot;y&quot;: 0.7129745844422358, &quot;z&quot;: 0.6631226582407955}, {&quot;x&quot;: 1.9935947247253363, &quot;y&quot;: 1.0463192269323773, &quot;z&quot;: 0.6631226582407955}, {&quot;x&quot;: 1.7999367892553766, &quot;y&quot;: 1.352564751051166, &quot;z&quot;: 0.6631226582407955}, {&quot;x&quot;: 1.559661436406986, &quot;y&quot;: 1.623779558587296, &quot;z&quot;: 0.6631226582407955}, {&quot;x&quot;: 1.2789916716081036, &quot;y&quot;: 1.8529393284881632, &quot;z&quot;: 0.6631226582407955}, {&quot;x&quot;: 0.9651966943379776, &quot;y&quot;: 2.0341089430854233, &quot;z&quot;: 0.6631226582407955}, {&quot;x&quot;: 0.6264036296789885, &quot;y&quot;: 2.1625962045250255, &quot;z&quot;: 0.6631226582407955}, {&quot;x&quot;: 0.27138704004599745, &quot;y&quot;: 2.2350733602269366, &quot;z&quot;: 0.6631226582407955}, {&quot;x&quot;: -0.09065833137113333, &quot;y&quot;: 2.249663289928975, &quot;z&quot;: 0.6631226582407955}, {&quot;x&quot;: -0.4503556996263816, &quot;y&quot;: 2.205988122115595, &quot;z&quot;: 0.6631226582407955}, {&quot;x&quot;: -0.7983890918222687, &quot;y&quot;: 2.105179020691654, &quot;z&quot;: 0.6631226582407955}, {&quot;x&quot;: -1.1257446259144483, &quot;y&quot;: 1.949846888431447, &quot;z&quot;: 0.6631226582407955}, {&quot;x&quot;: -1.4239439655218822, &quot;y&quot;: 1.7440147459683, &quot;z&quot;: 0.6631226582407955}, {&quot;x&quot;: -1.6852639043856417, &quot;y&quot;: 1.4930135376733595, &quot;z&quot;: 0.6631226582407955}, {&quot;x&quot;: -1.9029363933542016, &quot;y&quot;: 1.203344062996598, &quot;z&quot;: 0.6631226582407955}, {&quot;x&quot;: -2.0713238293013734, &quot;y&quot;: 0.8825086091757707, &quot;z&quot;: 0.6631226582407955}, {&quot;x&quot;: -2.1860650660859737, &quot;y&quot;: 0.5388166459377293, &quot;z&quot;: 0.6631226582407955}, {&quot;x&quot;: -2.2441883659460804, &quot;y&quot;: 0.18116961459725933, &quot;z&quot;: 0.6631226582407955}, {&quot;x&quot;: -2.24418836594608, &quot;y&quot;: -0.18116961459726078, &quot;z&quot;: 0.6631226582407955}, {&quot;x&quot;: -2.1860650660859733, &quot;y&quot;: -0.5388166459377307, &quot;z&quot;: 0.6631226582407955}, {&quot;x&quot;: -2.0713238293013725, &quot;y&quot;: -0.8825086091757719, &quot;z&quot;: 0.6631226582407955}, {&quot;x&quot;: -1.9029363933542007, &quot;y&quot;: -1.203344062996599, &quot;z&quot;: 0.6631226582407955}, {&quot;x&quot;: -1.6852639043856406, &quot;y&quot;: -1.4930135376733606, &quot;z&quot;: 0.6631226582407955}, {&quot;x&quot;: -1.423943965521881, &quot;y&quot;: -1.7440147459683006, &quot;z&quot;: 0.6631226582407955}, {&quot;x&quot;: -1.125744625914447, &quot;y&quot;: -1.9498468884314477, &quot;z&quot;: 0.6631226582407955}, {&quot;x&quot;: -0.7983890918222668, &quot;y&quot;: -2.1051790206916543, &quot;z&quot;: 0.6631226582407955}, {&quot;x&quot;: -0.4503556996263792, &quot;y&quot;: -2.2059881221155955, &quot;z&quot;: 0.6631226582407955}, {&quot;x&quot;: -0.09065833137113037, &quot;y&quot;: -2.249663289928975, &quot;z&quot;: 0.6631226582407955}, {&quot;x&quot;: 0.2713870400460009, &quot;y&quot;: -2.235073360226936, &quot;z&quot;: 0.6631226582407955}, {&quot;x&quot;: 0.6264036296789922, &quot;y&quot;: -2.162596204525024, &quot;z&quot;: 0.6631226582407955}, {&quot;x&quot;: 0.9651966943379816, &quot;y&quot;: -2.0341089430854216, &quot;z&quot;: 0.6631226582407955}, {&quot;x&quot;: 1.2789916716081078, &quot;y&quot;: -1.8529393284881606, &quot;z&quot;: 0.6631226582407955}, {&quot;x&quot;: 1.55966143640699, &quot;y&quot;: -1.6237795585872923, &quot;z&quot;: 0.6631226582407955}, {&quot;x&quot;: 1.7999367892553801, &quot;y&quot;: -1.3525647510511611, &quot;z&quot;: 0.6631226582407955}, {&quot;x&quot;: 1.9935947247253394, &quot;y&quot;: -1.0463192269323716, &quot;z&quot;: 0.6631226582407955}, {&quot;x&quot;: 2.135619604012027, &quot;y&quot;: -0.7129745844422294, &quot;z&quot;: 0.6631226582407955}, {&quot;x&quot;: 2.222333057344154, &quot;y&quot;: -0.36116427472334706, &quot;z&quot;: 0.6631226582407955}, {&quot;x&quot;: 2.2514892518288994, &quot;y&quot;: -5.514558211133861e-16, &quot;z&quot;: 0.6631226582407955}, {&quot;x&quot;: 2.126905691998776, &quot;y&quot;: 0.34565581838292064, &quot;z&quot;: 0.5344658261278012}, {&quot;x&quot;: 2.154809914456205, &quot;y&quot;: 0.0, &quot;z&quot;: 0.5344658261278012}, {&quot;x&quot;: 2.0439157293307217, &quot;y&quot;: 0.682359332634369, &quot;z&quot;: 0.5344658261278012}, {&quot;x&quot;: 1.9079894228925247, &quot;y&quot;: 1.001390098597449, &quot;z&quot;: 0.5344658261278012}, {&quot;x&quot;: 1.7226471926221307, &quot;y&quot;: 1.294485387012866, &quot;z&quot;: 0.5344658261278012}, {&quot;x&quot;: 1.49268930492775, &quot;y&quot;: 1.5540541838665307, &quot;z&quot;: 0.5344658261278012}, {&quot;x&quot;: 1.224071548309348, &quot;y&quot;: 1.7733737936651464, &quot;z&quot;: 0.5344658261278012}, {&quot;x&quot;: 0.9237509815649273, &quot;y&quot;: 1.9467639537182189, &quot;z&quot;: 0.5344658261278012}, {&quot;x&quot;: 0.5995057496220344, &quot;y&quot;: 2.069733949958033, &quot;z&quot;: 0.5344658261278012}, {&quot;x&quot;: 0.2597336336698085, &quot;y&quot;: 2.1390989240751432, &quot;z&quot;: 0.5344658261278012}, {&quot;x&quot;: -0.08676544696266653, &quot;y&quot;: 2.1530623596756615, &quot;z&quot;: 0.5344658261278012}, {&quot;x&quot;: -0.43101734809460024, &quot;y&quot;: 2.1112626111121884, &quot;z&quot;: 0.5344658261278012}, {&quot;x&quot;: -0.7641061263138773, &quot;y&quot;: 2.0147822699161217, &quot;z&quot;: 0.5344658261278012}, {&quot;x&quot;: -1.0774049572281015, &quot;y&quot;: 1.8661201262456477, &quot;z&quot;: 0.5344658261278012}, {&quot;x&quot;: -1.3627995656848966, &quot;y&quot;: 1.6691264515332012, &quot;z&quot;: 0.5344658261278012}, {&quot;x&quot;: -1.61289838123612, &quot;y&quot;: 1.42890327847782, &quot;z&quot;: 0.5344658261278012}, {&quot;x&quot;: -1.8212239759298567, &quot;y&quot;: 1.1516722610782124, &quot;z&quot;: 0.5344658261278012}, {&quot;x&quot;: -1.9823808262919382, &quot;y&quot;: 0.8446135370622773, &quot;z&quot;: 0.5344658261278012}, {&quot;x&quot;: -2.0921950545497836, &quot;y&quot;: 0.5156797660915021, &quot;z&quot;: 0.5344658261278012}, {&quot;x&quot;: -2.1478225298742744, &quot;y&quot;: 0.17339016005307192, &quot;z&quot;: 0.5344658261278012}, {&quot;x&quot;: -2.1478225298742744, &quot;y&quot;: -0.1733901600530733, &quot;z&quot;: 0.5344658261278012}, {&quot;x&quot;: -2.092195054549783, &quot;y&quot;: -0.5156797660915035, &quot;z&quot;: 0.5344658261278012}, {&quot;x&quot;: -1.9823808262919376, &quot;y&quot;: -0.8446135370622785, &quot;z&quot;: 0.5344658261278012}, {&quot;x&quot;: -1.821223975929856, &quot;y&quot;: -1.1516722610782135, &quot;z&quot;: 0.5344658261278012}, {&quot;x&quot;: -1.612898381236119, &quot;y&quot;: -1.4289032784778208, &quot;z&quot;: 0.5344658261278012}, {&quot;x&quot;: -1.3627995656848952, &quot;y&quot;: -1.6691264515332018, &quot;z&quot;: 0.5344658261278012}, {&quot;x&quot;: -1.0774049572281001, &quot;y&quot;: -1.8661201262456482, &quot;z&quot;: 0.5344658261278012}, {&quot;x&quot;: -0.7641061263138755, &quot;y&quot;: -2.014782269916122, &quot;z&quot;: 0.5344658261278012}, {&quot;x&quot;: -0.43101734809459796, &quot;y&quot;: -2.111262611112189, &quot;z&quot;: 0.5344658261278012}, {&quot;x&quot;: -0.0867654469626637, &quot;y&quot;: -2.1530623596756615, &quot;z&quot;: 0.5344658261278012}, {&quot;x&quot;: 0.2597336336698117, &quot;y&quot;: -2.139098924075143, &quot;z&quot;: 0.5344658261278012}, {&quot;x&quot;: 0.599505749622038, &quot;y&quot;: -2.0697339499580316, &quot;z&quot;: 0.5344658261278012}, {&quot;x&quot;: 0.9237509815649311, &quot;y&quot;: -1.946763953718217, &quot;z&quot;: 0.5344658261278012}, {&quot;x&quot;: 1.224071548309352, &quot;y&quot;: -1.773373793665144, &quot;z&quot;: 0.5344658261278012}, {&quot;x&quot;: 1.4926893049277539, &quot;y&quot;: -1.554054183866527, &quot;z&quot;: 0.5344658261278012}, {&quot;x&quot;: 1.722647192622134, &quot;y&quot;: -1.2944853870128616, &quot;z&quot;: 0.5344658261278012}, {&quot;x&quot;: 1.9079894228925276, &quot;y&quot;: -1.0013900985974438, &quot;z&quot;: 0.5344658261278012}, {&quot;x&quot;: 2.043915729330724, &quot;y&quot;: -0.6823593326343629, &quot;z&quot;: 0.5344658261278012}, {&quot;x&quot;: 2.126905691998777, &quot;y&quot;: -0.3456558183829139, &quot;z&quot;: 0.5344658261278012}, {&quot;x&quot;: 2.154809914456205, &quot;y&quot;: -5.277762129019548e-16, &quot;z&quot;: 0.5344658261278012}, {&quot;x&quot;: 2.0530848364288152, &quot;y&quot;: 0.3336587616531591, &quot;z&quot;: 0.39196660986007514}, {&quot;x&quot;: 2.080020556341176, &quot;y&quot;: 0.0, &quot;z&quot;: 0.39196660986007514}, {&quot;x&quot;: 1.972975297688781, &quot;y&quot;: 0.6586759366423829, &quot;z&quot;: 0.39196660986007514}, {&quot;x&quot;: 1.8417667350948363, &quot;y&quot;: 0.9666337508591154, &quot;z&quot;: 0.39196660986007514}, {&quot;x&quot;: 1.6628573814974776, &quot;y&quot;: 1.2495562586779385, &quot;z&quot;: 0.39196660986007514}, {&quot;x&quot;: 1.4408808951781187, &quot;y&quot;: 1.5001159157586985, &quot;z&quot;: 0.39196660986007514}, {&quot;x&quot;: 1.1815863505335482, &quot;y&quot;: 1.7118233585959346, &quot;z&quot;: 0.39196660986007514}, {&quot;x&quot;: 0.8916893400689051, &quot;y&quot;: 1.8791954756249643, &quot;z&quot;: 0.39196660986007514}, {&quot;x&quot;: 0.5786980440793316, &quot;y&quot;: 1.9978974169312627, &quot;z&quot;: 0.39196660986007514}, {&quot;x&quot;: 0.25071877272419635, &quot;y&quot;: 2.0648548645862568, &quot;z&quot;: 0.39196660986007514}, {&quot;x&quot;: -0.0837539831479852, &quot;y&quot;: 2.078333655866811, &quot;z&quot;: 0.39196660986007514}, {&quot;x&quot;: -0.41605755485057655, &quot;y&quot;: 2.0379846971588416, &quot;z&quot;: 0.39196660986007514}, {&quot;x&quot;: -0.7375854544275137, &quot;y&quot;: 1.944853005298553, &quot;z&quot;: 0.39196660986007514}, {&quot;x&quot;: -1.0400102781705869, &quot;y&quot;: 1.8013506421853005, &quot;z&quot;: 0.39196660986007514}, {&quot;x&quot;: -1.3154993820012997, &quot;y&quot;: 1.611194243645394, &quot;z&quot;: 0.39196660986007514}, {&quot;x&quot;: -1.556917742838203, &quot;y&quot;: 1.3793087605164591, &quot;z&quot;: 0.39196660986007514}, {&quot;x&quot;: -1.7580127519468498, &quot;y&quot;: 1.1116999050076954, &quot;z&quot;: 0.39196660986007514}, {&quot;x&quot;: -1.9135761542216732, &quot;y&quot;: 0.8152986059083182, &quot;z&quot;: 0.39196660986007514}, {&quot;x&quot;: -2.0195789392574492, &quot;y&quot;: 0.4977815011725638, &quot;z&quot;: 0.39196660986007514}, {&quot;x&quot;: -2.0732756906024528, &quot;y&quot;: 0.16737211702902913, &quot;z&quot;: 0.39196660986007514}, {&quot;x&quot;: -2.0732756906024523, &quot;y&quot;: -0.16737211702903046, &quot;z&quot;: 0.39196660986007514}, {&quot;x&quot;: -2.019578939257449, &quot;y&quot;: -0.4977815011725651, &quot;z&quot;: 0.39196660986007514}, {&quot;x&quot;: -1.9135761542216725, &quot;y&quot;: -0.8152986059083194, &quot;z&quot;: 0.39196660986007514}, {&quot;x&quot;: -1.7580127519468491, &quot;y&quot;: -1.1116999050076966, &quot;z&quot;: 0.39196660986007514}, {&quot;x&quot;: -1.5569177428382022, &quot;y&quot;: -1.37930876051646, &quot;z&quot;: 0.39196660986007514}, {&quot;x&quot;: -1.3154993820012986, &quot;y&quot;: -1.611194243645395, &quot;z&quot;: 0.39196660986007514}, {&quot;x&quot;: -1.0400102781705856, &quot;y&quot;: -1.801350642185301, &quot;z&quot;: 0.39196660986007514}, {&quot;x&quot;: -0.7375854544275119, &quot;y&quot;: -1.9448530052985538, &quot;z&quot;: 0.39196660986007514}, {&quot;x&quot;: -0.41605755485057433, &quot;y&quot;: -2.037984697158842, &quot;z&quot;: 0.39196660986007514}, {&quot;x&quot;: -0.08375398314798246, &quot;y&quot;: -2.078333655866811, &quot;z&quot;: 0.39196660986007514}, {&quot;x&quot;: 0.25071877272419946, &quot;y&quot;: -2.0648548645862563, &quot;z&quot;: 0.39196660986007514}, {&quot;x&quot;: 0.578698044079335, &quot;y&quot;: -1.9978974169312615, &quot;z&quot;: 0.39196660986007514}, {&quot;x&quot;: 0.8916893400689088, &quot;y&quot;: -1.8791954756249627, &quot;z&quot;: 0.39196660986007514}, {&quot;x&quot;: 1.1815863505335522, &quot;y&quot;: -1.7118233585959322, &quot;z&quot;: 0.39196660986007514}, {&quot;x&quot;: 1.4408808951781222, &quot;y&quot;: -1.5001159157586952, &quot;z&quot;: 0.39196660986007514}, {&quot;x&quot;: 1.662857381497481, &quot;y&quot;: -1.249556258677934, &quot;z&quot;: 0.39196660986007514}, {&quot;x&quot;: 1.841766735094839, &quot;y&quot;: -0.9666337508591102, &quot;z&quot;: 0.39196660986007514}, {&quot;x&quot;: 1.972975297688783, &quot;y&quot;: -0.658675936642377, &quot;z&quot;: 0.39196660986007514}, {&quot;x&quot;: 2.0530848364288166, &quot;y&quot;: -0.3336587616531526, &quot;z&quot;: 0.39196660986007514}, {&quot;x&quot;: 2.080020556341176, &quot;y&quot;: -5.094581032967836e-16, &quot;z&quot;: 0.39196660986007514}, {&quot;x&quot;: 2.0027824120172215, &quot;y&quot;: 0.32548382200160614, &quot;z&quot;: 0.23931566428755768}, {&quot;x&quot;: 2.029058182573948, &quot;y&quot;: 0.0, &quot;z&quot;: 0.23931566428755768}, {&quot;x&quot;: 1.9246356290024342, &quot;y&quot;: 0.642537783982154, &quot;z&quot;: 0.23931566428755768}, {&quot;x&quot;: 1.796641794161053, &quot;y&quot;: 0.9429503548671291, &quot;z&quot;: 0.23931566428755768}, {&quot;x&quot;: 1.6221158805834028, &quot;y&quot;: 1.2189410068700717, &quot;z&quot;: 0.23931566428755768}, {&quot;x&quot;: 1.405578017756901, &quot;y&quot;: 1.4633617270753236, &quot;z&quot;: 0.23931566428755768}, {&quot;x&quot;: 1.1526364225866492, &quot;y&quot;: 1.6698821472178638, &quot;z&quot;: 0.23931566428755768}, {&quot;x&quot;: 0.8698421495234523, &quot;y&quot;: 1.8331534968961853, &quot;z&quot;: 0.23931566428755768}, {&quot;x&quot;: 0.564519421694651, &quot;y&quot;: 1.9489471339161126, &quot;z&quot;: 0.23931566428755768}, {&quot;x&quot;: 0.2445759373723637, &quot;y&quot;: 2.0142640639024276, &quot;z&quot;: 0.23931566428755768}, {&quot;x&quot;: -0.08170193525804038, &quot;y&quot;: 2.027412612677889, &quot;z&quot;: 0.23931566428755768}, {&quot;x&quot;: -0.4058637706813127, &quot;y&quot;: 1.9880522397358273, &quot;z&quot;: 0.23931566428755768}, {&quot;x&quot;: -0.7195139476343663, &quot;y&quot;: 1.8972023580603898, &quot;z&quot;: 0.23931566428755768}, {&quot;x&quot;: -1.0145290912869729, &quot;y&quot;: 1.7572159318657234, &quot;z&quot;: 0.23931566428755768}, {&quot;x&quot;: -1.2832684643828531, &quot;y&quot;: 1.5717185360587838, &quot;z&quot;: 0.23931566428755768}, {&quot;x&quot;: -1.51877185832112, &quot;y&quot;: 1.3455144557536738, &quot;z&quot;: 0.23931566428755768}, {&quot;x&quot;: -1.7149398589030116, &quot;y&quot;: 1.08446225781076, &quot;z&quot;: 0.23931566428755768}, {&quot;x&quot;: -1.8666918179557657, &quot;y&quot;: 0.7953230570323558, &quot;z&quot;: 0.23931566428755768}, {&quot;x&quot;: -1.9700974394515511, &quot;y&quot;: 0.4855854068407889, &quot;z&quot;: 0.23931566428755768}, {&quot;x&quot;: -2.022478572110101, &quot;y&quot;: 0.16327134967832102, &quot;z&quot;: 0.23931566428755768}, {&quot;x&quot;: -2.0224785721101006, &quot;y&quot;: -0.16327134967832233, &quot;z&quot;: 0.23931566428755768}, {&quot;x&quot;: -1.970097439451551, &quot;y&quot;: -0.4855854068407901, &quot;z&quot;: 0.23931566428755768}, {&quot;x&quot;: -1.866691817955765, &quot;y&quot;: -0.795323057032357, &quot;z&quot;: 0.23931566428755768}, {&quot;x&quot;: -1.714939858903011, &quot;y&quot;: -1.0844622578107612, &quot;z&quot;: 0.23931566428755768}, {&quot;x&quot;: -1.5187718583211192, &quot;y&quot;: -1.3455144557536747, &quot;z&quot;: 0.23931566428755768}, {&quot;x&quot;: -1.283268464382852, &quot;y&quot;: -1.5717185360587846, &quot;z&quot;: 0.23931566428755768}, {&quot;x&quot;: -1.0145290912869716, &quot;y&quot;: -1.757215931865724, &quot;z&quot;: 0.23931566428755768}, {&quot;x&quot;: -0.7195139476343646, &quot;y&quot;: -1.8972023580603905, &quot;z&quot;: 0.23931566428755768}, {&quot;x&quot;: -0.4058637706813106, &quot;y&quot;: -1.9880522397358278, &quot;z&quot;: 0.23931566428755768}, {&quot;x&quot;: -0.08170193525803772, &quot;y&quot;: -2.027412612677889, &quot;z&quot;: 0.23931566428755768}, {&quot;x&quot;: 0.24457593737236674, &quot;y&quot;: -2.014264063902427, &quot;z&quot;: 0.23931566428755768}, {&quot;x&quot;: 0.5645194216946544, &quot;y&quot;: -1.9489471339161115, &quot;z&quot;: 0.23931566428755768}, {&quot;x&quot;: 0.8698421495234558, &quot;y&quot;: -1.8331534968961838, &quot;z&quot;: 0.23931566428755768}, {&quot;x&quot;: 1.1526364225866532, &quot;y&quot;: -1.6698821472178613, &quot;z&quot;: 0.23931566428755768}, {&quot;x&quot;: 1.4055780177569046, &quot;y&quot;: -1.46336172707532, &quot;z&quot;: 0.23931566428755768}, {&quot;x&quot;: 1.622115880583406, &quot;y&quot;: -1.2189410068700675, &quot;z&quot;: 0.23931566428755768}, {&quot;x&quot;: 1.796641794161056, &quot;y&quot;: -0.942950354867124, &quot;z&quot;: 0.23931566428755768}, {&quot;x&quot;: 1.9246356290024362, &quot;y&quot;: -0.6425377839821482, &quot;z&quot;: 0.23931566428755768}, {&quot;x&quot;: 2.0027824120172224, &quot;y&quot;: -0.3254838220015998, &quot;z&quot;: 0.23931566428755768}, {&quot;x&quot;: 2.029058182573948, &quot;y&quot;: -4.969759217145862e-16, &quot;z&quot;: 0.23931566428755768}, {&quot;x&quot;: 1.9773012251336073, &quot;y&quot;: 0.32134272607113884, &quot;z&quot;: 0.08046656871672564}, {&quot;x&quot;: 2.0032426918657897, &quot;y&quot;: 0.0, &quot;z&quot;: 0.08046656871672564}, {&quot;x&quot;: 1.900148695298998, &quot;y&quot;: 0.634362844330601, &quot;z&quot;: 0.08046656871672564}, {&quot;x&quot;: 1.77378331235832, &quot;y&quot;: 0.9309532981373674, &quot;z&quot;: 0.08046656871672564}, {&quot;x&quot;: 1.6014778733530552, &quot;y&quot;: 1.2034325505296382, &quot;z&quot;: 0.08046656871672564}, {&quot;x&quot;: 1.3876949986455591, &quot;y&quot;: 1.4447435319972184, &quot;z&quot;: 0.08046656871672564}, {&quot;x&quot;: 1.137971552395779, &quot;y&quot;: 1.648636414874922, &quot;z&quot;: 0.08046656871672564}, {&quot;x&quot;: 0.8587752406878951, &quot;y&quot;: 1.8098304805962195, &quot;z&quot;: 0.08046656871672564}, {&quot;x&quot;: 0.5573371013400684, &quot;y&quot;: 1.9241508875302753, &quot;z&quot;: 0.08046656871672564}, {&quot;x&quot;: 0.24146422382324015, &quot;y&quot;: 1.988636797187243, &quot;z&quot;: 0.08046656871672564}, {&quot;x&quot;: -0.08066245025529054, &quot;y&quot;: 2.001618058379897, &quot;z&quot;: 0.08046656871672564}, {&quot;x&quot;: -0.4007000092422443, &quot;y&quot;: 1.9627584632620898, &quot;z&quot;: 0.08046656871672564}, {&quot;x&quot;: -0.7103596484678523, &quot;y&quot;: 1.8730644549353674, &quot;z&quot;: 0.08046656871672564}, {&quot;x&quot;: -1.0016213459328938, &quot;y&quot;: 1.734859061101297, &quot;z&quot;: 0.08046656871672564}, {&quot;x&quot;: -1.2669415766657532, &quot;y&quot;: 1.5517217288642287, &quot;z&quot;: 0.08046656871672564}, {&quot;x&quot;: -1.4994486860567524, &quot;y&quot;: 1.3283956189314894, &quot;z&quot;: 0.08046656871672564}, {&quot;x&quot;: -1.6931208621030283, &quot;y&quot;: 1.0706647602425297, &quot;z&quot;: 0.08046656871672564}, {&quot;x&quot;: -1.8429420971762946, &quot;y&quot;: 0.7852042466576047, &quot;z&quot;: 0.08046656871672564}, {&quot;x&quot;: -1.9450320999856265, &quot;y&quot;: 0.4794073555330567, &quot;z&quot;: 0.08046656871672564}, {&quot;x&quot;: -1.9967467930836733, &quot;y&quot;: 0.16119406572129702, &quot;z&quot;: 0.08046656871672564}, {&quot;x&quot;: -1.996746793083673, &quot;y&quot;: -0.1611940657212983, &quot;z&quot;: 0.08046656871672564}, {&quot;x&quot;: -1.9450320999856263, &quot;y&quot;: -0.4794073555330579, &quot;z&quot;: 0.08046656871672564}, {&quot;x&quot;: -1.842942097176294, &quot;y&quot;: -0.7852042466576058, &quot;z&quot;: 0.08046656871672564}, {&quot;x&quot;: -1.6931208621030276, &quot;y&quot;: -1.0706647602425308, &quot;z&quot;: 0.08046656871672564}, {&quot;x&quot;: -1.4994486860567515, &quot;y&quot;: -1.3283956189314903, &quot;z&quot;: 0.08046656871672564}, {&quot;x&quot;: -1.266941576665752, &quot;y&quot;: -1.5517217288642293, &quot;z&quot;: 0.08046656871672564}, {&quot;x&quot;: -1.0016213459328924, &quot;y&quot;: -1.7348590611012975, &quot;z&quot;: 0.08046656871672564}, {&quot;x&quot;: -0.7103596484678506, &quot;y&quot;: -1.873064454935368, &quot;z&quot;: 0.08046656871672564}, {&quot;x&quot;: -0.4007000092422422, &quot;y&quot;: -1.9627584632620902, &quot;z&quot;: 0.08046656871672564}, {&quot;x&quot;: -0.08066245025528791, &quot;y&quot;: -2.001618058379897, &quot;z&quot;: 0.08046656871672564}, {&quot;x&quot;: 0.24146422382324317, &quot;y&quot;: -1.9886367971872425, &quot;z&quot;: 0.08046656871672564}, {&quot;x&quot;: 0.5573371013400717, &quot;y&quot;: -1.9241508875302742, &quot;z&quot;: 0.08046656871672564}, {&quot;x&quot;: 0.8587752406878987, &quot;y&quot;: -1.809830480596218, &quot;z&quot;: 0.08046656871672564}, {&quot;x&quot;: 1.1379715523957827, &quot;y&quot;: -1.6486364148749195, &quot;z&quot;: 0.08046656871672564}, {&quot;x&quot;: 1.3876949986455627, &quot;y&quot;: -1.444743531997215, &quot;z&quot;: 0.08046656871672564}, {&quot;x&quot;: 1.6014778733530586, &quot;y&quot;: -1.203432550529634, &quot;z&quot;: 0.08046656871672564}, {&quot;x&quot;: 1.7737833123583227, &quot;y&quot;: -0.9309532981373624, &quot;z&quot;: 0.08046656871672564}, {&quot;x&quot;: 1.900148695299, &quot;y&quot;: -0.6343628443305953, &quot;z&quot;: 0.08046656871672564}, {&quot;x&quot;: 1.9773012251336084, &quot;y&quot;: -0.3213427260711326, &quot;z&quot;: 0.08046656871672564}, {&quot;x&quot;: 2.0032426918657897, &quot;y&quot;: -4.9065295010175335e-16, &quot;z&quot;: 0.08046656871672564}, {&quot;x&quot;: 1.9773012251336077, &quot;y&quot;: 0.32134272607113895, &quot;z&quot;: -0.08046656871672628}, {&quot;x&quot;: 2.00324269186579, &quot;y&quot;: 0.0, &quot;z&quot;: -0.08046656871672628}, {&quot;x&quot;: 1.9001486952989985, &quot;y&quot;: 0.6343628443306011, &quot;z&quot;: -0.08046656871672628}, {&quot;x&quot;: 1.7737833123583204, &quot;y&quot;: 0.9309532981373676, &quot;z&quot;: -0.08046656871672628}, {&quot;x&quot;: 1.6014778733530557, &quot;y&quot;: 1.2034325505296386, &quot;z&quot;: -0.08046656871672628}, {&quot;x&quot;: 1.3876949986455593, &quot;y&quot;: 1.4447435319972186, &quot;z&quot;: -0.08046656871672628}, {&quot;x&quot;: 1.1379715523957792, &quot;y&quot;: 1.6486364148749224, &quot;z&quot;: -0.08046656871672628}, {&quot;x&quot;: 0.8587752406878953, &quot;y&quot;: 1.80983048059622, &quot;z&quot;: -0.08046656871672628}, {&quot;x&quot;: 0.5573371013400686, &quot;y&quot;: 1.9241508875302757, &quot;z&quot;: -0.08046656871672628}, {&quot;x&quot;: 0.24146422382324018, &quot;y&quot;: 1.9886367971872434, &quot;z&quot;: -0.08046656871672628}, {&quot;x&quot;: -0.08066245025529055, &quot;y&quot;: 2.0016180583798975, &quot;z&quot;: -0.08046656871672628}, {&quot;x&quot;: -0.4007000092422444, &quot;y&quot;: 1.9627584632620902, &quot;z&quot;: -0.08046656871672628}, {&quot;x&quot;: -0.7103596484678524, &quot;y&quot;: 1.8730644549353679, &quot;z&quot;: -0.08046656871672628}, {&quot;x&quot;: -1.001621345932894, &quot;y&quot;: 1.7348590611012975, &quot;z&quot;: -0.08046656871672628}, {&quot;x&quot;: -1.2669415766657535, &quot;y&quot;: 1.551721728864229, &quot;z&quot;: -0.08046656871672628}, {&quot;x&quot;: -1.4994486860567526, &quot;y&quot;: 1.3283956189314896, &quot;z&quot;: -0.08046656871672628}, {&quot;x&quot;: -1.6931208621030285, &quot;y&quot;: 1.0706647602425299, &quot;z&quot;: -0.08046656871672628}, {&quot;x&quot;: -1.842942097176295, &quot;y&quot;: 0.7852042466576049, &quot;z&quot;: -0.08046656871672628}, {&quot;x&quot;: -1.945032099985627, &quot;y&quot;: 0.4794073555330568, &quot;z&quot;: -0.08046656871672628}, {&quot;x&quot;: -1.9967467930836738, &quot;y&quot;: 0.16119406572129705, &quot;z&quot;: -0.08046656871672628}, {&quot;x&quot;: -1.9967467930836735, &quot;y&quot;: -0.16119406572129832, &quot;z&quot;: -0.08046656871672628}, {&quot;x&quot;: -1.9450320999856268, &quot;y&quot;: -0.479407355533058, &quot;z&quot;: -0.08046656871672628}, {&quot;x&quot;: -1.8429420971762944, &quot;y&quot;: -0.785204246657606, &quot;z&quot;: -0.08046656871672628}, {&quot;x&quot;: -1.6931208621030278, &quot;y&quot;: -1.070664760242531, &quot;z&quot;: -0.08046656871672628}, {&quot;x&quot;: -1.4994486860567517, &quot;y&quot;: -1.3283956189314905, &quot;z&quot;: -0.08046656871672628}, {&quot;x&quot;: -1.2669415766657524, &quot;y&quot;: -1.5517217288642298, &quot;z&quot;: -0.08046656871672628}, {&quot;x&quot;: -1.0016213459328926, &quot;y&quot;: -1.734859061101298, &quot;z&quot;: -0.08046656871672628}, {&quot;x&quot;: -0.7103596484678507, &quot;y&quot;: -1.8730644549353686, &quot;z&quot;: -0.08046656871672628}, {&quot;x&quot;: -0.4007000092422423, &quot;y&quot;: -1.9627584632620907, &quot;z&quot;: -0.08046656871672628}, {&quot;x&quot;: -0.08066245025528793, &quot;y&quot;: -2.0016180583798975, &quot;z&quot;: -0.08046656871672628}, {&quot;x&quot;: 0.24146422382324323, &quot;y&quot;: -1.988636797187243, &quot;z&quot;: -0.08046656871672628}, {&quot;x&quot;: 0.557337101340072, &quot;y&quot;: -1.9241508875302746, &quot;z&quot;: -0.08046656871672628}, {&quot;x&quot;: 0.8587752406878989, &quot;y&quot;: -1.8098304805962184, &quot;z&quot;: -0.08046656871672628}, {&quot;x&quot;: 1.137971552395783, &quot;y&quot;: -1.64863641487492, &quot;z&quot;: -0.08046656871672628}, {&quot;x&quot;: 1.387694998645563, &quot;y&quot;: -1.4447435319972153, &quot;z&quot;: -0.08046656871672628}, {&quot;x&quot;: 1.6014778733530588, &quot;y&quot;: -1.2034325505296344, &quot;z&quot;: -0.08046656871672628}, {&quot;x&quot;: 1.773783312358323, &quot;y&quot;: -0.9309532981373625, &quot;z&quot;: -0.08046656871672628}, {&quot;x&quot;: 1.9001486952990005, &quot;y&quot;: -0.6343628443305954, &quot;z&quot;: -0.08046656871672628}, {&quot;x&quot;: 1.9773012251336088, &quot;y&quot;: -0.3213427260711327, &quot;z&quot;: -0.08046656871672628}, {&quot;x&quot;: 2.00324269186579, &quot;y&quot;: -4.906529501017535e-16, &quot;z&quot;: -0.08046656871672628}, {&quot;x&quot;: 2.0027824120172215, &quot;y&quot;: 0.32548382200160614, &quot;z&quot;: -0.2393156642875583}, {&quot;x&quot;: 2.029058182573948, &quot;y&quot;: 0.0, &quot;z&quot;: -0.2393156642875583}, {&quot;x&quot;: 1.9246356290024342, &quot;y&quot;: 0.642537783982154, &quot;z&quot;: -0.2393156642875583}, {&quot;x&quot;: 1.796641794161053, &quot;y&quot;: 0.9429503548671291, &quot;z&quot;: -0.2393156642875583}, {&quot;x&quot;: 1.6221158805834028, &quot;y&quot;: 1.2189410068700717, &quot;z&quot;: -0.2393156642875583}, {&quot;x&quot;: 1.405578017756901, &quot;y&quot;: 1.4633617270753236, &quot;z&quot;: -0.2393156642875583}, {&quot;x&quot;: 1.1526364225866492, &quot;y&quot;: 1.6698821472178638, &quot;z&quot;: -0.2393156642875583}, {&quot;x&quot;: 0.8698421495234523, &quot;y&quot;: 1.8331534968961853, &quot;z&quot;: -0.2393156642875583}, {&quot;x&quot;: 0.564519421694651, &quot;y&quot;: 1.9489471339161126, &quot;z&quot;: -0.2393156642875583}, {&quot;x&quot;: 0.2445759373723637, &quot;y&quot;: 2.0142640639024276, &quot;z&quot;: -0.2393156642875583}, {&quot;x&quot;: -0.08170193525804038, &quot;y&quot;: 2.027412612677889, &quot;z&quot;: -0.2393156642875583}, {&quot;x&quot;: -0.4058637706813127, &quot;y&quot;: 1.9880522397358273, &quot;z&quot;: -0.2393156642875583}, {&quot;x&quot;: -0.7195139476343663, &quot;y&quot;: 1.8972023580603898, &quot;z&quot;: -0.2393156642875583}, {&quot;x&quot;: -1.0145290912869729, &quot;y&quot;: 1.7572159318657234, &quot;z&quot;: -0.2393156642875583}, {&quot;x&quot;: -1.2832684643828531, &quot;y&quot;: 1.5717185360587838, &quot;z&quot;: -0.2393156642875583}, {&quot;x&quot;: -1.51877185832112, &quot;y&quot;: 1.3455144557536738, &quot;z&quot;: -0.2393156642875583}, {&quot;x&quot;: -1.7149398589030116, &quot;y&quot;: 1.08446225781076, &quot;z&quot;: -0.2393156642875583}, {&quot;x&quot;: -1.8666918179557657, &quot;y&quot;: 0.7953230570323558, &quot;z&quot;: -0.2393156642875583}, {&quot;x&quot;: -1.9700974394515511, &quot;y&quot;: 0.4855854068407889, &quot;z&quot;: -0.2393156642875583}, {&quot;x&quot;: -2.022478572110101, &quot;y&quot;: 0.16327134967832102, &quot;z&quot;: -0.2393156642875583}, {&quot;x&quot;: -2.0224785721101006, &quot;y&quot;: -0.16327134967832233, &quot;z&quot;: -0.2393156642875583}, {&quot;x&quot;: -1.970097439451551, &quot;y&quot;: -0.4855854068407901, &quot;z&quot;: -0.2393156642875583}, {&quot;x&quot;: -1.866691817955765, &quot;y&quot;: -0.795323057032357, &quot;z&quot;: -0.2393156642875583}, {&quot;x&quot;: -1.714939858903011, &quot;y&quot;: -1.0844622578107612, &quot;z&quot;: -0.2393156642875583}, {&quot;x&quot;: -1.5187718583211192, &quot;y&quot;: -1.3455144557536747, &quot;z&quot;: -0.2393156642875583}, {&quot;x&quot;: -1.283268464382852, &quot;y&quot;: -1.5717185360587846, &quot;z&quot;: -0.2393156642875583}, {&quot;x&quot;: -1.0145290912869716, &quot;y&quot;: -1.757215931865724, &quot;z&quot;: -0.2393156642875583}, {&quot;x&quot;: -0.7195139476343646, &quot;y&quot;: -1.8972023580603905, &quot;z&quot;: -0.2393156642875583}, {&quot;x&quot;: -0.4058637706813106, &quot;y&quot;: -1.9880522397358278, &quot;z&quot;: -0.2393156642875583}, {&quot;x&quot;: -0.08170193525803772, &quot;y&quot;: -2.027412612677889, &quot;z&quot;: -0.2393156642875583}, {&quot;x&quot;: 0.24457593737236674, &quot;y&quot;: -2.014264063902427, &quot;z&quot;: -0.2393156642875583}, {&quot;x&quot;: 0.5645194216946544, &quot;y&quot;: -1.9489471339161115, &quot;z&quot;: -0.2393156642875583}, {&quot;x&quot;: 0.8698421495234558, &quot;y&quot;: -1.8331534968961838, &quot;z&quot;: -0.2393156642875583}, {&quot;x&quot;: 1.1526364225866532, &quot;y&quot;: -1.6698821472178613, &quot;z&quot;: -0.2393156642875583}, {&quot;x&quot;: 1.4055780177569046, &quot;y&quot;: -1.46336172707532, &quot;z&quot;: -0.2393156642875583}, {&quot;x&quot;: 1.622115880583406, &quot;y&quot;: -1.2189410068700675, &quot;z&quot;: -0.2393156642875583}, {&quot;x&quot;: 1.796641794161056, &quot;y&quot;: -0.942950354867124, &quot;z&quot;: -0.2393156642875583}, {&quot;x&quot;: 1.9246356290024362, &quot;y&quot;: -0.6425377839821482, &quot;z&quot;: -0.2393156642875583}, {&quot;x&quot;: 2.0027824120172224, &quot;y&quot;: -0.3254838220015998, &quot;z&quot;: -0.2393156642875583}, {&quot;x&quot;: 2.029058182573948, &quot;y&quot;: -4.969759217145862e-16, &quot;z&quot;: -0.2393156642875583}, {&quot;x&quot;: 2.0530848364288152, &quot;y&quot;: 0.3336587616531591, &quot;z&quot;: -0.3919666098600757}, {&quot;x&quot;: 2.080020556341176, &quot;y&quot;: 0.0, &quot;z&quot;: -0.3919666098600757}, {&quot;x&quot;: 1.972975297688781, &quot;y&quot;: 0.6586759366423829, &quot;z&quot;: -0.3919666098600757}, {&quot;x&quot;: 1.8417667350948363, &quot;y&quot;: 0.9666337508591154, &quot;z&quot;: -0.3919666098600757}, {&quot;x&quot;: 1.6628573814974776, &quot;y&quot;: 1.2495562586779385, &quot;z&quot;: -0.3919666098600757}, {&quot;x&quot;: 1.4408808951781187, &quot;y&quot;: 1.5001159157586985, &quot;z&quot;: -0.3919666098600757}, {&quot;x&quot;: 1.1815863505335482, &quot;y&quot;: 1.7118233585959346, &quot;z&quot;: -0.3919666098600757}, {&quot;x&quot;: 0.8916893400689051, &quot;y&quot;: 1.8791954756249643, &quot;z&quot;: -0.3919666098600757}, {&quot;x&quot;: 0.5786980440793316, &quot;y&quot;: 1.9978974169312627, &quot;z&quot;: -0.3919666098600757}, {&quot;x&quot;: 0.25071877272419635, &quot;y&quot;: 2.0648548645862568, &quot;z&quot;: -0.3919666098600757}, {&quot;x&quot;: -0.0837539831479852, &quot;y&quot;: 2.078333655866811, &quot;z&quot;: -0.3919666098600757}, {&quot;x&quot;: -0.41605755485057655, &quot;y&quot;: 2.0379846971588416, &quot;z&quot;: -0.3919666098600757}, {&quot;x&quot;: -0.7375854544275137, &quot;y&quot;: 1.944853005298553, &quot;z&quot;: -0.3919666098600757}, {&quot;x&quot;: -1.0400102781705869, &quot;y&quot;: 1.8013506421853005, &quot;z&quot;: -0.3919666098600757}, {&quot;x&quot;: -1.3154993820012997, &quot;y&quot;: 1.611194243645394, &quot;z&quot;: -0.3919666098600757}, {&quot;x&quot;: -1.556917742838203, &quot;y&quot;: 1.3793087605164591, &quot;z&quot;: -0.3919666098600757}, {&quot;x&quot;: -1.7580127519468498, &quot;y&quot;: 1.1116999050076954, &quot;z&quot;: -0.3919666098600757}, {&quot;x&quot;: -1.9135761542216732, &quot;y&quot;: 0.8152986059083182, &quot;z&quot;: -0.3919666098600757}, {&quot;x&quot;: -2.0195789392574492, &quot;y&quot;: 0.4977815011725638, &quot;z&quot;: -0.3919666098600757}, {&quot;x&quot;: -2.0732756906024528, &quot;y&quot;: 0.16737211702902913, &quot;z&quot;: -0.3919666098600757}, {&quot;x&quot;: -2.0732756906024523, &quot;y&quot;: -0.16737211702903046, &quot;z&quot;: -0.3919666098600757}, {&quot;x&quot;: -2.019578939257449, &quot;y&quot;: -0.4977815011725651, &quot;z&quot;: -0.3919666098600757}, {&quot;x&quot;: -1.9135761542216725, &quot;y&quot;: -0.8152986059083194, &quot;z&quot;: -0.3919666098600757}, {&quot;x&quot;: -1.7580127519468491, &quot;y&quot;: -1.1116999050076966, &quot;z&quot;: -0.3919666098600757}, {&quot;x&quot;: -1.5569177428382022, &quot;y&quot;: -1.37930876051646, &quot;z&quot;: -0.3919666098600757}, {&quot;x&quot;: -1.3154993820012986, &quot;y&quot;: -1.611194243645395, &quot;z&quot;: -0.3919666098600757}, {&quot;x&quot;: -1.0400102781705856, &quot;y&quot;: -1.801350642185301, &quot;z&quot;: -0.3919666098600757}, {&quot;x&quot;: -0.7375854544275119, &quot;y&quot;: -1.9448530052985538, &quot;z&quot;: -0.3919666098600757}, {&quot;x&quot;: -0.41605755485057433, &quot;y&quot;: -2.037984697158842, &quot;z&quot;: -0.3919666098600757}, {&quot;x&quot;: -0.08375398314798246, &quot;y&quot;: -2.078333655866811, &quot;z&quot;: -0.3919666098600757}, {&quot;x&quot;: 0.25071877272419946, &quot;y&quot;: -2.0648548645862563, &quot;z&quot;: -0.3919666098600757}, {&quot;x&quot;: 0.578698044079335, &quot;y&quot;: -1.9978974169312615, &quot;z&quot;: -0.3919666098600757}, {&quot;x&quot;: 0.8916893400689088, &quot;y&quot;: -1.8791954756249627, &quot;z&quot;: -0.3919666098600757}, {&quot;x&quot;: 1.1815863505335522, &quot;y&quot;: -1.7118233585959322, &quot;z&quot;: -0.3919666098600757}, {&quot;x&quot;: 1.4408808951781222, &quot;y&quot;: -1.5001159157586952, &quot;z&quot;: -0.3919666098600757}, {&quot;x&quot;: 1.662857381497481, &quot;y&quot;: -1.249556258677934, &quot;z&quot;: -0.3919666098600757}, {&quot;x&quot;: 1.841766735094839, &quot;y&quot;: -0.9666337508591102, &quot;z&quot;: -0.3919666098600757}, {&quot;x&quot;: 1.972975297688783, &quot;y&quot;: -0.658675936642377, &quot;z&quot;: -0.3919666098600757}, {&quot;x&quot;: 2.0530848364288166, &quot;y&quot;: -0.3336587616531526, &quot;z&quot;: -0.3919666098600757}, {&quot;x&quot;: 2.080020556341176, &quot;y&quot;: -5.094581032967836e-16, &quot;z&quot;: -0.3919666098600757}, {&quot;x&quot;: 2.1269056919987763, &quot;y&quot;: 0.3456558183829207, &quot;z&quot;: -0.5344658261278018}, {&quot;x&quot;: 2.1548099144562056, &quot;y&quot;: 0.0, &quot;z&quot;: -0.5344658261278018}, {&quot;x&quot;: 2.043915729330722, &quot;y&quot;: 0.6823593326343692, &quot;z&quot;: -0.5344658261278018}, {&quot;x&quot;: 1.9079894228925252, &quot;y&quot;: 1.0013900985974493, &quot;z&quot;: -0.5344658261278018}, {&quot;x&quot;: 1.722647192622131, &quot;y&quot;: 1.2944853870128665, &quot;z&quot;: -0.5344658261278018}, {&quot;x&quot;: 1.4926893049277503, &quot;y&quot;: 1.554054183866531, &quot;z&quot;: -0.5344658261278018}, {&quot;x&quot;: 1.2240715483093483, &quot;y&quot;: 1.7733737936651468, &quot;z&quot;: -0.5344658261278018}, {&quot;x&quot;: 0.9237509815649274, &quot;y&quot;: 1.9467639537182193, &quot;z&quot;: -0.5344658261278018}, {&quot;x&quot;: 0.5995057496220345, &quot;y&quot;: 2.0697339499580334, &quot;z&quot;: -0.5344658261278018}, {&quot;x&quot;: 0.2597336336698085, &quot;y&quot;: 2.1390989240751437, &quot;z&quot;: -0.5344658261278018}, {&quot;x&quot;: -0.08676544696266654, &quot;y&quot;: 2.153062359675662, &quot;z&quot;: -0.5344658261278018}, {&quot;x&quot;: -0.43101734809460035, &quot;y&quot;: 2.111262611112189, &quot;z&quot;: -0.5344658261278018}, {&quot;x&quot;: -0.7641061263138774, &quot;y&quot;: 2.014782269916122, &quot;z&quot;: -0.5344658261278018}, {&quot;x&quot;: -1.0774049572281017, &quot;y&quot;: 1.866120126245648, &quot;z&quot;: -0.5344658261278018}, {&quot;x&quot;: -1.3627995656848968, &quot;y&quot;: 1.6691264515332016, &quot;z&quot;: -0.5344658261278018}, {&quot;x&quot;: -1.6128983812361204, &quot;y&quot;: 1.4289032784778204, &quot;z&quot;: -0.5344658261278018}, {&quot;x&quot;: -1.8212239759298572, &quot;y&quot;: 1.1516722610782126, &quot;z&quot;: -0.5344658261278018}, {&quot;x&quot;: -1.9823808262919387, &quot;y&quot;: 0.8446135370622775, &quot;z&quot;: -0.5344658261278018}, {&quot;x&quot;: -2.092195054549784, &quot;y&quot;: 0.5156797660915022, &quot;z&quot;: -0.5344658261278018}, {&quot;x&quot;: -2.147822529874275, &quot;y&quot;: 0.17339016005307198, &quot;z&quot;: -0.5344658261278018}, {&quot;x&quot;: -2.147822529874275, &quot;y&quot;: -0.17339016005307334, &quot;z&quot;: -0.5344658261278018}, {&quot;x&quot;: -2.0921950545497836, &quot;y&quot;: -0.5156797660915035, &quot;z&quot;: -0.5344658261278018}, {&quot;x&quot;: -1.982380826291938, &quot;y&quot;: -0.8446135370622786, &quot;z&quot;: -0.5344658261278018}, {&quot;x&quot;: -1.8212239759298565, &quot;y&quot;: -1.151672261078214, &quot;z&quot;: -0.5344658261278018}, {&quot;x&quot;: -1.6128983812361193, &quot;y&quot;: -1.4289032784778213, &quot;z&quot;: -0.5344658261278018}, {&quot;x&quot;: -1.3627995656848957, &quot;y&quot;: -1.6691264515332023, &quot;z&quot;: -0.5344658261278018}, {&quot;x&quot;: -1.0774049572281004, &quot;y&quot;: -1.8661201262456486, &quot;z&quot;: -0.5344658261278018}, {&quot;x&quot;: -0.7641061263138756, &quot;y&quot;: -2.0147822699161226, &quot;z&quot;: -0.5344658261278018}, {&quot;x&quot;: -0.4310173480945981, &quot;y&quot;: -2.1112626111121893, &quot;z&quot;: -0.5344658261278018}, {&quot;x&quot;: -0.08676544696266372, &quot;y&quot;: -2.153062359675662, &quot;z&quot;: -0.5344658261278018}, {&quot;x&quot;: 0.2597336336698118, &quot;y&quot;: -2.1390989240751432, &quot;z&quot;: -0.5344658261278018}, {&quot;x&quot;: 0.5995057496220381, &quot;y&quot;: -2.069733949958032, &quot;z&quot;: -0.5344658261278018}, {&quot;x&quot;: 0.9237509815649313, &quot;y&quot;: -1.9467639537182175, &quot;z&quot;: -0.5344658261278018}, {&quot;x&quot;: 1.2240715483093523, &quot;y&quot;: -1.7733737936651441, &quot;z&quot;: -0.5344658261278018}, {&quot;x&quot;: 1.4926893049277543, &quot;y&quot;: -1.5540541838665274, &quot;z&quot;: -0.5344658261278018}, {&quot;x&quot;: 1.7226471926221343, &quot;y&quot;: -1.2944853870128619, &quot;z&quot;: -0.5344658261278018}, {&quot;x&quot;: 1.9079894228925278, &quot;y&quot;: -1.001390098597444, &quot;z&quot;: -0.5344658261278018}, {&quot;x&quot;: 2.0439157293307244, &quot;y&quot;: -0.6823593326343631, &quot;z&quot;: -0.5344658261278018}, {&quot;x&quot;: 2.1269056919987777, &quot;y&quot;: -0.34565581838291404, &quot;z&quot;: -0.5344658261278018}, {&quot;x&quot;: 2.1548099144562056, &quot;y&quot;: -5.277762129019549e-16, &quot;z&quot;: -0.5344658261278018}, {&quot;x&quot;: 2.222333057344153, &quot;y&quot;: 0.36116427472335405, &quot;z&quot;: -0.663122658240796}, {&quot;x&quot;: 2.2514892518288994, &quot;y&quot;: 0.0, &quot;z&quot;: -0.663122658240796}, {&quot;x&quot;: 2.135619604012025, &quot;y&quot;: 0.7129745844422358, &quot;z&quot;: -0.663122658240796}, {&quot;x&quot;: 1.9935947247253363, &quot;y&quot;: 1.0463192269323773, &quot;z&quot;: -0.663122658240796}, {&quot;x&quot;: 1.7999367892553766, &quot;y&quot;: 1.352564751051166, &quot;z&quot;: -0.663122658240796}, {&quot;x&quot;: 1.559661436406986, &quot;y&quot;: 1.623779558587296, &quot;z&quot;: -0.663122658240796}, {&quot;x&quot;: 1.2789916716081036, &quot;y&quot;: 1.8529393284881632, &quot;z&quot;: -0.663122658240796}, {&quot;x&quot;: 0.9651966943379776, &quot;y&quot;: 2.0341089430854233, &quot;z&quot;: -0.663122658240796}, {&quot;x&quot;: 0.6264036296789885, &quot;y&quot;: 2.1625962045250255, &quot;z&quot;: -0.663122658240796}, {&quot;x&quot;: 0.27138704004599745, &quot;y&quot;: 2.2350733602269366, &quot;z&quot;: -0.663122658240796}, {&quot;x&quot;: -0.09065833137113333, &quot;y&quot;: 2.249663289928975, &quot;z&quot;: -0.663122658240796}, {&quot;x&quot;: -0.4503556996263816, &quot;y&quot;: 2.205988122115595, &quot;z&quot;: -0.663122658240796}, {&quot;x&quot;: -0.7983890918222687, &quot;y&quot;: 2.105179020691654, &quot;z&quot;: -0.663122658240796}, {&quot;x&quot;: -1.1257446259144483, &quot;y&quot;: 1.949846888431447, &quot;z&quot;: -0.663122658240796}, {&quot;x&quot;: -1.4239439655218822, &quot;y&quot;: 1.7440147459683, &quot;z&quot;: -0.663122658240796}, {&quot;x&quot;: -1.6852639043856417, &quot;y&quot;: 1.4930135376733595, &quot;z&quot;: -0.663122658240796}, {&quot;x&quot;: -1.9029363933542016, &quot;y&quot;: 1.203344062996598, &quot;z&quot;: -0.663122658240796}, {&quot;x&quot;: -2.0713238293013734, &quot;y&quot;: 0.8825086091757707, &quot;z&quot;: -0.663122658240796}, {&quot;x&quot;: -2.1860650660859737, &quot;y&quot;: 0.5388166459377293, &quot;z&quot;: -0.663122658240796}, {&quot;x&quot;: -2.2441883659460804, &quot;y&quot;: 0.18116961459725933, &quot;z&quot;: -0.663122658240796}, {&quot;x&quot;: -2.24418836594608, &quot;y&quot;: -0.18116961459726078, &quot;z&quot;: -0.663122658240796}, {&quot;x&quot;: -2.1860650660859733, &quot;y&quot;: -0.5388166459377307, &quot;z&quot;: -0.663122658240796}, {&quot;x&quot;: -2.0713238293013725, &quot;y&quot;: -0.8825086091757719, &quot;z&quot;: -0.663122658240796}, {&quot;x&quot;: -1.9029363933542007, &quot;y&quot;: -1.203344062996599, &quot;z&quot;: -0.663122658240796}, {&quot;x&quot;: -1.6852639043856406, &quot;y&quot;: -1.4930135376733606, &quot;z&quot;: -0.663122658240796}, {&quot;x&quot;: -1.423943965521881, &quot;y&quot;: -1.7440147459683006, &quot;z&quot;: -0.663122658240796}, {&quot;x&quot;: -1.125744625914447, &quot;y&quot;: -1.9498468884314477, &quot;z&quot;: -0.663122658240796}, {&quot;x&quot;: -0.7983890918222668, &quot;y&quot;: -2.1051790206916543, &quot;z&quot;: -0.663122658240796}, {&quot;x&quot;: -0.4503556996263792, &quot;y&quot;: -2.2059881221155955, &quot;z&quot;: -0.663122658240796}, {&quot;x&quot;: -0.09065833137113037, &quot;y&quot;: -2.249663289928975, &quot;z&quot;: -0.663122658240796}, {&quot;x&quot;: 0.2713870400460009, &quot;y&quot;: -2.235073360226936, &quot;z&quot;: -0.663122658240796}, {&quot;x&quot;: 0.6264036296789922, &quot;y&quot;: -2.162596204525024, &quot;z&quot;: -0.663122658240796}, {&quot;x&quot;: 0.9651966943379816, &quot;y&quot;: -2.0341089430854216, &quot;z&quot;: -0.663122658240796}, {&quot;x&quot;: 1.2789916716081078, &quot;y&quot;: -1.8529393284881606, &quot;z&quot;: -0.663122658240796}, {&quot;x&quot;: 1.55966143640699, &quot;y&quot;: -1.6237795585872923, &quot;z&quot;: -0.663122658240796}, {&quot;x&quot;: 1.7999367892553801, &quot;y&quot;: -1.3525647510511611, &quot;z&quot;: -0.663122658240796}, {&quot;x&quot;: 1.9935947247253394, &quot;y&quot;: -1.0463192269323716, &quot;z&quot;: -0.663122658240796}, {&quot;x&quot;: 2.135619604012027, &quot;y&quot;: -0.7129745844422294, &quot;z&quot;: -0.663122658240796}, {&quot;x&quot;: 2.222333057344154, &quot;y&quot;: -0.36116427472334706, &quot;z&quot;: -0.663122658240796}, {&quot;x&quot;: 2.2514892518288994, &quot;y&quot;: -5.514558211133861e-16, &quot;z&quot;: -0.663122658240796}, {&quot;x&quot;: 2.3368954138281888, &quot;y&quot;: 0.37978246980145913, &quot;z&quot;: -0.7746049618276553}, {&quot;x&quot;: 2.3675546244046237, &quot;y&quot;: 0.0, &quot;z&quot;: -0.7746049618276553}, {&quot;x&quot;: 2.2457118395482722, &quot;y&quot;: 0.7497287731256109, &quot;z&quot;: -0.7746049618276553}, {&quot;x&quot;: 2.0963655082421964, &quot;y&quot;: 1.1002574950402098, &quot;z&quot;: -0.7746049618276553}, {&quot;x&quot;: 1.8927244114427706, &quot;y&quot;: 1.4222901257719311, &quot;z&quot;: -0.7746049618276553}, {&quot;x&quot;: 1.6400627465893556, &quot;y&quot;: 1.70748618934078, &quot;z&quot;: -0.7746049618276553}, {&quot;x&quot;: 1.3449243180845896, &quot;y&quot;: 1.9484592575069206, &quot;z&quot;: -0.7746049618276553}, {&quot;x&quot;: 1.0149530561976647, &quot;y&quot;: 2.1389682543821773, &quot;z&quot;: -0.7746049618276553}, {&quot;x&quot;: 0.6586950432855248, &quot;y&quot;: 2.274079097017252, &quot;z&quot;: -0.7746049618276553}, {&quot;x&quot;: 0.28537717474887253, &quot;y&quot;: 2.350292485558355, &quot;z&quot;: -0.7746049618276553}, {&quot;x&quot;: -0.09533181271204434, &quot;y&quot;: 2.365634533275323, &quot;z&quot;: -0.7746049618276553}, {&quot;x&quot;: -0.4735717562992159, &quot;y&quot;: 2.3197078891910925, &quot;z&quot;: -0.7746049618276553}, {&quot;x&quot;: -0.8395464401540331, &quot;y&quot;: 2.2137020292632905, &quot;z&quot;: -0.7746049618276553}, {&quot;x&quot;: -1.1837773122023105, &quot;y&quot;: 2.0503624495817303, &quot;z&quot;: -0.7746049618276553}, {&quot;x&quot;: -1.4973489736741536, &quot;y&quot;: 1.8339195594618314, &quot;z&quot;: -0.7746049618276553}, {&quot;x&quot;: -1.7721400832490546, &quot;y&quot;: 1.5699791160654823, &quot;z&quot;: -0.7746049618276553}, {&quot;x&quot;: -2.0010336955301504, &quot;y&quot;: 1.2653770382351135, &quot;z&quot;: -0.7746049618276553}, {&quot;x&quot;: -2.178101586191642, &quot;y&quot;: 0.9280023597864239, &quot;z&quot;: -0.7746049618276553}, {&quot;x&quot;: -2.2987577898748794, &quot;y&quot;: 0.5665929076764716, &quot;z&quot;: -0.7746049618276553}, {&quot;x&quot;: -2.3598773742822536, &quot;y&quot;: 0.19050899687525621, &quot;z&quot;: -0.7746049618276553}, {&quot;x&quot;: -2.359877374282253, &quot;y&quot;: -0.19050899687525774, &quot;z&quot;: -0.7746049618276553}, {&quot;x&quot;: -2.298757789874879, &quot;y&quot;: -0.5665929076764731, &quot;z&quot;: -0.7746049618276553}, {&quot;x&quot;: -2.1781015861916413, &quot;y&quot;: -0.9280023597864252, &quot;z&quot;: -0.7746049618276553}, {&quot;x&quot;: -2.0010336955301495, &quot;y&quot;: -1.2653770382351148, &quot;z&quot;: -0.7746049618276553}, {&quot;x&quot;: -1.7721400832490535, &quot;y&quot;: -1.5699791160654835, &quot;z&quot;: -0.7746049618276553}, {&quot;x&quot;: -1.4973489736741523, &quot;y&quot;: -1.8339195594618323, &quot;z&quot;: -0.7746049618276553}, {&quot;x&quot;: -1.1837773122023092, &quot;y&quot;: -2.0503624495817308, &quot;z&quot;: -0.7746049618276553}, {&quot;x&quot;: -0.8395464401540311, &quot;y&quot;: -2.213702029263291, &quot;z&quot;: -0.7746049618276553}, {&quot;x&quot;: -0.4735717562992134, &quot;y&quot;: -2.3197078891910934, &quot;z&quot;: -0.7746049618276553}, {&quot;x&quot;: -0.09533181271204123, &quot;y&quot;: -2.365634533275323, &quot;z&quot;: -0.7746049618276553}, {&quot;x&quot;: 0.28537717474887614, &quot;y&quot;: -2.3502924855583545, &quot;z&quot;: -0.7746049618276553}, {&quot;x&quot;: 0.6586950432855287, &quot;y&quot;: -2.2740790970172506, &quot;z&quot;: -0.7746049618276553}, {&quot;x&quot;: 1.014953056197669, &quot;y&quot;: -2.1389682543821755, &quot;z&quot;: -0.7746049618276553}, {&quot;x&quot;: 1.344924318084594, &quot;y&quot;: -1.9484592575069177, &quot;z&quot;: -0.7746049618276553}, {&quot;x&quot;: 1.6400627465893598, &quot;y&quot;: -1.707486189340776, &quot;z&quot;: -0.7746049618276553}, {&quot;x&quot;: 1.8927244114427744, &quot;y&quot;: -1.4222901257719263, &quot;z&quot;: -0.7746049618276553}, {&quot;x&quot;: 2.0963655082421995, &quot;y&quot;: -1.1002574950402038, &quot;z&quot;: -0.7746049618276553}, {&quot;x&quot;: 2.2457118395482745, &quot;y&quot;: -0.7497287731256042, &quot;z&quot;: -0.7746049618276553}, {&quot;x&quot;: 2.33689541382819, &quot;y&quot;: -0.3797824698014518, &quot;z&quot;: -0.7746049618276553}, {&quot;x&quot;: 2.3675546244046237, &quot;y&quot;: -5.798836385167273e-16, &quot;z&quot;: -0.7746049618276553}, {&quot;x&quot;: 2.4676256565947834, &quot;y&quot;: 0.4010282021444008, &quot;z&quot;: -0.8660254037844393}, {&quot;x&quot;: 2.5000000000000013, &quot;y&quot;: 0.0, &quot;z&quot;: -0.8660254037844393}, {&quot;x&quot;: 2.3713411048678648, &quot;y&quot;: 0.7916699845036816, &quot;z&quot;: -0.8660254037844393}, {&quot;x&quot;: 2.213640064133026, &quot;y&quot;: 1.161807930109422, &quot;z&quot;: -0.8660254037844393}, {&quot;x&quot;: 1.998606908508754, &quot;y&quot;: 1.5018556605949478, &quot;z&quot;: -0.8660254037844393}, {&quot;x&quot;: 1.7318108837739996, &quot;y&quot;: 1.8030061183595372, &quot;z&quot;: -0.8660254037844393}, {&quot;x&quot;: 1.4201618668278906, &quot;y&quot;: 2.0574596647341417, &quot;z&quot;: -0.8660254037844393}, {&quot;x&quot;: 1.0717314035076366, &quot;y&quot;: 2.2586260865259566, &quot;z&quot;: -0.8660254037844393}, {&quot;x&quot;: 0.6955436597911328, &quot;y&quot;: 2.401295279078432, &quot;z&quot;: -0.8660254037844393}, {&quot;x&quot;: 0.3013417006383088, &quot;y&quot;: 2.4817721852451364, &quot;z&quot;: -0.8660254037844393}, {&quot;x&quot;: -0.10066485027353675, &quot;y&quot;: 2.4979724954289257, &quot;z&quot;: -0.8660254037844393}, {&quot;x&quot;: -0.5000642344401101, &quot;y&quot;: 2.449476630105671, &quot;z&quot;: -0.8660254037844393}, {&quot;x&quot;: -0.8865122176063381, &quot;y&quot;: 2.3375406067135387, &quot;z&quot;: -0.8660254037844393}, {&quot;x&quot;: -1.2499999999999993, &quot;y&quot;: 2.1650635094610986, &quot;z&quot;: -0.8660254037844393}, {&quot;x&quot;: -1.581113438988443, &quot;y&quot;: 1.9365124045691384, &quot;z&quot;: -0.8660254037844393}, {&quot;x&quot;: -1.8712768704277531, &quot;y&quot;: 1.6578066456019898, &quot;z&quot;: -0.8660254037844393}, {&quot;x&quot;: -2.1129752138594875, &quot;y&quot;: 1.3361645653195038, &quot;z&quot;: -0.8660254037844393}, {&quot;x&quot;: -2.299948609147062, &quot;y&quot;: 0.9799165246501884, &quot;z&quot;: -0.8660254037844393}, {&quot;x&quot;: -2.4273545435651314, &quot;y&quot;: 0.5982891607188945, &quot;z&quot;: -0.8660254037844393}, {&quot;x&quot;: -2.4918932703355265, &quot;y&quot;: 0.2011664217918142, &quot;z&quot;: -0.8660254037844393}, {&quot;x&quot;: -2.491893270335526, &quot;y&quot;: -0.2011664217918158, &quot;z&quot;: -0.8660254037844393}, {&quot;x&quot;: -2.427354543565131, &quot;y&quot;: -0.598289160718896, &quot;z&quot;: -0.8660254037844393}, {&quot;x&quot;: -2.299948609147061, &quot;y&quot;: -0.9799165246501897, &quot;z&quot;: -0.8660254037844393}, {&quot;x&quot;: -2.1129752138594866, &quot;y&quot;: -1.3361645653195051, &quot;z&quot;: -0.8660254037844393}, {&quot;x&quot;: -1.871276870427752, &quot;y&quot;: -1.6578066456019909, &quot;z&quot;: -0.8660254037844393}, {&quot;x&quot;: -1.5811134389884416, &quot;y&quot;: -1.936512404569139, &quot;z&quot;: -0.8660254037844393}, {&quot;x&quot;: -1.2499999999999978, &quot;y&quot;: -2.1650635094610995, &quot;z&quot;: -0.8660254037844393}, {&quot;x&quot;: -0.886512217606336, &quot;y&quot;: -2.3375406067135396, &quot;z&quot;: -0.8660254037844393}, {&quot;x&quot;: -0.5000642344401074, &quot;y&quot;: -2.4494766301056714, &quot;z&quot;: -0.8660254037844393}, {&quot;x&quot;: -0.10066485027353347, &quot;y&quot;: -2.4979724954289257, &quot;z&quot;: -0.8660254037844393}, {&quot;x&quot;: 0.30134170063831256, &quot;y&quot;: -2.4817721852451355, &quot;z&quot;: -0.8660254037844393}, {&quot;x&quot;: 0.695543659791137, &quot;y&quot;: -2.4012952790784303, &quot;z&quot;: -0.8660254037844393}, {&quot;x&quot;: 1.071731403507641, &quot;y&quot;: -2.2586260865259544, &quot;z&quot;: -0.8660254037844393}, {&quot;x&quot;: 1.4201618668278952, &quot;y&quot;: -2.0574596647341385, &quot;z&quot;: -0.8660254037844393}, {&quot;x&quot;: 1.731810883774004, &quot;y&quot;: -1.803006118359533, &quot;z&quot;: -0.8660254037844393}, {&quot;x&quot;: 1.9986069085087579, &quot;y&quot;: -1.5018556605949427, &quot;z&quot;: -0.8660254037844393}, {&quot;x&quot;: 2.2136400641330294, &quot;y&quot;: -1.1618079301094157, &quot;z&quot;: -0.8660254037844393}, {&quot;x&quot;: 2.3713411048678674, &quot;y&quot;: -0.7916699845036745, &quot;z&quot;: -0.8660254037844393}, {&quot;x&quot;: 2.4676256565947847, &quot;y&quot;: -0.40102820214439305, &quot;z&quot;: -0.8660254037844393}, {&quot;x&quot;: 2.5000000000000013, &quot;y&quot;: -6.123233995736769e-16, &quot;z&quot;: -0.8660254037844393}, {&quot;x&quot;: 2.6111379410257176, &quot;y&quot;: 0.4243512184443664, &quot;z&quot;: -0.9350162426854154}, {&quot;x&quot;: 2.6453951129574658, &quot;y&quot;: 0.0, &quot;z&quot;: -0.9350162426854154}, {&quot;x&quot;: 2.5092536679890416, &quot;y&quot;: 0.8377119632324603, &quot;z&quot;: -0.9350162426854154}, {&quot;x&quot;: 2.3423810430017418, &quot;y&quot;: 1.2293764082026768, &quot;z&quot;: -0.9350162426854154}, {&quot;x&quot;: 2.1148419793968336, &quot;y&quot;: 1.5892006499621518, &quot;z&quot;: -0.9350162426854154}, {&quot;x&quot;: 1.8325296194009144, &quot;y&quot;: 1.9078654296562907, &quot;z&quot;: -0.9350162426854154}, {&quot;x&quot;: 1.5027557048460205, &quot;y&quot;: 2.1771174968779206, &quot;z&quot;: -0.9350162426854154}, {&quot;x&quot;: 1.1340612068968585, &quot;y&quot;: 2.389983364517603, &quot;z&quot;: -0.9350162426854154}, {&quot;x&quot;: 0.7359951193840047, &quot;y&quot;: 2.5409499184167657, &quot;z&quot;: -0.9350162426854154}, {&quot;x&quot;: 0.3188671448795493, &quot;y&quot;: 2.6261072041285, &quot;z&quot;: -0.9350162426854154}, {&quot;x&quot;: -0.1065193211840836, &quot;y&quot;: 2.643249692683937, &quot;z&quot;: -0.9350162426854154}, {&quot;x&quot;: -0.5291469927810731, &quot;y&quot;: 2.591933402634024, &quot;z&quot;: -0.9350162426854154}, {&quot;x&quot;: -0.9380700352131565, &quot;y&quot;: 2.473487398935849, &quot;z&quot;: -0.9350162426854154}, {&quot;x&quot;: -1.3226975564787313, &quot;y&quot;: 2.2909793708683712, &quot;z&quot;: -0.9350162426854154}, {&quot;x&quot;: -1.6730679058125588, &quot;y&quot;: 2.0491361804914825, &quot;z&quot;: -0.9350162426854154}, {&quot;x&quot;: -1.9801066752079666, &quot;y&quot;: 1.7542214394015643, &quot;z&quot;: -0.9350162426854154}, {&quot;x&quot;: -2.2358617218176566, &quot;y&quot;: 1.41387328448126, &quot;z&quot;: -0.9350162426854154}, {&quot;x&quot;: -2.433709124276382, &quot;y&quot;: 1.0369065541663485, &quot;z&quot;: -0.9350162426854154}, {&quot;x&quot;: -2.568524738784918, &quot;y&quot;: 0.6330844887604746, &quot;z&quot;: -0.9350162426854154}, {&quot;x&quot;: -2.636816911742878, &quot;y&quot;: 0.2128658676396821, &quot;z&quot;: -0.9350162426854154}, {&quot;x&quot;: -2.6368169117428777, &quot;y&quot;: -0.2128658676396838, &quot;z&quot;: -0.9350162426854154}, {&quot;x&quot;: -2.5685247387849177, &quot;y&quot;: -0.6330844887604762, &quot;z&quot;: -0.9350162426854154}, {&quot;x&quot;: -2.433709124276381, &quot;y&quot;: -1.0369065541663498, &quot;z&quot;: -0.9350162426854154}, {&quot;x&quot;: -2.2358617218176557, &quot;y&quot;: -1.4138732844812616, &quot;z&quot;: -0.9350162426854154}, {&quot;x&quot;: -1.9801066752079655, &quot;y&quot;: -1.7542214394015654, &quot;z&quot;: -0.9350162426854154}, {&quot;x&quot;: -1.6730679058125573, &quot;y&quot;: -2.0491361804914834, &quot;z&quot;: -0.9350162426854154}, {&quot;x&quot;: -1.3226975564787298, &quot;y&quot;: -2.2909793708683717, &quot;z&quot;: -0.9350162426854154}, {&quot;x&quot;: -0.9380700352131542, &quot;y&quot;: -2.4734873989358497, &quot;z&quot;: -0.9350162426854154}, {&quot;x&quot;: -0.5291469927810704, &quot;y&quot;: -2.591933402634025, &quot;z&quot;: -0.9350162426854154}, {&quot;x&quot;: -0.10651932118408013, &quot;y&quot;: -2.643249692683937, &quot;z&quot;: -0.9350162426854154}, {&quot;x&quot;: 0.3188671448795533, &quot;y&quot;: -2.6261072041284996, &quot;z&quot;: -0.9350162426854154}, {&quot;x&quot;: 0.7359951193840092, &quot;y&quot;: -2.5409499184167643, &quot;z&quot;: -0.9350162426854154}, {&quot;x&quot;: 1.1340612068968632, &quot;y&quot;: -2.3899833645176014, &quot;z&quot;: -0.9350162426854154}, {&quot;x&quot;: 1.5027557048460254, &quot;y&quot;: -2.1771174968779174, &quot;z&quot;: -0.9350162426854154}, {&quot;x&quot;: 1.832529619400919, &quot;y&quot;: -1.9078654296562865, &quot;z&quot;: -0.9350162426854154}, {&quot;x&quot;: 2.1148419793968376, &quot;y&quot;: -1.5892006499621463, &quot;z&quot;: -0.9350162426854154}, {&quot;x&quot;: 2.3423810430017453, &quot;y&quot;: -1.2293764082026701, &quot;z&quot;: -0.9350162426854154}, {&quot;x&quot;: 2.5092536679890443, &quot;y&quot;: -0.8377119632324529, &quot;z&quot;: -0.9350162426854154}, {&quot;x&quot;: 2.6111379410257194, &quot;y&quot;: -0.4243512184443582, &quot;z&quot;: -0.9350162426854154}, {&quot;x&quot;: 2.6453951129574658, &quot;y&quot;: -6.479349315126823e-16, &quot;z&quot;: -0.9350162426854154}, {&quot;x&quot;: 2.7637153743377647, &quot;y&quot;: 0.44914746483020357, &quot;z&quot;: -0.979790652042268}, {&quot;x&quot;: 2.799974306223957, &quot;y&quot;: 0.0, &quot;z&quot;: -0.979790652042268}, {&quot;x&quot;: 2.6558776659690992, &quot;y&quot;: 0.8866622462476103, &quot;z&quot;: -0.979790652042268}, {&quot;x&quot;: 2.4792541211201686, &quot;y&quot;: 1.3012129412294473, &quot;z&quot;: -0.979790652042268}, {&quot;x&quot;: 2.2384191968264813, &quot;y&quot;: 1.6820629045291438, &quot;z&quot;: -0.979790652042268}, {&quot;x&quot;: 1.93961039112248, &quot;y&quot;: 2.0193483221485167, &quot;z&quot;: -0.979790652042268}, {&quot;x&quot;: 1.5905666951188562, &quot;y&quot;: 2.3043336789391002, &quot;z&quot;: -0.979790652042268}, {&quot;x&quot;: 1.2003281571978885, &quot;y&quot;: 2.529638003855937, &quot;z&quot;: -0.979790652042268}, {&quot;x&quot;: 0.7790017505088592, &quot;y&quot;: 2.6894260332305966, &quot;z&quot;: -0.979790652042268}, {&quot;x&quot;: 0.3374996076724382, &quot;y&quot;: 2.779559341035064, &quot;z&quot;: -0.979790652042268}, {&quot;x&quot;: -0.11274359772231377, &quot;y&quot;: 2.7977035219420516, &quot;z&quot;: -0.979790652042268}, {&quot;x&quot;: -0.5600668031575442, &quot;y&quot;: 2.743388651196767, &quot;z&quot;: -0.979790652042268}, {&quot;x&quot;: -0.9928845725805467, &quot;y&quot;: 2.618021455421226, &quot;z&quot;: -0.979790652042268}, {&quot;x&quot;: -1.399987153111977, &quot;y&quot;: 2.424848879133657, &quot;z&quot;: -0.979790652042268}, {&quot;x&quot;: -1.7708308017572152, &quot;y&quot;: 2.168873990591023, &quot;z&quot;: -0.979790652042268}, {&quot;x&quot;: -2.095810862811553, &quot;y&quot;: 1.8567264049491576, &quot;z&quot;: -0.979790652042268}, {&quot;x&quot;: -2.3665105233978534, &quot;y&quot;: 1.4964905807126043, &quot;z&quot;: -0.979790652042268}, {&quot;x&quot;: -2.5759188044989183, &quot;y&quot;: 1.0974964365059203, &quot;z&quot;: -0.979790652042268}, {&quot;x&quot;: -2.718612141631338, &quot;y&quot;: 0.6700777110820797, &quot;z&quot;: -0.979790652042268}, {&quot;x&quot;: -2.7908948523167436, &quot;y&quot;: 0.22530432491683625, &quot;z&quot;: -0.979790652042268}, {&quot;x&quot;: -2.7908948523167436, &quot;y&quot;: -0.22530432491683802, &quot;z&quot;: -0.979790652042268}, {&quot;x&quot;: -2.7186121416313376, &quot;y&quot;: -0.6700777110820815, &quot;z&quot;: -0.979790652042268}, {&quot;x&quot;: -2.5759188044989174, &quot;y&quot;: -1.0974964365059219, &quot;z&quot;: -0.979790652042268}, {&quot;x&quot;: -2.366510523397852, &quot;y&quot;: -1.4964905807126059, &quot;z&quot;: -0.979790652042268}, {&quot;x&quot;: -2.0958108628115517, &quot;y&quot;: -1.856726404949159, &quot;z&quot;: -0.979790652042268}, {&quot;x&quot;: -1.7708308017572136, &quot;y&quot;: -2.168873990591024, &quot;z&quot;: -0.979790652042268}, {&quot;x&quot;: -1.3999871531119752, &quot;y&quot;: -2.4248488791336578, &quot;z&quot;: -0.979790652042268}, {&quot;x&quot;: -0.9928845725805444, &quot;y&quot;: -2.618021455421227, &quot;z&quot;: -0.979790652042268}, {&quot;x&quot;: -0.5600668031575412, &quot;y&quot;: -2.743388651196768, &quot;z&quot;: -0.979790652042268}, {&quot;x&quot;: -0.1127435977223101, &quot;y&quot;: -2.7977035219420516, &quot;z&quot;: -0.979790652042268}, {&quot;x&quot;: 0.33749960767244247, &quot;y&quot;: -2.7795593410350636, &quot;z&quot;: -0.979790652042268}, {&quot;x&quot;: 0.7790017505088639, &quot;y&quot;: -2.6894260332305953, &quot;z&quot;: -0.979790652042268}, {&quot;x&quot;: 1.2003281571978934, &quot;y&quot;: -2.529638003855935, &quot;z&quot;: -0.979790652042268}, {&quot;x&quot;: 1.5905666951188615, &quot;y&quot;: -2.3043336789390967, &quot;z&quot;: -0.979790652042268}, {&quot;x&quot;: 1.939610391122485, &quot;y&quot;: -2.0193483221485122, &quot;z&quot;: -0.979790652042268}, {&quot;x&quot;: 2.2384191968264857, &quot;y&quot;: -1.682062904529138, &quot;z&quot;: -0.979790652042268}, {&quot;x&quot;: 2.4792541211201726, &quot;y&quot;: -1.3012129412294404, &quot;z&quot;: -0.979790652042268}, {&quot;x&quot;: 2.6558776659691024, &quot;y&quot;: -0.8866622462476023, &quot;z&quot;: -0.979790652042268}, {&quot;x&quot;: 2.763715374337766, &quot;y&quot;: -0.44914746483019485, &quot;z&quot;: -0.979790652042268}, {&quot;x&quot;: 2.799974306223957, &quot;y&quot;: -6.857959143624e-16, &quot;z&quot;: -0.979790652042268}, {&quot;x&quot;: 2.92140628115338, &quot;y&quot;: 0.4747747315453879, &quot;z&quot;: -0.9991889981715697}, {&quot;x&quot;: 2.959734059890587, &quot;y&quot;: 0.0, &quot;z&quot;: -0.9991889981715697}, {&quot;x&quot;: 2.807415614278397, &quot;y&quot;: 0.9372530469314393, &quot;z&quot;: -0.9991889981715697}, {&quot;x&quot;: 2.6207143576611585, &quot;y&quot;: 1.3754570007183347, &quot;z&quot;: -0.9991889981715697}, {&quot;x&quot;: 2.3661379757783942, &quot;y&quot;: 1.7780373406809367, &quot;z&quot;: -0.9991889981715697}, {&quot;x&quot;: 2.050279863198049, &quot;y&quot;: 2.134567447479935, &quot;z&quot;: -0.9991889981715697}, {&quot;x&quot;: 1.6813205791233221, &quot;y&quot;: 2.4358133786258813, &quot;z&quot;: -0.9991889981715697}, {&quot;x&quot;: 1.268815975206357, &quot;y&quot;: 2.6739730227393013, &quot;z&quot;: -0.9991889981715697}, {&quot;x&quot;: 0.8234497040099061, &quot;y&quot;: 2.842878170137161, &quot;z&quot;: -0.9991889981715697}, {&quot;x&quot;: 0.356756518017822, &quot;y&quot;: 2.9381542662236466, &quot;z&quot;: -0.9991889981715697}, {&quot;x&quot;: -0.11917647439534913, &quot;y&quot;: 2.957333710156348, &quot;z&quot;: -0.9991889981715697}, {&quot;x&quot;: -0.5920228587222017, &quot;y&quot;: 2.8999197644119064, &quot;z&quot;: -0.9991889981715697}, {&quot;x&quot;: -1.0495361619834453, &quot;y&quot;: 2.767399420026946, &quot;z&quot;: -0.9991889981715697}, {&quot;x&quot;: -1.4798670299452918, &quot;y&quot;: 2.5632048843113027, &quot;z&quot;: -0.9991889981715697}, {&quot;x&quot;: -1.8718701191699316, &quot;y&quot;: 2.292624688481558, &quot;z&quot;: -0.9991889981715697}, {&quot;x&quot;: -2.2153927555561927, &quot;y&quot;: 1.9626667174804677, &quot;z&quot;: -0.9991889981715697}, {&quot;x&quot;: -2.5015378832658075, &quot;y&quot;: 1.5818767094380137, &quot;z&quot;: -0.9991889981715697}, {&quot;x&quot;: -2.722894493796215, &quot;y&quot;: 1.16011692554271, &quot;z&quot;: -0.9991889981715697}, {&quot;x&quot;: -2.873729567207954, &quot;y&quot;: 0.7083107226572258, &quot;z&quot;: -0.9991889981715697}, {&quot;x&quot;: -2.9501365543296783, &quot;y&quot;: 0.23815964411341925, &quot;z&quot;: -0.9991889981715697}, {&quot;x&quot;: -2.950136554329678, &quot;y&quot;: -0.23815964411342114, &quot;z&quot;: -0.9991889981715697}, {&quot;x&quot;: -2.8737295672079535, &quot;y&quot;: -0.7083107226572276, &quot;z&quot;: -0.9991889981715697}, {&quot;x&quot;: -2.7228944937962143, &quot;y&quot;: -1.1601169255427115, &quot;z&quot;: -0.9991889981715697}, {&quot;x&quot;: -2.5015378832658066, &quot;y&quot;: -1.5818767094380153, &quot;z&quot;: -0.9991889981715697}, {&quot;x&quot;: -2.215392755556192, &quot;y&quot;: -1.962666717480469, &quot;z&quot;: -0.9991889981715697}, {&quot;x&quot;: -1.87187011916993, &quot;y&quot;: -2.2926246884815593, &quot;z&quot;: -0.9991889981715697}, {&quot;x&quot;: -1.4798670299452898, &quot;y&quot;: -2.563204884311303, &quot;z&quot;: -0.9991889981715697}, {&quot;x&quot;: -1.0495361619834427, &quot;y&quot;: -2.7673994200269467, &quot;z&quot;: -0.9991889981715697}, {&quot;x&quot;: -0.5920228587221986, &quot;y&quot;: -2.8999197644119072, &quot;z&quot;: -0.9991889981715697}, {&quot;x&quot;: -0.11917647439534525, &quot;y&quot;: -2.957333710156348, &quot;z&quot;: -0.9991889981715697}, {&quot;x&quot;: 0.3567565180178265, &quot;y&quot;: -2.938154266223646, &quot;z&quot;: -0.9991889981715697}, {&quot;x&quot;: 0.8234497040099111, &quot;y&quot;: -2.8428781701371597, &quot;z&quot;: -0.9991889981715697}, {&quot;x&quot;: 1.2688159752063624, &quot;y&quot;: -2.673973022739299, &quot;z&quot;: -0.9991889981715697}, {&quot;x&quot;: 1.6813205791233277, &quot;y&quot;: -2.4358133786258778, &quot;z&quot;: -0.9991889981715697}, {&quot;x&quot;: 2.050279863198054, &quot;y&quot;: -2.13456744747993, &quot;z&quot;: -0.9991889981715697}, {&quot;x&quot;: 2.366137975778399, &quot;y&quot;: -1.7780373406809304, &quot;z&quot;: -0.9991889981715697}, {&quot;x&quot;: 2.6207143576611625, &quot;y&quot;: -1.3754570007183273, &quot;z&quot;: -0.9991889981715697}, {&quot;x&quot;: 2.8074156142784, &quot;y&quot;: -0.937253046931431, &quot;z&quot;: -0.9991889981715697}, {&quot;x&quot;: 2.921406281153381, &quot;y&quot;: -0.4747747315453787, &quot;z&quot;: -0.9991889981715697}, {&quot;x&quot;: 2.959734059890587, &quot;y&quot;: -7.249257685544815e-16, &quot;z&quot;: -0.9991889981715697}, {&quot;x&quot;: 3.080126549817259, &quot;y&quot;: 0.5005692858433797, &quot;z&quot;: -0.9927088740980538}, {&quot;x&quot;: 3.120536680255325, &quot;y&quot;: 0.0, &quot;z&quot;: -0.9927088740980538}, {&quot;x&quot;: 2.9599427596549432, &quot;y&quot;: 0.9881740901203607, &quot;z&quot;: -0.9927088740980538}, {&quot;x&quot;: 2.7630980068039417, &quot;y&quot;: 1.4501857045271855, &quot;z&quot;: -0.9927088740980538}, {&quot;x&quot;: 2.494690466965305, &quot;y&quot;: 1.8746382709342497, &quot;z&quot;: -0.9927088740980538}, {&quot;x&quot;: 2.1616717544328616, &quot;y&quot;: 2.2505386908262826, &quot;z&quot;: -0.9927088740980538}, {&quot;x&quot;: 1.7726668789345232, &quot;y&quot;: 2.5681513407794836, &quot;z&quot;: -0.9927088740980538}, {&quot;x&quot;: 1.3377508624108396, &quot;y&quot;: 2.8192502199943124, &quot;z&quot;: -0.9927088740980538}, {&quot;x&quot;: 0.8681878012389038, &quot;y&quot;: 2.997331999395276, &quot;z&quot;: -0.9927088740980538}, {&quot;x&quot;: 0.37613913205294464, &quot;y&quot;: 3.0977844544379427, &quot;z&quot;: -0.9927088740980538}, {&quot;x&quot;: -0.1256513430763926, &quot;y&quot;: 3.1180059193019543, &quot;z&quot;: -0.9927088740980538}, {&quot;x&quot;: -0.6241875144216642, &quot;y&quot;: 3.0574726686691784, &quot;z&quot;: -0.9927088740980538}, {&quot;x&quot;: -1.106557557014027, &quot;y&quot;: 2.9177524819343525, &quot;z&quot;: -0.9927088740980538}, {&quot;x&quot;: -1.5602683401276607, &quot;y&quot;: 2.7024640385422707, &quot;z&quot;: -0.9927088740980538}, {&quot;x&quot;: -1.9735689928032294, &quot;y&quot;: 2.417183196090973, &quot;z&quot;: -0.9927088740980538}, {&quot;x&quot;: -2.3357552452332766, &quot;y&quot;: 2.0692985785488185, &quot;z&quot;: -0.9927088740980538}, {&quot;x&quot;: -2.637446663727547, &quot;y&quot;: 1.6678202147747687, &quot;z&quot;: -0.9927088740980538}, {&quot;x&quot;: -2.870829599018248, &quot;y&quot;: 1.223146183503693, &quot;z&quot;: -0.9927088740980538}, {&quot;x&quot;: -3.0298595556717642, &quot;y&quot;: 0.7467933085689931, &quot;z&quot;: -0.9927088740980538}, {&quot;x&quot;: -3.110417741345362, &quot;y&quot;: 0.251098879214828, &quot;z&quot;: -0.9927088740980538}, {&quot;x&quot;: -3.1104177413453615, &quot;y&quot;: -0.25109887921483, &quot;z&quot;: -0.9927088740980538}, {&quot;x&quot;: -3.029859555671764, &quot;y&quot;: -0.746793308568995, &quot;z&quot;: -0.9927088740980538}, {&quot;x&quot;: -2.870829599018247, &quot;y&quot;: -1.2231461835036948, &quot;z&quot;: -0.9927088740980538}, {&quot;x&quot;: -2.637446663727546, &quot;y&quot;: -1.6678202147747703, &quot;z&quot;: -0.9927088740980538}, {&quot;x&quot;: -2.3357552452332753, &quot;y&quot;: -2.06929857854882, &quot;z&quot;: -0.9927088740980538}, {&quot;x&quot;: -1.9735689928032276, &quot;y&quot;: -2.417183196090974, &quot;z&quot;: -0.9927088740980538}, {&quot;x&quot;: -1.560268340127659, &quot;y&quot;: -2.7024640385422716, &quot;z&quot;: -0.9927088740980538}, {&quot;x&quot;: -1.1065575570140243, &quot;y&quot;: -2.9177524819343534, &quot;z&quot;: -0.9927088740980538}, {&quot;x&quot;: -0.624187514421661, &quot;y&quot;: -3.0574726686691793, &quot;z&quot;: -0.9927088740980538}, {&quot;x&quot;: -0.12565134307638853, &quot;y&quot;: -3.1180059193019543, &quot;z&quot;: -0.9927088740980538}, {&quot;x&quot;: 0.37613913205294935, &quot;y&quot;: -3.097784454437942, &quot;z&quot;: -0.9927088740980538}, {&quot;x&quot;: 0.868187801238909, &quot;y&quot;: -2.997331999395274, &quot;z&quot;: -0.9927088740980538}, {&quot;x&quot;: 1.3377508624108452, &quot;y&quot;: -2.8192502199943097, &quot;z&quot;: -0.9927088740980538}, {&quot;x&quot;: 1.7726668789345292, &quot;y&quot;: -2.5681513407794796, &quot;z&quot;: -0.9927088740980538}, {&quot;x&quot;: 2.1616717544328674, &quot;y&quot;: -2.250538690826277, &quot;z&quot;: -0.9927088740980538}, {&quot;x&quot;: 2.4946904669653094, &quot;y&quot;: -1.874638270934243, &quot;z&quot;: -0.9927088740980538}, {&quot;x&quot;: 2.7630980068039457, &quot;y&quot;: -1.4501857045271778, &quot;z&quot;: -0.9927088740980538}, {&quot;x&quot;: 2.9599427596549464, &quot;y&quot;: -0.988174090120352, &quot;z&quot;: -0.9927088740980538}, {&quot;x&quot;: 3.080126549817261, &quot;y&quot;: -0.50056928584337, &quot;z&quot;: -0.9927088740980538}, {&quot;x&quot;: 3.120536680255325, &quot;y&quot;: -7.643110514193182e-16, &quot;z&quot;: -0.9927088740980538}, {&quot;x&quot;: 3.235765408742929, &quot;y&quot;: 0.5258630623171169, &quot;z&quot;: -0.9605181116313717}, {&quot;x&quot;: 3.2782174639164547, &quot;y&quot;: 0.0, &quot;z&quot;: -0.9605181116313717}, {&quot;x&quot;: 3.1095087291523087, &quot;y&quot;: 1.0381065475433748, &quot;z&quot;: -0.9605181116313717}, {&quot;x&quot;: 2.902717406826409, &quot;y&quot;: 1.523463618480533, &quot;z&quot;: -0.9605181116313717}, {&quot;x&quot;: 2.620747228390988, &quot;y&quot;: 1.9693637819376557, &quot;z&quot;: -0.9605181116313717}, {&quot;x&quot;: 2.2709010733554047, &quot;y&quot;: 2.36425845790178, &quot;z&quot;: -0.9605181116313717}, {&quot;x&quot;: 1.8622397733693532, &quot;y&quot;: 2.6979200816940616, &quot;z&quot;: -0.9605181116313717}, {&quot;x&quot;: 1.4053474414425702, &quot;y&quot;: 2.961706992522666, &quot;z&quot;: -0.9605181116313717}, {&quot;x&quot;: 0.9120573489774622, &quot;y&quot;: 3.1487872479580195, &quot;z&quot;: -0.9605181116313717}, {&quot;x&quot;: 0.39514545025551506, &quot;y&quot;: 3.2543155676530815, &quot;z&quot;: -0.9605181116313717}, {&quot;x&quot;: -0.13200050806769725, &quot;y&quot;: 3.2755588235592263, &quot;z&quot;: -0.9605181116313717}, {&quot;x&quot;: -0.655727722568632, &quot;y&quot;: 3.2119668265070525, &quot;z&quot;: -0.9605181116313717}, {&quot;x&quot;: -1.1624719334929603, &quot;y&quot;: 3.065186575816874, &quot;z&quot;: -0.9605181116313717}, {&quot;x&quot;: -1.6391087319582256, &quot;y&quot;: 2.8390196028814474, &quot;z&quot;: -0.9605181116313717}, {&quot;x&quot;: -2.073293475249966, &quot;y&quot;: 2.5393235134997574, &quot;z&quot;: -0.9605181116313717}, {&quot;x&quot;: -2.4537810065836743, &quot;y&quot;: 2.1738602789636787, &quot;z&quot;: -0.9605181116313717}, {&quot;x&quot;: -2.77071689875871, &quot;y&quot;: 1.7520952050786935, &quot;z&quot;: -0.9605181116313717}, {&quot;x&quot;: -3.0158926786465017, &quot;y&quot;: 1.284951785715426, &quot;z&quot;: -0.9605181116313717}, {&quot;x&quot;: -3.1829584223328657, &quot;y&quot;: 0.784528790056239, &quot;z&quot;: -0.9605181116313717}, {&quot;x&quot;: -3.2675872148119223, &quot;y&quot;: 0.26378691082860345, &quot;z&quot;: -0.9605181116313717}, {&quot;x&quot;: -3.267587214811922, &quot;y&quot;: -0.26378691082860556, &quot;z&quot;: -0.9605181116313717}, {&quot;x&quot;: -3.1829584223328653, &quot;y&quot;: -0.784528790056241, &quot;z&quot;: -0.9605181116313717}, {&quot;x&quot;: -3.015892678646501, &quot;y&quot;: -1.2849517857154278, &quot;z&quot;: -0.9605181116313717}, {&quot;x&quot;: -2.7707168987587085, &quot;y&quot;: -1.7520952050786953, &quot;z&quot;: -0.9605181116313717}, {&quot;x&quot;: -2.453781006583673, &quot;y&quot;: -2.17386027896368, &quot;z&quot;: -0.9605181116313717}, {&quot;x&quot;: -2.0732934752499643, &quot;y&quot;: -2.5393235134997583, &quot;z&quot;: -0.9605181116313717}, {&quot;x&quot;: -1.6391087319582236, &quot;y&quot;: -2.8390196028814483, &quot;z&quot;: -0.9605181116313717}, {&quot;x&quot;: -1.1624719334929574, &quot;y&quot;: -3.065186575816875, &quot;z&quot;: -0.9605181116313717}, {&quot;x&quot;: -0.6557277225686285, &quot;y&quot;: -3.2119668265070533, &quot;z&quot;: -0.9605181116313717}, {&quot;x&quot;: -0.13200050806769295, &quot;y&quot;: -3.2755588235592263, &quot;z&quot;: -0.9605181116313717}, {&quot;x&quot;: 0.39514545025552, &quot;y&quot;: -3.254315567653081, &quot;z&quot;: -0.9605181116313717}, {&quot;x&quot;: 0.9120573489774677, &quot;y&quot;: -3.1487872479580177, &quot;z&quot;: -0.9605181116313717}, {&quot;x&quot;: 1.405347441442576, &quot;y&quot;: -2.961706992522663, &quot;z&quot;: -0.9605181116313717}, {&quot;x&quot;: 1.8622397733693594, &quot;y&quot;: -2.6979200816940576, &quot;z&quot;: -0.9605181116313717}, {&quot;x&quot;: 2.270901073355411, &quot;y&quot;: -2.3642584579017742, &quot;z&quot;: -0.9605181116313717}, {&quot;x&quot;: 2.620747228390993, &quot;y&quot;: -1.9693637819376488, &quot;z&quot;: -0.9605181116313717}, {&quot;x&quot;: 2.9027174068264134, &quot;y&quot;: -1.5234636184805248, &quot;z&quot;: -0.9605181116313717}, {&quot;x&quot;: 3.1095087291523122, &quot;y&quot;: -1.0381065475433655, &quot;z&quot;: -0.9605181116313717}, {&quot;x&quot;: 3.235765408742931, &quot;y&quot;: -0.5258630623171068, &quot;z&quot;: -0.9605181116313717}, {&quot;x&quot;: 3.2782174639164547, &quot;y&quot;: -8.029317048188481e-16, &quot;z&quot;: -0.9605181116313717}, {&quot;x&quot;: 3.384291893237545, &quot;y&quot;: 0.5500009654421391, &quot;z&quot;: -0.9034504346103813}, {&quot;x&quot;: 3.4286925614030563, &quot;y&quot;: 0.0, &quot;z&quot;: -0.9034504346103813}, {&quot;x&quot;: 3.2522398427239, &quot;y&quot;: 1.0857571947815379, &quot;z&quot;: -0.9034504346103813}, {&quot;x&quot;: 3.0359564886066748, &quot;y&quot;: 1.593392883098102, &quot;z&quot;: -0.9034504346103813}, {&quot;x&quot;: 2.741043456149088, &quot;y&quot;: 2.059760532713187, &quot;z&quot;: -0.9034504346103813}, {&quot;x&quot;: 2.375138837981105, &quot;y&quot;: 2.4727814664734162, &quot;z&quot;: -0.9034504346103813}, {&quot;x&quot;: 1.9477193715124255, &quot;y&quot;: 2.82175865914431, &quot;z&quot;: -0.9034504346103813}, {&quot;x&quot;: 1.4698549964114758, &quot;y&quot;: 3.0976537847449754, &quot;z&quot;: -0.9034504346103813}, {&quot;x&quot;: 0.9539221489827655, &quot;y&quot;: 3.2933213044433964, &quot;z&quot;: -0.9034504346103813}, {&quot;x&quot;: 0.4132832189676462, &quot;y&quot;: 3.4036935322588007, &quot;z&quot;: -0.9034504346103813}, {&quot;x&quot;: -0.1380595293310511, &quot;y&quot;: 3.425911885466633, &quot;z&quot;: -0.9034504346103813}, {&quot;x&quot;: -0.6858266083394073, &quot;y&quot;: 3.359400920389574, &quot;z&quot;: -0.9034504346103813}, {&quot;x&quot;: -1.215831138439911, &quot;y&quot;: 3.2058832360865175, &quot;z&quot;: -0.9034504346103813}, {&quot;x&quot;: -1.7143462807015262, &quot;y&quot;: 2.9693348599417844, &quot;z&quot;: -0.9034504346103813}, {&quot;x&quot;: -2.1684607547976307, &quot;y&quot;: 2.655882270644379, &quot;z&quot;: -0.9034504346103813}, {&quot;x&quot;: -2.56641323438449, &quot;y&quot;: 2.2736437256080366, &quot;z&quot;: -0.9034504346103813}, {&quot;x&quot;: -2.8978969592756214, &quot;y&quot;: 1.8325190023685314, &quot;z&quot;: -0.9034504346103813}, {&quot;x&quot;: -3.154326675116733, &quot;y&quot;: 1.3439329995456135, &quot;z&quot;: -0.9034504346103813}, {&quot;x&quot;: -3.329060986963869, &quot;y&quot;: 0.8205398379699801, &quot;z&quot;: -0.9034504346103813}, {&quot;x&quot;: -3.4175743679239, &quot;y&quot;: 0.2758951256006651, &quot;z&quot;: -0.9034504346103813}, {&quot;x&quot;: -3.4175743679239, &quot;y&quot;: -0.27589512560066726, &quot;z&quot;: -0.9034504346103813}, {&quot;x&quot;: -3.3290609869638685, &quot;y&quot;: -0.8205398379699822, &quot;z&quot;: -0.9034504346103813}, {&quot;x&quot;: -3.1543266751167316, &quot;y&quot;: -1.3439329995456155, &quot;z&quot;: -0.9034504346103813}, {&quot;x&quot;: -2.89789695927562, &quot;y&quot;: -1.8325190023685334, &quot;z&quot;: -0.9034504346103813}, {&quot;x&quot;: -2.5664132343844885, &quot;y&quot;: -2.2736437256080384, &quot;z&quot;: -0.9034504346103813}, {&quot;x&quot;: -2.168460754797629, &quot;y&quot;: -2.65588227064438, &quot;z&quot;: -0.9034504346103813}, {&quot;x&quot;: -1.7143462807015242, &quot;y&quot;: -2.9693348599417853, &quot;z&quot;: -0.9034504346103813}, {&quot;x&quot;: -1.215831138439908, &quot;y&quot;: -3.205883236086519, &quot;z&quot;: -0.9034504346103813}, {&quot;x&quot;: -0.6858266083394037, &quot;y&quot;: -3.3594009203895747, &quot;z&quot;: -0.9034504346103813}, {&quot;x&quot;: -0.1380595293310466, &quot;y&quot;: -3.425911885466633, &quot;z&quot;: -0.9034504346103813}, {&quot;x&quot;: 0.41328321896765136, &quot;y&quot;: -3.4036935322588002, &quot;z&quot;: -0.9034504346103813}, {&quot;x&quot;: 0.9539221489827713, &quot;y&quot;: -3.2933213044433947, &quot;z&quot;: -0.9034504346103813}, {&quot;x&quot;: 1.4698549964114818, &quot;y&quot;: -3.0976537847449728, &quot;z&quot;: -0.9034504346103813}, {&quot;x&quot;: 1.947719371512432, &quot;y&quot;: -2.8217586591443053, &quot;z&quot;: -0.9034504346103813}, {&quot;x&quot;: 2.375138837981111, &quot;y&quot;: -2.4727814664734105, &quot;z&quot;: -0.9034504346103813}, {&quot;x&quot;: 2.7410434561490935, &quot;y&quot;: -2.05976053271318, &quot;z&quot;: -0.9034504346103813}, {&quot;x&quot;: 3.035956488606679, &quot;y&quot;: -1.5933928830980932, &quot;z&quot;: -0.9034504346103813}, {&quot;x&quot;: 3.252239842723903, &quot;y&quot;: -1.085757194781528, &quot;z&quot;: -0.9034504346103813}, {&quot;x&quot;: 3.3842918932375468, &quot;y&quot;: -0.5500009654421284, &quot;z&quot;: -0.9034504346103813}, {&quot;x&quot;: 3.4286925614030563, &quot;y&quot;: -8.397874741165185e-16, &quot;z&quot;: -0.9034504346103813}, {&quot;x&quot;: 3.5218592453700674, &quot;y&quot;: 0.5723578362065649, &quot;z&quot;: -0.822983865893655}, {&quot;x&quot;: 3.568064746731158, &quot;y&quot;: 0.0, &quot;z&quot;: -0.822983865893655}, {&quot;x&quot;: 3.3844394395014152, &quot;y&quot;: 1.1298919051011147, &quot;z&quot;: -0.822983865893655}, {&quot;x&quot;: 3.159364429913898, &quot;y&quot;: 1.6581623671584491, &quot;z&quot;: -0.822983865893655}, {&quot;x&quot;: 2.8524635411293704, &quot;y&quot;: 2.1434872948989865, &quot;z&quot;: -0.822983865893655}, {&quot;x&quot;: 2.471685344959734, &quot;y&quot;: 2.5732970276236986, &quot;z&quot;: -0.822983865893655}, {&quot;x&quot;: 2.026891796672201, &quot;y&quot;: 2.9364597190236776, &quot;z&quot;: -0.822983865893655}, {&quot;x&quot;: 1.529602815528121, &quot;y&quot;: 3.2235696461522476, &quot;z&quot;: -0.822983865893655}, {&quot;x&quot;: 0.9926979249252438, &quot;y&quot;: 3.427190812708682, &quot;z&quot;: -0.822983865893655}, {&quot;x&quot;: 0.4300826795070252, &quot;y&quot;: 3.542049537436446, &quot;z&quot;: -0.822983865893655}, {&quot;x&quot;: -0.14367148139839067, &quot;y&quot;: 3.565171039697601, &quot;z&quot;: -0.822983865893655}, {&quot;x&quot;: -0.7137046264027442, &quot;y&quot;: 3.49595648472875, &quot;z&quot;: -0.822983865893655}, {&quot;x&quot;: -1.2652531964750537, &quot;y&quot;: 3.3361984931468545, &quot;z&quot;: -0.822983865893655}, {&quot;x&quot;: -1.784032373365577, &quot;y&quot;: 3.0900347130168733, &quot;z&quot;: -0.822983865893655}, {&quot;x&quot;: -2.2566060488950104, &quot;y&quot;: 2.76384065694029, &quot;z&quot;: -0.822983865893655}, {&quot;x&quot;: -2.6707348130986683, &quot;y&quot;: 2.3660645796276363, &quot;z&quot;: -0.822983865893655}, {&quot;x&quot;: -3.0156929485155053, &quot;y&quot;: 1.9070086725391522, &quot;z&quot;: -0.822983865893655}, {&quot;x&quot;: -3.282546220636394, &quot;y&quot;: 1.3985622425374595, &quot;z&quot;: -0.822983865893655}, {&quot;x&quot;: -3.4643832698849764, &quot;y&quot;: 0.8538937850849834, &quot;z&quot;: -0.822983865893655}, {&quot;x&quot;: -3.556494612200321, &quot;y&quot;: 0.287109927128569, &quot;z&quot;: -0.822983865893655}, {&quot;x&quot;: -3.5564946122003205, &quot;y&quot;: -0.28710992712857125, &quot;z&quot;: -0.822983865893655}, {&quot;x&quot;: -3.464383269884976, &quot;y&quot;: -0.8538937850849855, &quot;z&quot;: -0.822983865893655}, {&quot;x&quot;: -3.282546220636393, &quot;y&quot;: -1.3985622425374615, &quot;z&quot;: -0.822983865893655}, {&quot;x&quot;: -3.015692948515504, &quot;y&quot;: -1.9070086725391542, &quot;z&quot;: -0.822983865893655}, {&quot;x&quot;: -2.670734813098667, &quot;y&quot;: -2.366064579627638, &quot;z&quot;: -0.822983865893655}, {&quot;x&quot;: -2.256606048895008, &quot;y&quot;: -2.763840656940291, &quot;z&quot;: -0.822983865893655}, {&quot;x&quot;: -1.7840323733655747, &quot;y&quot;: -3.090034713016874, &quot;z&quot;: -0.822983865893655}, {&quot;x&quot;: -1.2652531964750509, &quot;y&quot;: -3.3361984931468553, &quot;z&quot;: -0.822983865893655}, {&quot;x&quot;: -0.7137046264027405, &quot;y&quot;: -3.495956484728751, &quot;z&quot;: -0.822983865893655}, {&quot;x&quot;: -0.14367148139838598, &quot;y&quot;: -3.565171039697601, &quot;z&quot;: -0.822983865893655}, {&quot;x&quot;: 0.4300826795070306, &quot;y&quot;: -3.542049537436445, &quot;z&quot;: -0.822983865893655}, {&quot;x&quot;: 0.9926979249252498, &quot;y&quot;: -3.4271908127086803, &quot;z&quot;: -0.822983865893655}, {&quot;x&quot;: 1.5296028155281272, &quot;y&quot;: -3.223569646152245, &quot;z&quot;: -0.822983865893655}, {&quot;x&quot;: 2.0268917966722078, &quot;y&quot;: -2.9364597190236736, &quot;z&quot;: -0.822983865893655}, {&quot;x&quot;: 2.4716853449597407, &quot;y&quot;: -2.5732970276236924, &quot;z&quot;: -0.822983865893655}, {&quot;x&quot;: 2.852463541129376, &quot;y&quot;: -2.143487294898979, &quot;z&quot;: -0.822983865893655}, {&quot;x&quot;: 3.1593644299139028, &quot;y&quot;: -1.6581623671584402, &quot;z&quot;: -0.822983865893655}, {&quot;x&quot;: 3.384439439501419, &quot;y&quot;: -1.1298919051011047, &quot;z&quot;: -0.822983865893655}, {&quot;x&quot;: 3.5218592453700692, &quot;y&quot;: -0.5723578362065539, &quot;z&quot;: -0.822983865893655}, {&quot;x&quot;: 3.568064746731158, &quot;y&quot;: -8.739238142469648e-16, &quot;z&quot;: -0.822983865893655}, {&quot;x&quot;: 3.644904542981069, &quot;y&quot;: 0.5923546434011198, &quot;z&quot;: -0.7212024473438128}, {&quot;x&quot;: 3.6927243535096013, &quot;y&quot;: 0.0, &quot;z&quot;: -0.7212024473438128}, {&quot;x&quot;: 3.50268361936957, &quot;y&quot;: 1.1693676126877248, &quot;z&quot;: -0.7212024473438128}, {&quot;x&quot;: 3.2697450298914306, &quot;y&quot;: 1.7160945750462562, &quot;z&quot;: -0.7212024473438128}, {&quot;x&quot;: 2.952121761657123, &quot;y&quot;: 2.2183755893340846, &quot;z&quot;: -0.7212024473438128}, {&quot;x&quot;: 2.5580400904740923, &quot;y&quot;: 2.6632018411172296, &quot;z&quot;: -0.7212024473438128}, {&quot;x&quot;: 2.097706524624403, &quot;y&quot;: 3.039052564130984, &quot;z&quot;: -0.7212024473438128}, {&quot;x&quot;: 1.5830434616614693, &quot;y&quot;: 3.3361934220745915, &quot;z&quot;: -0.7212024473438128}, {&quot;x&quot;: 1.0273804045759647, &quot;y&quot;: 3.546928622808222, &quot;z&quot;: -0.7212024473438128}, {&quot;x&quot;: 0.4451087346700328, &quot;y&quot;: 3.6658002353269805, &quot;z&quot;: -0.7212024473438128}, {&quot;x&quot;: -0.14869101765899465, &quot;y&quot;: 3.689729547307016, &quot;z&quot;: -0.7212024473438128}, {&quot;x&quot;: -0.7386397507344512, &quot;y&quot;: 3.618096802137534, &quot;z&quot;: -0.7212024473438128}, {&quot;x&quot;: -1.3094581022554905, &quot;y&quot;: 3.4527572502914756, &quot;z&quot;: -0.7212024473438128}, {&quot;x&quot;: -1.8463621767547986, &quot;y&quot;: 3.197993099312784, &quot;z&quot;: -0.7212024473438128}, {&quot;x&quot;: -2.335446440725575, &quot;y&quot;: 2.8604026068903563, &quot;z&quot;: -0.7212024473438128}, {&quot;x&quot;: -2.7640438686351163, &quot;y&quot;: 2.4487291894498098, &quot;z&quot;: -0.7212024473438128}, {&quot;x&quot;: -3.1210540122324333, &quot;y&quot;: 1.9736349722607598, &quot;z&quot;: -0.7212024473438128}, {&quot;x&quot;: -3.3972304963271545, &quot;y&quot;: 1.447424645992896, &quot;z&quot;: -0.7212024473438128}, {&quot;x&quot;: -3.5854204950500552, &quot;y&quot;: 0.8837267816909922, &quot;z&quot;: -0.7212024473438128}, {&quot;x&quot;: -3.6807499862858712, &quot;y&quot;: 0.2971408579436066, &quot;z&quot;: -0.7212024473438128}, {&quot;x&quot;: -3.680749986285871, &quot;y&quot;: -0.29714085794360895, &quot;z&quot;: -0.7212024473438128}, {&quot;x&quot;: -3.585420495050055, &quot;y&quot;: -0.8837267816909945, &quot;z&quot;: -0.7212024473438128}, {&quot;x&quot;: -3.397230496327153, &quot;y&quot;: -1.447424645992898, &quot;z&quot;: -0.7212024473438128}, {&quot;x&quot;: -3.1210540122324324, &quot;y&quot;: -1.9736349722607618, &quot;z&quot;: -0.7212024473438128}, {&quot;x&quot;: -2.7640438686351145, &quot;y&quot;: -2.4487291894498115, &quot;z&quot;: -0.7212024473438128}, {&quot;x&quot;: -2.3354464407255726, &quot;y&quot;: -2.8604026068903576, &quot;z&quot;: -0.7212024473438128}, {&quot;x&quot;: -1.8463621767547964, &quot;y&quot;: -3.197993099312785, &quot;z&quot;: -0.7212024473438128}, {&quot;x&quot;: -1.3094581022554874, &quot;y&quot;: -3.452757250291477, &quot;z&quot;: -0.7212024473438128}, {&quot;x&quot;: -0.7386397507344473, &quot;y&quot;: -3.6180968021375346, &quot;z&quot;: -0.7212024473438128}, {&quot;x&quot;: -0.1486910176589898, &quot;y&quot;: -3.689729547307016, &quot;z&quot;: -0.7212024473438128}, {&quot;x&quot;: 0.4451087346700384, &quot;y&quot;: -3.6658002353269796, &quot;z&quot;: -0.7212024473438128}, {&quot;x&quot;: 1.0273804045759707, &quot;y&quot;: -3.54692862280822, &quot;z&quot;: -0.7212024473438128}, {&quot;x&quot;: 1.583043461661476, &quot;y&quot;: -3.336193422074589, &quot;z&quot;: -0.7212024473438128}, {&quot;x&quot;: 2.09770652462441, &quot;y&quot;: -3.0390525641309796, &quot;z&quot;: -0.7212024473438128}, {&quot;x&quot;: 2.558040090474099, &quot;y&quot;: -2.6632018411172234, &quot;z&quot;: -0.7212024473438128}, {&quot;x&quot;: 2.952121761657129, &quot;y&quot;: -2.2183755893340766, &quot;z&quot;: -0.7212024473438128}, {&quot;x&quot;: 3.2697450298914355, &quot;y&quot;: -1.716094575046247, &quot;z&quot;: -0.7212024473438128}, {&quot;x&quot;: 3.502683619369574, &quot;y&quot;: -1.1693676126877144, &quot;z&quot;: -0.7212024473438128}, {&quot;x&quot;: 3.6449045429810707, &quot;y&quot;: -0.5923546434011083, &quot;z&quot;: -0.7212024473438128}, {&quot;x&quot;: 3.6927243535096013, &quot;y&quot;: -9.044566119318025e-16, &quot;z&quot;: -0.7212024473438128}, {&quot;x&quot;: 3.7502409774951446, &quot;y&quot;: 0.6094734802233039, &quot;z&quot;: -0.6007422642379767}, {&quot;x&quot;: 3.7994427634035026, &quot;y&quot;: 0.0, &quot;z&quot;: -0.6007422642379767}, {&quot;x&quot;: 3.6039099201805884, &quot;y&quot;: 1.20316191745051, &quot;z&quot;: -0.6007422642379767}, {&quot;x&quot;: 3.3642394889801146, &quot;y&quot;: 1.7656890930076172, &quot;z&quot;: -0.6007422642379767}, {&quot;x&quot;: 3.037437022168731, &quot;y&quot;: 2.2824858485296233, &quot;z&quot;: -0.6007422642379767}, {&quot;x&quot;: 2.6319665319754173, &quot;y&quot;: 2.7401674195093513, &quot;z&quot;: -0.6007422642379767}, {&quot;x&quot;: 2.158329491112334, &quot;y&quot;: 3.126880093667491, &quot;z&quot;: -0.6007422642379767}, {&quot;x&quot;: 1.6287928501477469, &quot;y&quot;: 3.4326082158741658, &quot;z&quot;: -0.6007422642379767}, {&quot;x&quot;: 1.0570713299298424, &quot;y&quot;: 3.649433588355815, &quot;z&quot;: -0.6007422642379767}, {&quot;x&quot;: 0.45797221752077055, &quot;y&quot;: 3.77174054785829, &quot;z&quot;: -0.6007422642379767}, {&quot;x&quot;: -0.15298813476035444, &quot;y&quot;: 3.796361408375366, &quot;z&quot;: -0.6007422642379767}, {&quot;x&quot;: -0.759986174712155, &quot;y&quot;: 3.7226585025523935, &quot;z&quot;: -0.6007422642379767}, {&quot;x&quot;: -1.3473009719412763, &quot;y&quot;: 3.5525406969358335, &quot;z&quot;: -0.6007422642379767}, {&quot;x&quot;: -1.8997213817017493, &quot;y&quot;: 3.2904139533323833, &quot;z&quot;: -0.6007422642379767}, {&quot;x&quot;: -2.4029400055538646, &quot;y&quot;: 2.94306721671253, &quot;z&quot;: -0.6007422642379767}, {&quot;x&quot;: -2.8439237454684307, &quot;y&quot;: 2.5194965851018845, &quot;z&quot;: -0.6007422642379767}, {&quot;x&quot;: -3.211251354219758, &quot;y&quot;: 2.0306723153677493, &quot;z&quot;: -0.6007422642379767}, {&quot;x&quot;: -3.4954092396895002, &quot;y&quot;: 1.4892546993286666, &quot;z&quot;: -0.6007422642379767}, {&quot;x&quot;: -3.689037861905258, &quot;y&quot;: 0.909266168846463, &quot;z&quot;: -0.6007422642379767}, {&quot;x&quot;: -3.7871223412600794, &quot;y&quot;: 0.3057281222066739, &quot;z&quot;: -0.6007422642379767}, {&quot;x&quot;: -3.787122341260079, &quot;y&quot;: -0.30572812220667633, &quot;z&quot;: -0.6007422642379767}, {&quot;x&quot;: -3.6890378619052577, &quot;y&quot;: -0.9092661688464654, &quot;z&quot;: -0.6007422642379767}, {&quot;x&quot;: -3.495409239689499, &quot;y&quot;: -1.4892546993286686, &quot;z&quot;: -0.6007422642379767}, {&quot;x&quot;: -3.2112513542197565, &quot;y&quot;: -2.030672315367751, &quot;z&quot;: -0.6007422642379767}, {&quot;x&quot;: -2.843923745468429, &quot;y&quot;: -2.5194965851018862, &quot;z&quot;: -0.6007422642379767}, {&quot;x&quot;: -2.402940005553863, &quot;y&quot;: -2.943067216712531, &quot;z&quot;: -0.6007422642379767}, {&quot;x&quot;: -1.8997213817017469, &quot;y&quot;: -3.290413953332384, &quot;z&quot;: -0.6007422642379767}, {&quot;x&quot;: -1.3473009719412732, &quot;y&quot;: -3.552540696935835, &quot;z&quot;: -0.6007422642379767}, {&quot;x&quot;: -0.759986174712151, &quot;y&quot;: -3.7226585025523944, &quot;z&quot;: -0.6007422642379767}, {&quot;x&quot;: -0.15298813476034945, &quot;y&quot;: -3.796361408375366, &quot;z&quot;: -0.6007422642379767}, {&quot;x&quot;: 0.45797221752077627, &quot;y&quot;: -3.7717405478582893, &quot;z&quot;: -0.6007422642379767}, {&quot;x&quot;: 1.0570713299298486, &quot;y&quot;: -3.6494335883558127, &quot;z&quot;: -0.6007422642379767}, {&quot;x&quot;: 1.6287928501477538, &quot;y&quot;: -3.4326082158741626, &quot;z&quot;: -0.6007422642379767}, {&quot;x&quot;: 2.158329491112341, &quot;y&quot;: -3.126880093667486, &quot;z&quot;: -0.6007422642379767}, {&quot;x&quot;: 2.6319665319754244, &quot;y&quot;: -2.740167419509345, &quot;z&quot;: -0.6007422642379767}, {&quot;x&quot;: 3.037437022168737, &quot;y&quot;: -2.2824858485296153, &quot;z&quot;: -0.6007422642379767}, {&quot;x&quot;: 3.3642394889801195, &quot;y&quot;: -1.7656890930076077, &quot;z&quot;: -0.6007422642379767}, {&quot;x&quot;: 3.6039099201805924, &quot;y&quot;: -1.203161917450499, &quot;z&quot;: -0.6007422642379767}, {&quot;x&quot;: 3.750240977495147, &quot;y&quot;: -0.6094734802232922, &quot;z&quot;: -0.6007422642379767}, {&quot;x&quot;: 3.7994427634035026, &quot;y&quot;: -9.305950837491347e-16, &quot;z&quot;: -0.6007422642379767}, {&quot;x&quot;: 3.835140390589063, &quot;y&quot;: 0.6232709777915342, &quot;z&quot;: -0.464723172043766}, {&quot;x&quot;: 3.885456025653211, &quot;y&quot;: 0.0, &quot;z&quot;: -0.464723172043766}, {&quot;x&quot;: 3.6854966339151938, &quot;y&quot;: 1.230399564647445, &quot;z&quot;: -0.464723172043766}, {&quot;x&quot;: 3.4404004503252086, &quot;y&quot;: 1.8056614490781342, &quot;z&quot;: -0.464723172043766}, {&quot;x&quot;: 3.106199702230988, &quot;y&quot;: 2.3341576504480086, &quot;z&quot;: -0.464723172043766}, {&quot;x&quot;: 2.6915500134605983, &quot;y&quot;: 2.8022003947478664, &quot;z&quot;: -0.464723172043766}, {&quot;x&quot;: 2.207190593147735, &quot;y&quot;: 3.197667620751881, &quot;z&quot;: -0.464723172043766}, {&quot;x&quot;: 1.665666095856207, &quot;y&quot;: 3.5103169350359216, &quot;z&quot;: -0.464723172043766}, {&quot;x&quot;: 1.081001721616137, &quot;y&quot;: 3.732050884587159, &quot;z&quot;: -0.464723172043766}, {&quot;x&quot;: 0.46833997061028093, &quot;y&quot;: 3.857126676583699, &quot;z&quot;: -0.464723172043766}, {&quot;x&quot;: -0.1564515396267166, &quot;y&quot;: 3.882304913712121, &quot;z&quot;: -0.464723172043766}, {&quot;x&quot;: -0.7771910371675937, &quot;y&quot;: 3.806933492856318, &quot;z&quot;: -0.464723172043766}, {&quot;x&quot;: -1.377801695085494, &quot;y&quot;: 3.632964494225671, &quot;z&quot;: -0.464723172043766}, {&quot;x&quot;: -1.9427280128266033, &quot;y&quot;: 3.364903623503004, &quot;z&quot;: -0.464723172043766}, {&quot;x&quot;: -2.4573386955035654, &quot;y&quot;: 3.0096935164341376, &quot;z&quot;: -0.464723172043766}, {&quot;x&quot;: -2.908305596747597, &quot;y&quot;: 2.576533928208874, &quot;z&quot;: -0.464723172043766}, {&quot;x&quot;: -3.2839489106984896, &quot;y&quot;: 2.0766434646339866, &quot;z&quot;: -0.464723172043766}, {&quot;x&quot;: -3.5745396728412673, &quot;y&quot;: 1.5229690261356903, &quot;z&quot;: -0.464723172043766}, {&quot;x&quot;: -3.7725517350767337, &quot;y&quot;: 0.929850489839292, &quot;z&quot;: -0.464723172043766}, {&quot;x&quot;: -3.872856689003941, &quot;y&quot;: 0.3126493142840398, &quot;z&quot;: -0.464723172043766}, {&quot;x&quot;: -3.8728566890039406, &quot;y&quot;: -0.3126493142840423, &quot;z&quot;: -0.464723172043766}, {&quot;x&quot;: -3.7725517350767332, &quot;y&quot;: -0.9298504898392944, &quot;z&quot;: -0.464723172043766}, {&quot;x&quot;: -3.574539672841266, &quot;y&quot;: -1.5229690261356925, &quot;z&quot;: -0.464723172043766}, {&quot;x&quot;: -3.2839489106984883, &quot;y&quot;: -2.076643464633989, &quot;z&quot;: -0.464723172043766}, {&quot;x&quot;: -2.9083055967475953, &quot;y&quot;: -2.5765339282088755, &quot;z&quot;: -0.464723172043766}, {&quot;x&quot;: -2.457338695503563, &quot;y&quot;: -3.0096935164341385, &quot;z&quot;: -0.464723172043766}, {&quot;x&quot;: -1.9427280128266011, &quot;y&quot;: -3.3649036235030048, &quot;z&quot;: -0.464723172043766}, {&quot;x&quot;: -1.377801695085491, &quot;y&quot;: -3.6329644942256722, &quot;z&quot;: -0.464723172043766}, {&quot;x&quot;: -0.7771910371675896, &quot;y&quot;: -3.8069334928563188, &quot;z&quot;: -0.464723172043766}, {&quot;x&quot;: -0.1564515396267115, &quot;y&quot;: -3.882304913712121, &quot;z&quot;: -0.464723172043766}, {&quot;x&quot;: 0.4683399706102868, &quot;y&quot;: -3.857126676583698, &quot;z&quot;: -0.464723172043766}, {&quot;x&quot;: 1.0810017216161434, &quot;y&quot;: -3.732050884587157, &quot;z&quot;: -0.464723172043766}, {&quot;x&quot;: 1.665666095856214, &quot;y&quot;: -3.5103169350359185, &quot;z&quot;: -0.464723172043766}, {&quot;x&quot;: 2.2071905931477422, &quot;y&quot;: -3.197667620751876, &quot;z&quot;: -0.464723172043766}, {&quot;x&quot;: 2.6915500134606054, &quot;y&quot;: -2.80220039474786, &quot;z&quot;: -0.464723172043766}, {&quot;x&quot;: 3.106199702230994, &quot;y&quot;: -2.334157650448, &quot;z&quot;: -0.464723172043766}, {&quot;x&quot;: 3.440400450325214, &quot;y&quot;: -1.8056614490781246, &quot;z&quot;: -0.464723172043766}, {&quot;x&quot;: 3.6854966339151978, &quot;y&quot;: -1.230399564647434, &quot;z&quot;: -0.464723172043766}, {&quot;x&quot;: 3.835140390589065, &quot;y&quot;: -0.6232709777915221, &quot;z&quot;: -0.464723172043766}, {&quot;x&quot;: 3.885456025653211, &quot;y&quot;: -9.516622570088003e-16, &quot;z&quot;: -0.464723172043766}, {&quot;x&quot;: 3.8974039320593006, &quot;y&quot;: 0.633389788166285, &quot;z&quot;: -0.31666799380146965}, {&quot;x&quot;: 3.9485364419471463, &quot;y&quot;: 0.0, &quot;z&quot;: -0.31666799380146965}, {&quot;x&quot;: 3.7453307075431876, &quot;y&quot;: 1.2503751135234071, &quot;z&quot;: -0.31666799380146965}, {&quot;x&quot;: 3.4962553850333866, &quot;y&quot;: 1.8349763802320933, &quot;z&quot;: -0.31666799380146965}, {&quot;x&quot;: 3.156628884549655, &quot;y&quot;: 2.3720527225615013, &quot;z&quot;: -0.31666799380146965}, {&quot;x&quot;: 2.735247354056931, &quot;y&quot;: 2.847694145358519, &quot;z&quot;: -0.31666799380146965}, {&quot;x&quot;: 2.2430243538534453, &quot;y&quot;: 3.2495817856156446, &quot;z&quot;: -0.31666799380146965}, {&quot;x&quot;: 1.6927082010916252, &quot;y&quot;: 3.567306964552081, &quot;z&quot;: -0.31666799380146965}, {&quot;x&quot;: 1.0985517950602297, &quot;y&quot;: 3.7926407669267306, &quot;z&quot;: -0.31666799380146965}, {&quot;x&quot;: 0.47594347457947567, &quot;y&quot;: 3.9197471656204876, &quot;z&quot;: -0.31666799380146965}, {&quot;x&quot;: -0.15899153189128512, &quot;y&quot;: 3.9453341716731036, &quot;z&quot;: -0.31666799380146965}, {&quot;x&quot;: -0.7898087412004698, &quot;y&quot;: 3.8687390950680505, &quot;z&quot;: -0.31666799380146965}, {&quot;x&quot;: -1.4001703189800012, &quot;y&quot;: 3.691945708055858, &quot;z&quot;: -0.31666799380146965}, {&quot;x&quot;: -1.974268220973571, &quot;y&quot;: 3.4195328664948494, &quot;z&quot;: -0.31666799380146965}, {&quot;x&quot;: -2.497233613079296, &quot;y&quot;: 3.0585559198895735, &quot;z&quot;: -0.31666799380146965}, {&quot;x&quot;: -2.955521966342715, &quot;y&quot;: 2.6183639815446442, &quot;z&quot;: -0.31666799380146965}, {&quot;x&quot;: -3.337263853142099, &quot;y&quot;: 2.1103577914410105, &quot;z&quot;: -0.31666799380146965}, {&quot;x&quot;: -3.632572359129129, &quot;y&quot;: 1.5476944430589863, &quot;z&quot;: -0.31666799380146965}, {&quot;x&quot;: -3.833799149117159, &quot;y&quot;: 0.9449466215682107, &quot;z&quot;: -0.31666799380146965}, {&quot;x&quot;: -3.9357325549450692, &quot;y&quot;: 0.3177251789364354, &quot;z&quot;: -0.31666799380146965}, {&quot;x&quot;: -3.935732554945069, &quot;y&quot;: -0.3177251789364379, &quot;z&quot;: -0.31666799380146965}, {&quot;x&quot;: -3.8337991491171586, &quot;y&quot;: -0.9449466215682132, &quot;z&quot;: -0.31666799380146965}, {&quot;x&quot;: -3.6325723591291275, &quot;y&quot;: -1.5476944430589885, &quot;z&quot;: -0.31666799380146965}, {&quot;x&quot;: -3.3372638531420975, &quot;y&quot;: -2.1103577914410128, &quot;z&quot;: -0.31666799380146965}, {&quot;x&quot;: -2.955521966342713, &quot;y&quot;: -2.618363981544646, &quot;z&quot;: -0.31666799380146965}, {&quot;x&quot;: -2.4972336130792936, &quot;y&quot;: -3.058555919889575, &quot;z&quot;: -0.31666799380146965}, {&quot;x&quot;: -1.9742682209735685, &quot;y&quot;: -3.4195328664948503, &quot;z&quot;: -0.31666799380146965}, {&quot;x&quot;: -1.4001703189799979, &quot;y&quot;: -3.6919457080558593, &quot;z&quot;: -0.31666799380146965}, {&quot;x&quot;: -0.7898087412004656, &quot;y&quot;: -3.8687390950680514, &quot;z&quot;: -0.31666799380146965}, {&quot;x&quot;: -0.15899153189127993, &quot;y&quot;: -3.9453341716731036, &quot;z&quot;: -0.31666799380146965}, {&quot;x&quot;: 0.47594347457948166, &quot;y&quot;: -3.9197471656204868, &quot;z&quot;: -0.31666799380146965}, {&quot;x&quot;: 1.0985517950602364, &quot;y&quot;: -3.7926407669267284, &quot;z&quot;: -0.31666799380146965}, {&quot;x&quot;: 1.6927082010916321, &quot;y&quot;: -3.567306964552078, &quot;z&quot;: -0.31666799380146965}, {&quot;x&quot;: 2.2430243538534524, &quot;y&quot;: -3.24958178561564, &quot;z&quot;: -0.31666799380146965}, {&quot;x&quot;: 2.735247354056938, &quot;y&quot;: -2.8476941453585125, &quot;z&quot;: -0.31666799380146965}, {&quot;x&quot;: 3.156628884549661, &quot;y&quot;: -2.372052722561493, &quot;z&quot;: -0.31666799380146965}, {&quot;x&quot;: 3.496255385033392, &quot;y&quot;: -1.8349763802320833, &quot;z&quot;: -0.31666799380146965}, {&quot;x&quot;: 3.7453307075431916, &quot;y&quot;: -1.250375113523396, &quot;z&quot;: -0.31666799380146965}, {&quot;x&quot;: 3.897403932059303, &quot;y&quot;: -0.6333897881662727, &quot;z&quot;: -0.31666799380146965}, {&quot;x&quot;: 3.9485364419471463, &quot;y&quot;: -9.671125029894503e-16, &quot;z&quot;: -0.31666799380146965}, {&quot;x&quot;: 3.9354190088873118, &quot;y&quot;: 0.6395678394740171, &quot;z&quot;: -0.16041128085775713}, {&quot;x&quot;: 3.987050262637913, &quot;y&quot;: 0.0, &quot;z&quot;: -0.16041128085775713}, {&quot;x&quot;: 3.781862469986998, &quot;y&quot;: 1.2625712078551818, &quot;z&quot;: -0.16041128085775713}, {&quot;x&quot;: 3.530357679634953, &quot;y&quot;: 1.8528746451510314, &quot;z&quot;: -0.16041128085775713}, {&quot;x&quot;: 3.1874184797919085, &quot;y&quot;: 2.395189602407728, &quot;z&quot;: -0.16041128085775713}, {&quot;x&quot;: 2.7619268155961274, &quot;y&quot;: 2.875470407097261, &quot;z&quot;: -0.16041128085775713}, {&quot;x&quot;: 2.264902697649795, &quot;y&quot;: 3.2812780386580673, &quot;z&quot;: -0.16041128085775713}, {&quot;x&quot;: 1.709218789532968, &quot;y&quot;: 3.6021022925936608, &quot;z&quot;: -0.16041128085775713}, {&quot;x&quot;: 1.109267012578548, &quot;y&quot;: 3.829633989248335, &quot;z&quot;: -0.16041128085775713}, {&quot;x&quot;: 0.4805858026694895, &quot;y&quot;: 3.9579801771956333, &quot;z&quot;: -0.16041128085775713}, {&quot;x&quot;: -0.16054232708860428, &quot;y&quot;: 3.9838167575848704, &quot;z&quot;: -0.16041128085775713}, {&quot;x&quot;: -0.7975124949041066, &quot;y&quot;: 3.906474576555296, &quot;z&quot;: -0.16041128085775713}, {&quot;x&quot;: -1.413827508015627, &quot;y&quot;: 3.7279567559695987, &quot;z&quot;: -0.16041128085775713}, {&quot;x&quot;: -1.9935251313189544, &quot;y&quot;: 3.4528868136098523, &quot;z&quot;: -0.16041128085775713}, {&quot;x&quot;: -2.521591500871681, &quot;y&quot;: 3.0883889164955822, &quot;z&quot;: -0.16041128085775713}, {&quot;x&quot;: -2.9843499750828886, &quot;y&quot;: 2.6439033687001148, &quot;z&quot;: -0.16041128085775713}, {&quot;x&quot;: -3.369815352546347, &quot;y&quot;: 2.1309421124338392, &quot;z&quot;: -0.16041128085775713}, {&quot;x&quot;: -3.6680042824613963, &quot;y&quot;: 1.562790574787905, &quot;z&quot;: -0.16041128085775713}, {&quot;x&quot;: -3.8711938281746736, &quot;y&quot;: 0.9541635821510736, &quot;z&quot;: -0.16041128085775713}, {&quot;x&quot;: -3.9741214871827615, &quot;y&quot;: 0.32082425393559266, &quot;z&quot;: -0.16041128085775713}, {&quot;x&quot;: -3.974121487182761, &quot;y&quot;: -0.3208242539355952, &quot;z&quot;: -0.16041128085775713}, {&quot;x&quot;: -3.871193828174673, &quot;y&quot;: -0.954163582151076, &quot;z&quot;: -0.16041128085775713}, {&quot;x&quot;: -3.668004282461395, &quot;y&quot;: -1.5627905747879072, &quot;z&quot;: -0.16041128085775713}, {&quot;x&quot;: -3.3698153525463455, &quot;y&quot;: -2.1309421124338415, &quot;z&quot;: -0.16041128085775713}, {&quot;x&quot;: -2.984349975082887, &quot;y&quot;: -2.6439033687001166, &quot;z&quot;: -0.16041128085775713}, {&quot;x&quot;: -2.5215915008716787, &quot;y&quot;: -3.0883889164955836, &quot;z&quot;: -0.16041128085775713}, {&quot;x&quot;: -1.993525131318952, &quot;y&quot;: -3.452886813609853, &quot;z&quot;: -0.16041128085775713}, {&quot;x&quot;: -1.4138275080156237, &quot;y&quot;: -3.7279567559696, &quot;z&quot;: -0.16041128085775713}, {&quot;x&quot;: -0.7975124949041025, &quot;y&quot;: -3.906474576555297, &quot;z&quot;: -0.16041128085775713}, {&quot;x&quot;: -0.16054232708859906, &quot;y&quot;: -3.9838167575848704, &quot;z&quot;: -0.16041128085775713}, {&quot;x&quot;: 0.4805858026694956, &quot;y&quot;: -3.9579801771956324, &quot;z&quot;: -0.16041128085775713}, {&quot;x&quot;: 1.1092670125785546, &quot;y&quot;: -3.829633989248333, &quot;z&quot;: -0.16041128085775713}, {&quot;x&quot;: 1.7092187895329751, &quot;y&quot;: -3.6021022925936577, &quot;z&quot;: -0.16041128085775713}, {&quot;x&quot;: 2.2649026976498026, &quot;y&quot;: -3.2812780386580624, &quot;z&quot;: -0.16041128085775713}, {&quot;x&quot;: 2.7619268155961345, &quot;y&quot;: -2.8754704070972545, &quot;z&quot;: -0.16041128085775713}, {&quot;x&quot;: 3.1874184797919147, &quot;y&quot;: -2.3951896024077195, &quot;z&quot;: -0.16041128085775713}, {&quot;x&quot;: 3.5303576796349585, &quot;y&quot;: -1.8528746451510214, &quot;z&quot;: -0.16041128085775713}, {&quot;x&quot;: 3.781862469987002, &quot;y&quot;: -1.2625712078551705, &quot;z&quot;: -0.16041128085775713}, {&quot;x&quot;: 3.935419008887314, &quot;y&quot;: -0.6395678394740046, &quot;z&quot;: -0.16041128085775713}, {&quot;x&quot;: 3.987050262637913, &quot;y&quot;: -9.76545668435827e-16, &quot;z&quot;: -0.16041128085775713}, {&quot;x&quot;: 3.9482010505516514, &quot;y&quot;: 0.641645123431041, &quot;z&quot;: -2.4492935982947064e-16}, {&quot;x&quot;: 4.0, &quot;y&quot;: 0.0, &quot;z&quot;: -2.4492935982947064e-16}, {&quot;x&quot;: 3.794145767788582, &quot;y&quot;: 1.26667197520589, &quot;z&quot;: -2.4492935982947064e-16}, {&quot;x&quot;: 3.5418241026128396, &quot;y&quot;: 1.858892688175074, &quot;z&quot;: -2.4492935982947064e-16}, {&quot;x&quot;: 3.1977710536140047, &quot;y&quot;: 2.4029690569519153, &quot;z&quot;: -2.4492935982947064e-16}, {&quot;x&quot;: 2.770897414038398, &quot;y&quot;: 2.884809789375258, &quot;z&quot;: -2.4492935982947064e-16}, {&quot;x&quot;: 2.2722589869246237, &quot;y&quot;: 3.291935463574625, &quot;z&quot;: -2.4492935982947064e-16}, {&quot;x&quot;: 1.7147702456122178, &quot;y&quot;: 3.6138017384415284, &quot;z&quot;: -2.4492935982947064e-16}, {&quot;x&quot;: 1.1128698556658119, &quot;y&quot;: 3.842072446525489, &quot;z&quot;: -2.4492935982947064e-16}, {&quot;x&quot;: 0.4821467210212938, &quot;y&quot;: 3.970835496392216, &quot;z&quot;: -2.4492935982947064e-16}, {&quot;x&quot;: -0.16106376043765872, &quot;y&quot;: 3.996755992686279, &quot;z&quot;: -2.4492935982947064e-16}, {&quot;x&quot;: -0.8001027751041756, &quot;y&quot;: 3.919162608169071, &quot;z&quot;: -2.4492935982947064e-16}, {&quot;x&quot;: -1.4184195481701403, &quot;y&quot;: 3.74006497074166, &quot;z&quot;: -2.4492935982947064e-16}, {&quot;x&quot;: -1.9999999999999978, &quot;y&quot;: 3.464101615137756, &quot;z&quot;: -2.4492935982947064e-16}, {&quot;x&quot;: -2.5297815023815073, &quot;y&quot;: 3.0984198473106197, &quot;z&quot;: -2.4492935982947064e-16}, {&quot;x&quot;: -2.9940429926844034, &quot;y&quot;: 2.652490632963182, &quot;z&quot;: -2.4492935982947064e-16}, {&quot;x&quot;: -3.3807603421751784, &quot;y&quot;: 2.137863304511205, &quot;z&quot;: -2.4492935982947064e-16}, {&quot;x&quot;: -3.679917774635297, &quot;y&quot;: 1.5678664394403006, &quot;z&quot;: -2.4492935982947064e-16}, {&quot;x&quot;: -3.883767269704208, &quot;y&quot;: 0.9572626571502307, &quot;z&quot;: -2.4492935982947064e-16}, {&quot;x&quot;: -3.98702923253684, &quot;y&quot;: 0.32186627486690256, &quot;z&quot;: -2.4492935982947064e-16}, {&quot;x&quot;: -3.9870292325368397, &quot;y&quot;: -0.3218662748669051, &quot;z&quot;: -2.4492935982947064e-16}, {&quot;x&quot;: -3.8837672697042076, &quot;y&quot;: -0.9572626571502332, &quot;z&quot;: -2.4492935982947064e-16}, {&quot;x&quot;: -3.6799177746352956, &quot;y&quot;: -1.5678664394403028, &quot;z&quot;: -2.4492935982947064e-16}, {&quot;x&quot;: -3.380760342175177, &quot;y&quot;: -2.137863304511207, &quot;z&quot;: -2.4492935982947064e-16}, {&quot;x&quot;: -2.9940429926844017, &quot;y&quot;: -2.652490632963184, &quot;z&quot;: -2.4492935982947064e-16}, {&quot;x&quot;: -2.529781502381505, &quot;y&quot;: -3.098419847310621, &quot;z&quot;: -2.4492935982947064e-16}, {&quot;x&quot;: -1.9999999999999953, &quot;y&quot;: -3.464101615137757, &quot;z&quot;: -2.4492935982947064e-16}, {&quot;x&quot;: -1.418419548170137, &quot;y&quot;: -3.7400649707416616, &quot;z&quot;: -2.4492935982947064e-16}, {&quot;x&quot;: -0.8001027751041714, &quot;y&quot;: -3.919162608169072, &quot;z&quot;: -2.4492935982947064e-16}, {&quot;x&quot;: -0.16106376043765347, &quot;y&quot;: -3.996755992686279, &quot;z&quot;: -2.4492935982947064e-16}, {&quot;x&quot;: 0.48214672102129985, &quot;y&quot;: -3.970835496392215, &quot;z&quot;: -2.4492935982947064e-16}, {&quot;x&quot;: 1.1128698556658185, &quot;y&quot;: -3.8420724465254867, &quot;z&quot;: -2.4492935982947064e-16}, {&quot;x&quot;: 1.714770245612225, &quot;y&quot;: -3.6138017384415253, &quot;z&quot;: -2.4492935982947064e-16}, {&quot;x&quot;: 2.2722589869246312, &quot;y&quot;: -3.29193546357462, &quot;z&quot;: -2.4492935982947064e-16}, {&quot;x&quot;: 2.770897414038405, &quot;y&quot;: -2.884809789375251, &quot;z&quot;: -2.4492935982947064e-16}, {&quot;x&quot;: 3.197771053614011, &quot;y&quot;: -2.402969056951907, &quot;z&quot;: -2.4492935982947064e-16}, {&quot;x&quot;: 3.541824102612845, &quot;y&quot;: -1.858892688175064, &quot;z&quot;: -2.4492935982947064e-16}, {&quot;x&quot;: 3.794145767788586, &quot;y&quot;: -1.2666719752058786, &quot;z&quot;: -2.4492935982947064e-16}, {&quot;x&quot;: 3.9482010505516536, &quot;y&quot;: -0.6416451234310285, &quot;z&quot;: -2.4492935982947064e-16}, {&quot;x&quot;: 4.0, &quot;y&quot;: -9.797174393178826e-16, &quot;z&quot;: -2.4492935982947064e-16}], &quot;faces&quot;: [[0, 1, 2, 3], [1, 4, 5, 2], [4, 6, 7, 5], [6, 8, 9, 7], [8, 10, 11, 9], [10, 12, 13, 11], [12, 14, 15, 13], [14, 16, 17, 15], [16, 18, 19, 17], [18, 20, 21, 19], [20, 22, 23, 21], [22, 24, 25, 23], [24, 26, 27, 25], [26, 28, 29, 27], [28, 30, 31, 29], [30, 32, 33, 31], [32, 34, 35, 33], [34, 36, 37, 35], [36, 38, 39, 37], [38, 40, 41, 39], [40, 42, 43, 41], [42, 44, 45, 43], [44, 46, 47, 45], [46, 48, 49, 47], [48, 50, 51, 49], [50, 52, 53, 51], [52, 54, 55, 53], [54, 56, 57, 55], [56, 58, 59, 57], [58, 60, 61, 59], [60, 62, 63, 61], [62, 64, 65, 63], [64, 66, 67, 65], [66, 68, 69, 67], [68, 70, 71, 69], [70, 72, 73, 71], [72, 74, 75, 73], [74, 76, 77, 75], [76, 78, 79, 77], [3, 2, 80, 81], [2, 5, 82, 80], [5, 7, 83, 82], [7, 9, 84, 83], [9, 11, 85, 84], [11, 13, 86, 85], [13, 15, 87, 86], [15, 17, 88, 87], [17, 19, 89, 88], [19, 21, 90, 89], [21, 23, 91, 90], [23, 25, 92, 91], [25, 27, 93, 92], [27, 29, 94, 93], [29, 31, 95, 94], [31, 33, 96, 95], [33, 35, 97, 96], [35, 37, 98, 97], [37, 39, 99, 98], [39, 41, 100, 99], [41, 43, 101, 100], [43, 45, 102, 101], [45, 47, 103, 102], [47, 49, 104, 103], [49, 51, 105, 104], [51, 53, 106, 105], [53, 55, 107, 106], [55, 57, 108, 107], [57, 59, 109, 108], [59, 61, 110, 109], [61, 63, 111, 110], [63, 65, 112, 111], [65, 67, 113, 112], [67, 69, 114, 113], [69, 71, 115, 114], [71, 73, 116, 115], [73, 75, 117, 116], [75, 77, 118, 117], [77, 79, 119, 118], [81, 80, 120, 121], [80, 82, 122, 120], [82, 83, 123, 122], [83, 84, 124, 123], [84, 85, 125, 124], [85, 86, 126, 125], [86, 87, 127, 126], [87, 88, 128, 127], [88, 89, 129, 128], [89, 90, 130, 129], [90, 91, 131, 130], [91, 92, 132, 131], [92, 93, 133, 132], [93, 94, 134, 133], [94, 95, 135, 134], [95, 96, 136, 135], [96, 97, 137, 136], [97, 98, 138, 137], [98, 99, 139, 138], [99, 100, 140, 139], [100, 101, 141, 140], [101, 102, 142, 141], [102, 103, 143, 142], [103, 104, 144, 143], [104, 105, 145, 144], [105, 106, 146, 145], [106, 107, 147, 146], [107, 108, 148, 147], [108, 109, 149, 148], [109, 110, 150, 149], [110, 111, 151, 150], [111, 112, 152, 151], [112, 113, 153, 152], [113, 114, 154, 153], [114, 115, 155, 154], [115, 116, 156, 155], [116, 117, 157, 156], [117, 118, 158, 157], [118, 119, 159, 158], [121, 120, 160, 161], [120, 122, 162, 160], [122, 123, 163, 162], [123, 124, 164, 163], [124, 125, 165, 164], [125, 126, 166, 165], [126, 127, 167, 166], [127, 128, 168, 167], [128, 129, 169, 168], [129, 130, 170, 169], [130, 131, 171, 170], [131, 132, 172, 171], [132, 133, 173, 172], [133, 134, 174, 173], [134, 135, 175, 174], [135, 136, 176, 175], [136, 137, 177, 176], [137, 138, 178, 177], [138, 139, 179, 178], [139, 140, 180, 179], [140, 141, 181, 180], [141, 142, 182, 181], [142, 143, 183, 182], [143, 144, 184, 183], [144, 145, 185, 184], [145, 146, 186, 185], [146, 147, 187, 186], [147, 148, 188, 187], [148, 149, 189, 188], [149, 150, 190, 189], [150, 151, 191, 190], [151, 152, 192, 191], [152, 153, 193, 192], [153, 154, 194, 193], [154, 155, 195, 194], [155, 156, 196, 195], [156, 157, 197, 196], [157, 158, 198, 197], [158, 159, 199, 198], [161, 160, 200, 201], [160, 162, 202, 200], [162, 163, 203, 202], [163, 164, 204, 203], [164, 165, 205, 204], [165, 166, 206, 205], [166, 167, 207, 206], [167, 168, 208, 207], [168, 169, 209, 208], [169, 170, 210, 209], [170, 171, 211, 210], [171, 172, 212, 211], [172, 173, 213, 212], [173, 174, 214, 213], [174, 175, 215, 214], [175, 176, 216, 215], [176, 177, 217, 216], [177, 178, 218, 217], [178, 179, 219, 218], [179, 180, 220, 219], [180, 181, 221, 220], [181, 182, 222, 221], [182, 183, 223, 222], [183, 184, 224, 223], [184, 185, 225, 224], [185, 186, 226, 225], [186, 187, 227, 226], [187, 188, 228, 227], [188, 189, 229, 228], [189, 190, 230, 229], [190, 191, 231, 230], [191, 192, 232, 231], [192, 193, 233, 232], [193, 194, 234, 233], [194, 195, 235, 234], [195, 196, 236, 235], [196, 197, 237, 236], [197, 198, 238, 237], [198, 199, 239, 238], [201, 200, 240, 241], [200, 202, 242, 240], [202, 203, 243, 242], [203, 204, 244, 243], [204, 205, 245, 244], [205, 206, 246, 245], [206, 207, 247, 246], [207, 208, 248, 247], [208, 209, 249, 248], [209, 210, 250, 249], [210, 211, 251, 250], [211, 212, 252, 251], [212, 213, 253, 252], [213, 214, 254, 253], [214, 215, 255, 254], [215, 216, 256, 255], [216, 217, 257, 256], [217, 218, 258, 257], [218, 219, 259, 258], [219, 220, 260, 259], [220, 221, 261, 260], [221, 222, 262, 261], [222, 223, 263, 262], [223, 224, 264, 263], [224, 225, 265, 264], [225, 226, 266, 265], [226, 227, 267, 266], [227, 228, 268, 267], [228, 229, 269, 268], [229, 230, 270, 269], [230, 231, 271, 270], [231, 232, 272, 271], [232, 233, 273, 272], [233, 234, 274, 273], [234, 235, 275, 274], [235, 236, 276, 275], [236, 237, 277, 276], [237, 238, 278, 277], [238, 239, 279, 278], [241, 240, 280, 281], [240, 242, 282, 280], [242, 243, 283, 282], [243, 244, 284, 283], [244, 245, 285, 284], [245, 246, 286, 285], [246, 247, 287, 286], [247, 248, 288, 287], [248, 249, 289, 288], [249, 250, 290, 289], [250, 251, 291, 290], [251, 252, 292, 291], [252, 253, 293, 292], [253, 254, 294, 293], [254, 255, 295, 294], [255, 256, 296, 295], [256, 257, 297, 296], [257, 258, 298, 297], [258, 259, 299, 298], [259, 260, 300, 299], [260, 261, 301, 300], [261, 262, 302, 301], [262, 263, 303, 302], [263, 264, 304, 303], [264, 265, 305, 304], [265, 266, 306, 305], [266, 267, 307, 306], [267, 268, 308, 307], [268, 269, 309, 308], [269, 270, 310, 309], [270, 271, 311, 310], [271, 272, 312, 311], [272, 273, 313, 312], [273, 274, 314, 313], [274, 275, 315, 314], [275, 276, 316, 315], [276, 277, 317, 316], [277, 278, 318, 317], [278, 279, 319, 318], [281, 280, 320, 321], [280, 282, 322, 320], [282, 283, 323, 322], [283, 284, 324, 323], [284, 285, 325, 324], [285, 286, 326, 325], [286, 287, 327, 326], [287, 288, 328, 327], [288, 289, 329, 328], [289, 290, 330, 329], [290, 291, 331, 330], [291, 292, 332, 331], [292, 293, 333, 332], [293, 294, 334, 333], [294, 295, 335, 334], [295, 296, 336, 335], [296, 297, 337, 336], [297, 298, 338, 337], [298, 299, 339, 338], [299, 300, 340, 339], [300, 301, 341, 340], [301, 302, 342, 341], [302, 303, 343, 342], [303, 304, 344, 343], [304, 305, 345, 344], [305, 306, 346, 345], [306, 307, 347, 346], [307, 308, 348, 347], [308, 309, 349, 348], [309, 310, 350, 349], [310, 311, 351, 350], [311, 312, 352, 351], [312, 313, 353, 352], [313, 314, 354, 353], [314, 315, 355, 354], [315, 316, 356, 355], [316, 317, 357, 356], [317, 318, 358, 357], [318, 319, 359, 358], [321, 320, 360, 361], [320, 322, 362, 360], [322, 323, 363, 362], [323, 324, 364, 363], [324, 325, 365, 364], [325, 326, 366, 365], [326, 327, 367, 366], [327, 328, 368, 367], [328, 329, 369, 368], [329, 330, 370, 369], [330, 331, 371, 370], [331, 332, 372, 371], [332, 333, 373, 372], [333, 334, 374, 373], [334, 335, 375, 374], [335, 336, 376, 375], [336, 337, 377, 376], [337, 338, 378, 377], [338, 339, 379, 378], [339, 340, 380, 379], [340, 341, 381, 380], [341, 342, 382, 381], [342, 343, 383, 382], [343, 344, 384, 383], [344, 345, 385, 384], [345, 346, 386, 385], [346, 347, 387, 386], [347, 348, 388, 387], [348, 349, 389, 388], [349, 350, 390, 389], [350, 351, 391, 390], [351, 352, 392, 391], [352, 353, 393, 392], [353, 354, 394, 393], [354, 355, 395, 394], [355, 356, 396, 395], [356, 357, 397, 396], [357, 358, 398, 397], [358, 359, 399, 398], [361, 360, 400, 401], [360, 362, 402, 400], [362, 363, 403, 402], [363, 364, 404, 403], [364, 365, 405, 404], [365, 366, 406, 405], [366, 367, 407, 406], [367, 368, 408, 407], [368, 369, 409, 408], [369, 370, 410, 409], [370, 371, 411, 410], [371, 372, 412, 411], [372, 373, 413, 412], [373, 374, 414, 413], [374, 375, 415, 414], [375, 376, 416, 415], [376, 377, 417, 416], [377, 378, 418, 417], [378, 379, 419, 418], [379, 380, 420, 419], [380, 381, 421, 420], [381, 382, 422, 421], [382, 383, 423, 422], [383, 384, 424, 423], [384, 385, 425, 424], [385, 386, 426, 425], [386, 387, 427, 426], [387, 388, 428, 427], [388, 389, 429, 428], [389, 390, 430, 429], [390, 391, 431, 430], [391, 392, 432, 431], [392, 393, 433, 432], [393, 394, 434, 433], [394, 395, 435, 434], [395, 396, 436, 435], [396, 397, 437, 436], [397, 398, 438, 437], [398, 399, 439, 438], [401, 400, 440, 441], [400, 402, 442, 440], [402, 403, 443, 442], [403, 404, 444, 443], [404, 405, 445, 444], [405, 406, 446, 445], [406, 407, 447, 446], [407, 408, 448, 447], [408, 409, 449, 448], [409, 410, 450, 449], [410, 411, 451, 450], [411, 412, 452, 451], [412, 413, 453, 452], [413, 414, 454, 453], [414, 415, 455, 454], [415, 416, 456, 455], [416, 417, 457, 456], [417, 418, 458, 457], [418, 419, 459, 458], [419, 420, 460, 459], [420, 421, 461, 460], [421, 422, 462, 461], [422, 423, 463, 462], [423, 424, 464, 463], [424, 425, 465, 464], [425, 426, 466, 465], [426, 427, 467, 466], [427, 428, 468, 467], [428, 429, 469, 468], [429, 430, 470, 469], [430, 431, 471, 470], [431, 432, 472, 471], [432, 433, 473, 472], [433, 434, 474, 473], [434, 435, 475, 474], [435, 436, 476, 475], [436, 437, 477, 476], [437, 438, 478, 477], [438, 439, 479, 478], [441, 440, 480, 481], [440, 442, 482, 480], [442, 443, 483, 482], [443, 444, 484, 483], [444, 445, 485, 484], [445, 446, 486, 485], [446, 447, 487, 486], [447, 448, 488, 487], [448, 449, 489, 488], [449, 450, 490, 489], [450, 451, 491, 490], [451, 452, 492, 491], [452, 453, 493, 492], [453, 454, 494, 493], [454, 455, 495, 494], [455, 456, 496, 495], [456, 457, 497, 496], [457, 458, 498, 497], [458, 459, 499, 498], [459, 460, 500, 499], [460, 461, 501, 500], [461, 462, 502, 501], [462, 463, 503, 502], [463, 464, 504, 503], [464, 465, 505, 504], [465, 466, 506, 505], [466, 467, 507, 506], [467, 468, 508, 507], [468, 469, 509, 508], [469, 470, 510, 509], [470, 471, 511, 510], [471, 472, 512, 511], [472, 473, 513, 512], [473, 474, 514, 513], [474, 475, 515, 514], [475, 476, 516, 515], [476, 477, 517, 516], [477, 478, 518, 517], [478, 479, 519, 518], [481, 480, 520, 521], [480, 482, 522, 520], [482, 483, 523, 522], [483, 484, 524, 523], [484, 485, 525, 524], [485, 486, 526, 525], [486, 487, 527, 526], [487, 488, 528, 527], [488, 489, 529, 528], [489, 490, 530, 529], [490, 491, 531, 530], [491, 492, 532, 531], [492, 493, 533, 532], [493, 494, 534, 533], [494, 495, 535, 534], [495, 496, 536, 535], [496, 497, 537, 536], [497, 498, 538, 537], [498, 499, 539, 538], [499, 500, 540, 539], [500, 501, 541, 540], [501, 502, 542, 541], [502, 503, 543, 542], [503, 504, 544, 543], [504, 505, 545, 544], [505, 506, 546, 545], [506, 507, 547, 546], [507, 508, 548, 547], [508, 509, 549, 548], [509, 510, 550, 549], [510, 511, 551, 550], [511, 512, 552, 551], [512, 513, 553, 552], [513, 514, 554, 553], [514, 515, 555, 554], [515, 516, 556, 555], [516, 517, 557, 556], [517, 518, 558, 557], [518, 519, 559, 558], [521, 520, 560, 561], [520, 522, 562, 560], [522, 523, 563, 562], [523, 524, 564, 563], [524, 525, 565, 564], [525, 526, 566, 565], [526, 527, 567, 566], [527, 528, 568, 567], [528, 529, 569, 568], [529, 530, 570, 569], [530, 531, 571, 570], [531, 532, 572, 571], [532, 533, 573, 572], [533, 534, 574, 573], [534, 535, 575, 574], [535, 536, 576, 575], [536, 537, 577, 576], [537, 538, 578, 577], [538, 539, 579, 578], [539, 540, 580, 579], [540, 541, 581, 580], [541, 542, 582, 581], [542, 543, 583, 582], [543, 544, 584, 583], [544, 545, 585, 584], [545, 546, 586, 585], [546, 547, 587, 586], [547, 548, 588, 587], [548, 549, 589, 588], [549, 550, 590, 589], [550, 551, 591, 590], [551, 552, 592, 591], [552, 553, 593, 592], [553, 554, 594, 593], [554, 555, 595, 594], [555, 556, 596, 595], [556, 557, 597, 596], [557, 558, 598, 597], [558, 559, 599, 598], [561, 560, 600, 601], [560, 562, 602, 600], [562, 563, 603, 602], [563, 564, 604, 603], [564, 565, 605, 604], [565, 566, 606, 605], [566, 567, 607, 606], [567, 568, 608, 607], [568, 569, 609, 608], [569, 570, 610, 609], [570, 571, 611, 610], [571, 572, 612, 611], [572, 573, 613, 612], [573, 574, 614, 613], [574, 575, 615, 614], [575, 576, 616, 615], [576, 577, 617, 616], [577, 578, 618, 617], [578, 579, 619, 618], [579, 580, 620, 619], [580, 581, 621, 620], [581, 582, 622, 621], [582, 583, 623, 622], [583, 584, 624, 623], [584, 585, 625, 624], [585, 586, 626, 625], [586, 587, 627, 626], [587, 588, 628, 627], [588, 589, 629, 628], [589, 590, 630, 629], [590, 591, 631, 630], [591, 592, 632, 631], [592, 593, 633, 632], [593, 594, 634, 633], [594, 595, 635, 634], [595, 596, 636, 635], [596, 597, 637, 636], [597, 598, 638, 637], [598, 599, 639, 638], [601, 600, 640, 641], [600, 602, 642, 640], [602, 603, 643, 642], [603, 604, 644, 643], [604, 605, 645, 644], [605, 606, 646, 645], [606, 607, 647, 646], [607, 608, 648, 647], [608, 609, 649, 648], [609, 610, 650, 649], [610, 611, 651, 650], [611, 612, 652, 651], [612, 613, 653, 652], [613, 614, 654, 653], [614, 615, 655, 654], [615, 616, 656, 655], [616, 617, 657, 656], [617, 618, 658, 657], [618, 619, 659, 658], [619, 620, 660, 659], [620, 621, 661, 660], [621, 622, 662, 661], [622, 623, 663, 662], [623, 624, 664, 663], [624, 625, 665, 664], [625, 626, 666, 665], [626, 627, 667, 666], [627, 628, 668, 667], [628, 629, 669, 668], [629, 630, 670, 669], [630, 631, 671, 670], [631, 632, 672, 671], [632, 633, 673, 672], [633, 634, 674, 673], [634, 635, 675, 674], [635, 636, 676, 675], [636, 637, 677, 676], [637, 638, 678, 677], [638, 639, 679, 678], [641, 640, 680, 681], [640, 642, 682, 680], [642, 643, 683, 682], [643, 644, 684, 683], [644, 645, 685, 684], [645, 646, 686, 685], [646, 647, 687, 686], [647, 648, 688, 687], [648, 649, 689, 688], [649, 650, 690, 689], [650, 651, 691, 690], [651, 652, 692, 691], [652, 653, 693, 692], [653, 654, 694, 693], [654, 655, 695, 694], [655, 656, 696, 695], [656, 657, 697, 696], [657, 658, 698, 697], [658, 659, 699, 698], [659, 660, 700, 699], [660, 661, 701, 700], [661, 662, 702, 701], [662, 663, 703, 702], [663, 664, 704, 703], [664, 665, 705, 704], [665, 666, 706, 705], [666, 667, 707, 706], [667, 668, 708, 707], [668, 669, 709, 708], [669, 670, 710, 709], [670, 671, 711, 710], [671, 672, 712, 711], [672, 673, 713, 712], [673, 674, 714, 713], [674, 675, 715, 714], [675, 676, 716, 715], [676, 677, 717, 716], [677, 678, 718, 717], [678, 679, 719, 718], [681, 680, 720, 721], [680, 682, 722, 720], [682, 683, 723, 722], [683, 684, 724, 723], [684, 685, 725, 724], [685, 686, 726, 725], [686, 687, 727, 726], [687, 688, 728, 727], [688, 689, 729, 728], [689, 690, 730, 729], [690, 691, 731, 730], [691, 692, 732, 731], [692, 693, 733, 732], [693, 694, 734, 733], [694, 695, 735, 734], [695, 696, 736, 735], [696, 697, 737, 736], [697, 698, 738, 737], [698, 699, 739, 738], [699, 700, 740, 739], [700, 701, 741, 740], [701, 702, 742, 741], [702, 703, 743, 742], [703, 704, 744, 743], [704, 705, 745, 744], [705, 706, 746, 745], [706, 707, 747, 746], [707, 708, 748, 747], [708, 709, 749, 748], [709, 710, 750, 749], [710, 711, 751, 750], [711, 712, 752, 751], [712, 713, 753, 752], [713, 714, 754, 753], [714, 715, 755, 754], [715, 716, 756, 755], [716, 717, 757, 756], [717, 718, 758, 757], [718, 719, 759, 758], [721, 720, 760, 761], [720, 722, 762, 760], [722, 723, 763, 762], [723, 724, 764, 763], [724, 725, 765, 764], [725, 726, 766, 765], [726, 727, 767, 766], [727, 728, 768, 767], [728, 729, 769, 768], [729, 730, 770, 769], [730, 731, 771, 770], [731, 732, 772, 771], [732, 733, 773, 772], [733, 734, 774, 773], [734, 735, 775, 774], [735, 736, 776, 775], [736, 737, 777, 776], [737, 738, 778, 777], [738, 739, 779, 778], [739, 740, 780, 779], [740, 741, 781, 780], [741, 742, 782, 781], [742, 743, 783, 782], [743, 744, 784, 783], [744, 745, 785, 784], [745, 746, 786, 785], [746, 747, 787, 786], [747, 748, 788, 787], [748, 749, 789, 788], [749, 750, 790, 789], [750, 751, 791, 790], [751, 752, 792, 791], [752, 753, 793, 792], [753, 754, 794, 793], [754, 755, 795, 794], [755, 756, 796, 795], [756, 757, 797, 796], [757, 758, 798, 797], [758, 759, 799, 798], [761, 760, 800, 801], [760, 762, 802, 800], [762, 763, 803, 802], [763, 764, 804, 803], [764, 765, 805, 804], [765, 766, 806, 805], [766, 767, 807, 806], [767, 768, 808, 807], [768, 769, 809, 808], [769, 770, 810, 809], [770, 771, 811, 810], [771, 772, 812, 811], [772, 773, 813, 812], [773, 774, 814, 813], [774, 775, 815, 814], [775, 776, 816, 815], [776, 777, 817, 816], [777, 778, 818, 817], [778, 779, 819, 818], [779, 780, 820, 819], [780, 781, 821, 820], [781, 782, 822, 821], [782, 783, 823, 822], [783, 784, 824, 823], [784, 785, 825, 824], [785, 786, 826, 825], [786, 787, 827, 826], [787, 788, 828, 827], [788, 789, 829, 828], [789, 790, 830, 829], [790, 791, 831, 830], [791, 792, 832, 831], [792, 793, 833, 832], [793, 794, 834, 833], [794, 795, 835, 834], [795, 796, 836, 835], [796, 797, 837, 836], [797, 798, 838, 837], [798, 799, 839, 838], [801, 800, 840, 841], [800, 802, 842, 840], [802, 803, 843, 842], [803, 804, 844, 843], [804, 805, 845, 844], [805, 806, 846, 845], [806, 807, 847, 846], [807, 808, 848, 847], [808, 809, 849, 848], [809, 810, 850, 849], [810, 811, 851, 850], [811, 812, 852, 851], [812, 813, 853, 852], [813, 814, 854, 853], [814, 815, 855, 854], [815, 816, 856, 855], [816, 817, 857, 856], [817, 818, 858, 857], [818, 819, 859, 858], [819, 820, 860, 859], [820, 821, 861, 860], [821, 822, 862, 861], [822, 823, 863, 862], [823, 824, 864, 863], [824, 825, 865, 864], [825, 826, 866, 865], [826, 827, 867, 866], [827, 828, 868, 867], [828, 829, 869, 868], [829, 830, 870, 869], [830, 831, 871, 870], [831, 832, 872, 871], [832, 833, 873, 872], [833, 834, 874, 873], [834, 835, 875, 874], [835, 836, 876, 875], [836, 837, 877, 876], [837, 838, 878, 877], [838, 839, 879, 878], [841, 840, 880, 881], [840, 842, 882, 880], [842, 843, 883, 882], [843, 844, 884, 883], [844, 845, 885, 884], [845, 846, 886, 885], [846, 847, 887, 886], [847, 848, 888, 887], [848, 849, 889, 888], [849, 850, 890, 889], [850, 851, 891, 890], [851, 852, 892, 891], [852, 853, 893, 892], [853, 854, 894, 893], [854, 855, 895, 894], [855, 856, 896, 895], [856, 857, 897, 896], [857, 858, 898, 897], [858, 859, 899, 898], [859, 860, 900, 899], [860, 861, 901, 900], [861, 862, 902, 901], [862, 863, 903, 902], [863, 864, 904, 903], [864, 865, 905, 904], [865, 866, 906, 905], [866, 867, 907, 906], [867, 868, 908, 907], [868, 869, 909, 908], [869, 870, 910, 909], [870, 871, 911, 910], [871, 872, 912, 911], [872, 873, 913, 912], [873, 874, 914, 913], [874, 875, 915, 914], [875, 876, 916, 915], [876, 877, 917, 916], [877, 878, 918, 917], [878, 879, 919, 918], [881, 880, 920, 921], [880, 882, 922, 920], [882, 883, 923, 922], [883, 884, 924, 923], [884, 885, 925, 924], [885, 886, 926, 925], [886, 887, 927, 926], [887, 888, 928, 927], [888, 889, 929, 928], [889, 890, 930, 929], [890, 891, 931, 930], [891, 892, 932, 931], [892, 893, 933, 932], [893, 894, 934, 933], [894, 895, 935, 934], [895, 896, 936, 935], [896, 897, 937, 936], [897, 898, 938, 937], [898, 899, 939, 938], [899, 900, 940, 939], [900, 901, 941, 940], [901, 902, 942, 941], [902, 903, 943, 942], [903, 904, 944, 943], [904, 905, 945, 944], [905, 906, 946, 945], [906, 907, 947, 946], [907, 908, 948, 947], [908, 909, 949, 948], [909, 910, 950, 949], [910, 911, 951, 950], [911, 912, 952, 951], [912, 913, 953, 952], [913, 914, 954, 953], [914, 915, 955, 954], [915, 916, 956, 955], [916, 917, 957, 956], [917, 918, 958, 957], [918, 919, 959, 958], [921, 920, 960, 961], [920, 922, 962, 960], [922, 923, 963, 962], [923, 924, 964, 963], [924, 925, 965, 964], [925, 926, 966, 965], [926, 927, 967, 966], [927, 928, 968, 967], [928, 929, 969, 968], [929, 930, 970, 969], [930, 931, 971, 970], [931, 932, 972, 971], [932, 933, 973, 972], [933, 934, 974, 973], [934, 935, 975, 974], [935, 936, 976, 975], [936, 937, 977, 976], [937, 938, 978, 977], [938, 939, 979, 978], [939, 940, 980, 979], [940, 941, 981, 980], [941, 942, 982, 981], [942, 943, 983, 982], [943, 944, 984, 983], [944, 945, 985, 984], [945, 946, 986, 985], [946, 947, 987, 986], [947, 948, 988, 987], [948, 949, 989, 988], [949, 950, 990, 989], [950, 951, 991, 990], [951, 952, 992, 991], [952, 953, 993, 992], [953, 954, 994, 993], [954, 955, 995, 994], [955, 956, 996, 995], [956, 957, 997, 996], [957, 958, 998, 997], [958, 959, 999, 998], [961, 960, 1000, 1001], [960, 962, 1002, 1000], [962, 963, 1003, 1002], [963, 964, 1004, 1003], [964, 965, 1005, 1004], [965, 966, 1006, 1005], [966, 967, 1007, 1006], [967, 968, 1008, 1007], [968, 969, 1009, 1008], [969, 970, 1010, 1009], [970, 971, 1011, 1010], [971, 972, 1012, 1011], [972, 973, 1013, 1012], [973, 974, 1014, 1013], [974, 975, 1015, 1014], [975, 976, 1016, 1015], [976, 977, 1017, 1016], [977, 978, 1018, 1017], [978, 979, 1019, 1018], [979, 980, 1020, 1019], [980, 981, 1021, 1020], [981, 982, 1022, 1021], [982, 983, 1023, 1022], [983, 984, 1024, 1023], [984, 985, 1025, 1024], [985, 986, 1026, 1025], [986, 987, 1027, 1026], [987, 988, 1028, 1027], [988, 989, 1029, 1028], [989, 990, 1030, 1029], [990, 991, 1031, 1030], [991, 992, 1032, 1031], [992, 993, 1033, 1032], [993, 994, 1034, 1033], [994, 995, 1035, 1034], [995, 996, 1036, 1035], [996, 997, 1037, 1036], [997, 998, 1038, 1037], [998, 999, 1039, 1038], [1001, 1000, 1040, 1041], [1000, 1002, 1042, 1040], [1002, 1003, 1043, 1042], [1003, 1004, 1044, 1043], [1004, 1005, 1045, 1044], [1005, 1006, 1046, 1045], [1006, 1007, 1047, 1046], [1007, 1008, 1048, 1047], [1008, 1009, 1049, 1048], [1009, 1010, 1050, 1049], [1010, 1011, 1051, 1050], [1011, 1012, 1052, 1051], [1012, 1013, 1053, 1052], [1013, 1014, 1054, 1053], [1014, 1015, 1055, 1054], [1015, 1016, 1056, 1055], [1016, 1017, 1057, 1056], [1017, 1018, 1058, 1057], [1018, 1019, 1059, 1058], [1019, 1020, 1060, 1059], [1020, 1021, 1061, 1060], [1021, 1022, 1062, 1061], [1022, 1023, 1063, 1062], [1023, 1024, 1064, 1063], [1024, 1025, 1065, 1064], [1025, 1026, 1066, 1065], [1026, 1027, 1067, 1066], [1027, 1028, 1068, 1067], [1028, 1029, 1069, 1068], [1029, 1030, 1070, 1069], [1030, 1031, 1071, 1070], [1031, 1032, 1072, 1071], [1032, 1033, 1073, 1072], [1033, 1034, 1074, 1073], [1034, 1035, 1075, 1074], [1035, 1036, 1076, 1075], [1036, 1037, 1077, 1076], [1037, 1038, 1078, 1077], [1038, 1039, 1079, 1078], [1041, 1040, 1080, 1081], [1040, 1042, 1082, 1080], [1042, 1043, 1083, 1082], [1043, 1044, 1084, 1083], [1044, 1045, 1085, 1084], [1045, 1046, 1086, 1085], [1046, 1047, 1087, 1086], [1047, 1048, 1088, 1087], [1048, 1049, 1089, 1088], [1049, 1050, 1090, 1089], [1050, 1051, 1091, 1090], [1051, 1052, 1092, 1091], [1052, 1053, 1093, 1092], [1053, 1054, 1094, 1093], [1054, 1055, 1095, 1094], [1055, 1056, 1096, 1095], [1056, 1057, 1097, 1096], [1057, 1058, 1098, 1097], [1058, 1059, 1099, 1098], [1059, 1060, 1100, 1099], [1060, 1061, 1101, 1100], [1061, 1062, 1102, 1101], [1062, 1063, 1103, 1102], [1063, 1064, 1104, 1103], [1064, 1065, 1105, 1104], [1065, 1066, 1106, 1105], [1066, 1067, 1107, 1106], [1067, 1068, 1108, 1107], [1068, 1069, 1109, 1108], [1069, 1070, 1110, 1109], [1070, 1071, 1111, 1110], [1071, 1072, 1112, 1111], [1072, 1073, 1113, 1112], [1073, 1074, 1114, 1113], [1074, 1075, 1115, 1114], [1075, 1076, 1116, 1115], [1076, 1077, 1117, 1116], [1077, 1078, 1118, 1117], [1078, 1079, 1119, 1118], [1081, 1080, 1120, 1121], [1080, 1082, 1122, 1120], [1082, 1083, 1123, 1122], [1083, 1084, 1124, 1123], [1084, 1085, 1125, 1124], [1085, 1086, 1126, 1125], [1086, 1087, 1127, 1126], [1087, 1088, 1128, 1127], [1088, 1089, 1129, 1128], [1089, 1090, 1130, 1129], [1090, 1091, 1131, 1130], [1091, 1092, 1132, 1131], [1092, 1093, 1133, 1132], [1093, 1094, 1134, 1133], [1094, 1095, 1135, 1134], [1095, 1096, 1136, 1135], [1096, 1097, 1137, 1136], [1097, 1098, 1138, 1137], [1098, 1099, 1139, 1138], [1099, 1100, 1140, 1139], [1100, 1101, 1141, 1140], [1101, 1102, 1142, 1141], [1102, 1103, 1143, 1142], [1103, 1104, 1144, 1143], [1104, 1105, 1145, 1144], [1105, 1106, 1146, 1145], [1106, 1107, 1147, 1146], [1107, 1108, 1148, 1147], [1108, 1109, 1149, 1148], [1109, 1110, 1150, 1149], [1110, 1111, 1151, 1150], [1111, 1112, 1152, 1151], [1112, 1113, 1153, 1152], [1113, 1114, 1154, 1153], [1114, 1115, 1155, 1154], [1115, 1116, 1156, 1155], [1116, 1117, 1157, 1156], [1117, 1118, 1158, 1157], [1118, 1119, 1159, 1158], [1121, 1120, 1160, 1161], [1120, 1122, 1162, 1160], [1122, 1123, 1163, 1162], [1123, 1124, 1164, 1163], [1124, 1125, 1165, 1164], [1125, 1126, 1166, 1165], [1126, 1127, 1167, 1166], [1127, 1128, 1168, 1167], [1128, 1129, 1169, 1168], [1129, 1130, 1170, 1169], [1130, 1131, 1171, 1170], [1131, 1132, 1172, 1171], [1132, 1133, 1173, 1172], [1133, 1134, 1174, 1173], [1134, 1135, 1175, 1174], [1135, 1136, 1176, 1175], [1136, 1137, 1177, 1176], [1137, 1138, 1178, 1177], [1138, 1139, 1179, 1178], [1139, 1140, 1180, 1179], [1140, 1141, 1181, 1180], [1141, 1142, 1182, 1181], [1142, 1143, 1183, 1182], [1143, 1144, 1184, 1183], [1144, 1145, 1185, 1184], [1145, 1146, 1186, 1185], [1146, 1147, 1187, 1186], [1147, 1148, 1188, 1187], [1148, 1149, 1189, 1188], [1149, 1150, 1190, 1189], [1150, 1151, 1191, 1190], [1151, 1152, 1192, 1191], [1152, 1153, 1193, 1192], [1153, 1154, 1194, 1193], [1154, 1155, 1195, 1194], [1155, 1156, 1196, 1195], [1156, 1157, 1197, 1196], [1157, 1158, 1198, 1197], [1158, 1159, 1199, 1198], [1161, 1160, 1200, 1201], [1160, 1162, 1202, 1200], [1162, 1163, 1203, 1202], [1163, 1164, 1204, 1203], [1164, 1165, 1205, 1204], [1165, 1166, 1206, 1205], [1166, 1167, 1207, 1206], [1167, 1168, 1208, 1207], [1168, 1169, 1209, 1208], [1169, 1170, 1210, 1209], [1170, 1171, 1211, 1210], [1171, 1172, 1212, 1211], [1172, 1173, 1213, 1212], [1173, 1174, 1214, 1213], [1174, 1175, 1215, 1214], [1175, 1176, 1216, 1215], [1176, 1177, 1217, 1216], [1177, 1178, 1218, 1217], [1178, 1179, 1219, 1218], [1179, 1180, 1220, 1219], [1180, 1181, 1221, 1220], [1181, 1182, 1222, 1221], [1182, 1183, 1223, 1222], [1183, 1184, 1224, 1223], [1184, 1185, 1225, 1224], [1185, 1186, 1226, 1225], [1186, 1187, 1227, 1226], [1187, 1188, 1228, 1227], [1188, 1189, 1229, 1228], [1189, 1190, 1230, 1229], [1190, 1191, 1231, 1230], [1191, 1192, 1232, 1231], [1192, 1193, 1233, 1232], [1193, 1194, 1234, 1233], [1194, 1195, 1235, 1234], [1195, 1196, 1236, 1235], [1196, 1197, 1237, 1236], [1197, 1198, 1238, 1237], [1198, 1199, 1239, 1238], [1201, 1200, 1240, 1241], [1200, 1202, 1242, 1240], [1202, 1203, 1243, 1242], [1203, 1204, 1244, 1243], [1204, 1205, 1245, 1244], [1205, 1206, 1246, 1245], [1206, 1207, 1247, 1246], [1207, 1208, 1248, 1247], [1208, 1209, 1249, 1248], [1209, 1210, 1250, 1249], [1210, 1211, 1251, 1250], [1211, 1212, 1252, 1251], [1212, 1213, 1253, 1252], [1213, 1214, 1254, 1253], [1214, 1215, 1255, 1254], [1215, 1216, 1256, 1255], [1216, 1217, 1257, 1256], [1217, 1218, 1258, 1257], [1218, 1219, 1259, 1258], [1219, 1220, 1260, 1259], [1220, 1221, 1261, 1260], [1221, 1222, 1262, 1261], [1222, 1223, 1263, 1262], [1223, 1224, 1264, 1263], [1224, 1225, 1265, 1264], [1225, 1226, 1266, 1265], [1226, 1227, 1267, 1266], [1227, 1228, 1268, 1267], [1228, 1229, 1269, 1268], [1229, 1230, 1270, 1269], [1230, 1231, 1271, 1270], [1231, 1232, 1272, 1271], [1232, 1233, 1273, 1272], [1233, 1234, 1274, 1273], [1234, 1235, 1275, 1274], [1235, 1236, 1276, 1275], [1236, 1237, 1277, 1276], [1237, 1238, 1278, 1277], [1238, 1239, 1279, 1278], [1241, 1240, 1280, 1281], [1240, 1242, 1282, 1280], [1242, 1243, 1283, 1282], [1243, 1244, 1284, 1283], [1244, 1245, 1285, 1284], [1245, 1246, 1286, 1285], [1246, 1247, 1287, 1286], [1247, 1248, 1288, 1287], [1248, 1249, 1289, 1288], [1249, 1250, 1290, 1289], [1250, 1251, 1291, 1290], [1251, 1252, 1292, 1291], [1252, 1253, 1293, 1292], [1253, 1254, 1294, 1293], [1254, 1255, 1295, 1294], [1255, 1256, 1296, 1295], [1256, 1257, 1297, 1296], [1257, 1258, 1298, 1297], [1258, 1259, 1299, 1298], [1259, 1260, 1300, 1299], [1260, 1261, 1301, 1300], [1261, 1262, 1302, 1301], [1262, 1263, 1303, 1302], [1263, 1264, 1304, 1303], [1264, 1265, 1305, 1304], [1265, 1266, 1306, 1305], [1266, 1267, 1307, 1306], [1267, 1268, 1308, 1307], [1268, 1269, 1309, 1308], [1269, 1270, 1310, 1309], [1270, 1271, 1311, 1310], [1271, 1272, 1312, 1311], [1272, 1273, 1313, 1312], [1273, 1274, 1314, 1313], [1274, 1275, 1315, 1314], [1275, 1276, 1316, 1315], [1276, 1277, 1317, 1316], [1277, 1278, 1318, 1317], [1278, 1279, 1319, 1318], [1281, 1280, 1320, 1321], [1280, 1282, 1322, 1320], [1282, 1283, 1323, 1322], [1283, 1284, 1324, 1323], [1284, 1285, 1325, 1324], [1285, 1286, 1326, 1325], [1286, 1287, 1327, 1326], [1287, 1288, 1328, 1327], [1288, 1289, 1329, 1328], [1289, 1290, 1330, 1329], [1290, 1291, 1331, 1330], [1291, 1292, 1332, 1331], [1292, 1293, 1333, 1332], [1293, 1294, 1334, 1333], [1294, 1295, 1335, 1334], [1295, 1296, 1336, 1335], [1296, 1297, 1337, 1336], [1297, 1298, 1338, 1337], [1298, 1299, 1339, 1338], [1299, 1300, 1340, 1339], [1300, 1301, 1341, 1340], [1301, 1302, 1342, 1341], [1302, 1303, 1343, 1342], [1303, 1304, 1344, 1343], [1304, 1305, 1345, 1344], [1305, 1306, 1346, 1345], [1306, 1307, 1347, 1346], [1307, 1308, 1348, 1347], [1308, 1309, 1349, 1348], [1309, 1310, 1350, 1349], [1310, 1311, 1351, 1350], [1311, 1312, 1352, 1351], [1312, 1313, 1353, 1352], [1313, 1314, 1354, 1353], [1314, 1315, 1355, 1354], [1315, 1316, 1356, 1355], [1316, 1317, 1357, 1356], [1317, 1318, 1358, 1357], [1318, 1319, 1359, 1358], [1321, 1320, 1360, 1361], [1320, 1322, 1362, 1360], [1322, 1323, 1363, 1362], [1323, 1324, 1364, 1363], [1324, 1325, 1365, 1364], [1325, 1326, 1366, 1365], [1326, 1327, 1367, 1366], [1327, 1328, 1368, 1367], [1328, 1329, 1369, 1368], [1329, 1330, 1370, 1369], [1330, 1331, 1371, 1370], [1331, 1332, 1372, 1371], [1332, 1333, 1373, 1372], [1333, 1334, 1374, 1373], [1334, 1335, 1375, 1374], [1335, 1336, 1376, 1375], [1336, 1337, 1377, 1376], [1337, 1338, 1378, 1377], [1338, 1339, 1379, 1378], [1339, 1340, 1380, 1379], [1340, 1341, 1381, 1380], [1341, 1342, 1382, 1381], [1342, 1343, 1383, 1382], [1343, 1344, 1384, 1383], [1344, 1345, 1385, 1384], [1345, 1346, 1386, 1385], [1346, 1347, 1387, 1386], [1347, 1348, 1388, 1387], [1348, 1349, 1389, 1388], [1349, 1350, 1390, 1389], [1350, 1351, 1391, 1390], [1351, 1352, 1392, 1391], [1352, 1353, 1393, 1392], [1353, 1354, 1394, 1393], [1354, 1355, 1395, 1394], [1355, 1356, 1396, 1395], [1356, 1357, 1397, 1396], [1357, 1358, 1398, 1397], [1358, 1359, 1399, 1398], [1361, 1360, 1400, 1401], [1360, 1362, 1402, 1400], [1362, 1363, 1403, 1402], [1363, 1364, 1404, 1403], [1364, 1365, 1405, 1404], [1365, 1366, 1406, 1405], [1366, 1367, 1407, 1406], [1367, 1368, 1408, 1407], [1368, 1369, 1409, 1408], [1369, 1370, 1410, 1409], [1370, 1371, 1411, 1410], [1371, 1372, 1412, 1411], [1372, 1373, 1413, 1412], [1373, 1374, 1414, 1413], [1374, 1375, 1415, 1414], [1375, 1376, 1416, 1415], [1376, 1377, 1417, 1416], [1377, 1378, 1418, 1417], [1378, 1379, 1419, 1418], [1379, 1380, 1420, 1419], [1380, 1381, 1421, 1420], [1381, 1382, 1422, 1421], [1382, 1383, 1423, 1422], [1383, 1384, 1424, 1423], [1384, 1385, 1425, 1424], [1385, 1386, 1426, 1425], [1386, 1387, 1427, 1426], [1387, 1388, 1428, 1427], [1388, 1389, 1429, 1428], [1389, 1390, 1430, 1429], [1390, 1391, 1431, 1430], [1391, 1392, 1432, 1431], [1392, 1393, 1433, 1432], [1393, 1394, 1434, 1433], [1394, 1395, 1435, 1434], [1395, 1396, 1436, 1435], [1396, 1397, 1437, 1436], [1397, 1398, 1438, 1437], [1398, 1399, 1439, 1438], [1401, 1400, 1440, 1441], [1400, 1402, 1442, 1440], [1402, 1403, 1443, 1442], [1403, 1404, 1444, 1443], [1404, 1405, 1445, 1444], [1405, 1406, 1446, 1445], [1406, 1407, 1447, 1446], [1407, 1408, 1448, 1447], [1408, 1409, 1449, 1448], [1409, 1410, 1450, 1449], [1410, 1411, 1451, 1450], [1411, 1412, 1452, 1451], [1412, 1413, 1453, 1452], [1413, 1414, 1454, 1453], [1414, 1415, 1455, 1454], [1415, 1416, 1456, 1455], [1416, 1417, 1457, 1456], [1417, 1418, 1458, 1457], [1418, 1419, 1459, 1458], [1419, 1420, 1460, 1459], [1420, 1421, 1461, 1460], [1421, 1422, 1462, 1461], [1422, 1423, 1463, 1462], [1423, 1424, 1464, 1463], [1424, 1425, 1465, 1464], [1425, 1426, 1466, 1465], [1426, 1427, 1467, 1466], [1427, 1428, 1468, 1467], [1428, 1429, 1469, 1468], [1429, 1430, 1470, 1469], [1430, 1431, 1471, 1470], [1431, 1432, 1472, 1471], [1432, 1433, 1473, 1472], [1433, 1434, 1474, 1473], [1434, 1435, 1475, 1474], [1435, 1436, 1476, 1475], [1436, 1437, 1477, 1476], [1437, 1438, 1478, 1477], [1438, 1439, 1479, 1478], [1441, 1440, 1480, 1481], [1440, 1442, 1482, 1480], [1442, 1443, 1483, 1482], [1443, 1444, 1484, 1483], [1444, 1445, 1485, 1484], [1445, 1446, 1486, 1485], [1446, 1447, 1487, 1486], [1447, 1448, 1488, 1487], [1448, 1449, 1489, 1488], [1449, 1450, 1490, 1489], [1450, 1451, 1491, 1490], [1451, 1452, 1492, 1491], [1452, 1453, 1493, 1492], [1453, 1454, 1494, 1493], [1454, 1455, 1495, 1494], [1455, 1456, 1496, 1495], [1456, 1457, 1497, 1496], [1457, 1458, 1498, 1497], [1458, 1459, 1499, 1498], [1459, 1460, 1500, 1499], [1460, 1461, 1501, 1500], [1461, 1462, 1502, 1501], [1462, 1463, 1503, 1502], [1463, 1464, 1504, 1503], [1464, 1465, 1505, 1504], [1465, 1466, 1506, 1505], [1466, 1467, 1507, 1506], [1467, 1468, 1508, 1507], [1468, 1469, 1509, 1508], [1469, 1470, 1510, 1509], [1470, 1471, 1511, 1510], [1471, 1472, 1512, 1511], [1472, 1473, 1513, 1512], [1473, 1474, 1514, 1513], [1474, 1475, 1515, 1514], [1475, 1476, 1516, 1515], [1476, 1477, 1517, 1516], [1477, 1478, 1518, 1517], [1478, 1479, 1519, 1518], [1481, 1480, 1520, 1521], [1480, 1482, 1522, 1520], [1482, 1483, 1523, 1522], [1483, 1484, 1524, 1523], [1484, 1485, 1525, 1524], [1485, 1486, 1526, 1525], [1486, 1487, 1527, 1526], [1487, 1488, 1528, 1527], [1488, 1489, 1529, 1528], [1489, 1490, 1530, 1529], [1490, 1491, 1531, 1530], [1491, 1492, 1532, 1531], [1492, 1493, 1533, 1532], [1493, 1494, 1534, 1533], [1494, 1495, 1535, 1534], [1495, 1496, 1536, 1535], [1496, 1497, 1537, 1536], [1497, 1498, 1538, 1537], [1498, 1499, 1539, 1538], [1499, 1500, 1540, 1539], [1500, 1501, 1541, 1540], [1501, 1502, 1542, 1541], [1502, 1503, 1543, 1542], [1503, 1504, 1544, 1543], [1504, 1505, 1545, 1544], [1505, 1506, 1546, 1545], [1506, 1507, 1547, 1546], [1507, 1508, 1548, 1547], [1508, 1509, 1549, 1548], [1509, 1510, 1550, 1549], [1510, 1511, 1551, 1550], [1511, 1512, 1552, 1551], [1512, 1513, 1553, 1552], [1513, 1514, 1554, 1553], [1514, 1515, 1555, 1554], [1515, 1516, 1556, 1555], [1516, 1517, 1557, 1556], [1517, 1518, 1558, 1557], [1518, 1519, 1559, 1558], [1521, 1520, 1560, 1561], [1520, 1522, 1562, 1560], [1522, 1523, 1563, 1562], [1523, 1524, 1564, 1563], [1524, 1525, 1565, 1564], [1525, 1526, 1566, 1565], [1526, 1527, 1567, 1566], [1527, 1528, 1568, 1567], [1528, 1529, 1569, 1568], [1529, 1530, 1570, 1569], [1530, 1531, 1571, 1570], [1531, 1532, 1572, 1571], [1532, 1533, 1573, 1572], [1533, 1534, 1574, 1573], [1534, 1535, 1575, 1574], [1535, 1536, 1576, 1575], [1536, 1537, 1577, 1576], [1537, 1538, 1578, 1577], [1538, 1539, 1579, 1578], [1539, 1540, 1580, 1579], [1540, 1541, 1581, 1580], [1541, 1542, 1582, 1581], [1542, 1543, 1583, 1582], [1543, 1544, 1584, 1583], [1544, 1545, 1585, 1584], [1545, 1546, 1586, 1585], [1546, 1547, 1587, 1586], [1547, 1548, 1588, 1587], [1548, 1549, 1589, 1588], [1549, 1550, 1590, 1589], [1550, 1551, 1591, 1590], [1551, 1552, 1592, 1591], [1552, 1553, 1593, 1592], [1553, 1554, 1594, 1593], [1554, 1555, 1595, 1594], [1555, 1556, 1596, 1595], [1556, 1557, 1597, 1596], [1557, 1558, 1598, 1597], [1558, 1559, 1599, 1598]], &quot;color&quot;: &quot;#0000ff&quot;, &quot;opacity&quot;: 0.5}];\n",
       "    for ( var i=0 ; i &lt; surfaces.length ; i++ ) addSurface( surfaces[i] );\n",
       "\n",
       "    function addSurface( json ) {\n",
       "\n",
       "        var useFaceColors = &#x27;faceColors&#x27; in json ? true : false;\n",
       "\n",
       "        var geometry = new THREE.Geometry();\n",
       "        for ( var i=0 ; i &lt; json.vertices.length ; i++ ) {\n",
       "            var v = json.vertices[i];\n",
       "            geometry.vertices.push( new THREE.Vector3( a[0]*v.x, a[1]*v.y, a[2]*v.z ) );\n",
       "        }\n",
       "        for ( var i=0 ; i &lt; json.faces.length ; i++ ) {\n",
       "            var f = json.faces[i];\n",
       "            for ( var j=0 ; j &lt; f.length - 2 ; j++ ) {\n",
       "                var face = new THREE.Face3( f[0], f[j+1], f[j+2] );\n",
       "                if ( useFaceColors ) face.color.set( json.faceColors[i] );\n",
       "                geometry.faces.push( face );\n",
       "            }\n",
       "        }\n",
       "        geometry.computeVertexNormals();\n",
       "\n",
       "        var side = json.singleSide ? THREE.FrontSide : THREE.DoubleSide;\n",
       "        var transparent = json.opacity &lt; 1 ? true : false;\n",
       "        var depthWrite = &#x27;depthWrite&#x27; in json ? json.depthWrite : !transparent;\n",
       "        var flatShading = json.useFlatShading ? json.useFlatShading : false;\n",
       "\n",
       "        var material = new THREE.MeshPhongMaterial( { side: side,\n",
       "                                     color: useFaceColors ? &#x27;white&#x27; : json.color,\n",
       "                                     vertexColors: useFaceColors ? THREE.FaceColors : THREE.NoColors,\n",
       "                                     transparent: transparent, opacity: json.opacity,\n",
       "                                     shininess: 20, flatShading: flatShading,\n",
       "                                     depthWrite: depthWrite } );\n",
       "\n",
       "        var c = new THREE.Vector3();\n",
       "        geometry.computeBoundingBox();\n",
       "        geometry.boundingBox.getCenter( c );\n",
       "        geometry.translate( -c.x, -c.y, -c.z );\n",
       "\n",
       "        var mesh = new THREE.Mesh( geometry, material );\n",
       "        mesh.position.set( c.x, c.y, c.z );\n",
       "        if ( transparent &amp;&amp; json.renderOrder ) mesh.renderOrder = json.renderOrder;\n",
       "        mesh.userData = json;\n",
       "        scene.add( mesh );\n",
       "\n",
       "        if ( json.showMeshGrid ) addSurfaceMeshGrid( json );\n",
       "\n",
       "    }\n",
       "\n",
       "    function addSurfaceMeshGrid( json ) {\n",
       "\n",
       "        var geometry = new THREE.Geometry();\n",
       "\n",
       "        for ( var i=0 ; i &lt; json.faces.length ; i++ ) {\n",
       "            var f = json.faces[i];\n",
       "            for ( var j=0 ; j &lt; f.length ; j++ ) {\n",
       "                var k = j === f.length-1 ? 0 : j+1;\n",
       "                var v1 = json.vertices[f[j]];\n",
       "                var v2 = json.vertices[f[k]];\n",
       "                // vertices in opposite directions on neighboring faces\n",
       "                var nudge = f[j] &lt; f[k] ? .0005*zRange : -.0005*zRange;\n",
       "                geometry.vertices.push( new THREE.Vector3( a[0]*v1.x, a[1]*v1.y, a[2]*(v1.z+nudge) ) );\n",
       "                geometry.vertices.push( new THREE.Vector3( a[0]*v2.x, a[1]*v2.y, a[2]*(v2.z+nudge) ) );\n",
       "            }\n",
       "        }\n",
       "\n",
       "        var c = new THREE.Vector3();\n",
       "        geometry.computeBoundingBox();\n",
       "        geometry.boundingBox.getCenter( c );\n",
       "        geometry.translate( -c.x, -c.y, -c.z );\n",
       "\n",
       "        var gridColor = options.theme === &#x27;dark&#x27; ? &#x27;white&#x27; : &#x27;black&#x27;;\n",
       "        var linewidth = json.linewidth || 1;\n",
       "        var materialOptions = { color: gridColor, linewidth: linewidth };\n",
       "\n",
       "        var mesh;\n",
       "        if ( linewidth &gt; 1 &amp;&amp; window.createFatLineSegments ) {\n",
       "            mesh = createFatLineSegments( geometry, materialOptions );\n",
       "        } else {\n",
       "            var material = new THREE.LineBasicMaterial( materialOptions );\n",
       "            mesh = new THREE.LineSegments( geometry, material );\n",
       "        }\n",
       "\n",
       "        mesh.position.set( c.x, c.y, c.z );\n",
       "        mesh.userData = json;\n",
       "        scene.add( mesh );\n",
       "\n",
       "    }\n",
       "\n",
       "    function render() {\n",
       "\n",
       "        if ( window.updateAnimation ) animate = updateAnimation();\n",
       "        if ( animate ) requestAnimationFrame( render );\n",
       "\n",
       "        renderer.render( scene, camera );\n",
       "\n",
       "    }\n",
       "\n",
       "    render();\n",
       "    controls.update();\n",
       "    if ( !animate ) render();\n",
       "\n",
       "\n",
       "    // menu functions\n",
       "\n",
       "    function toggleMenu() {\n",
       "\n",
       "        var m = document.getElementById( &#x27;menu-content&#x27; );\n",
       "        if ( m.style.display === &#x27;block&#x27; ) m.style.display = &#x27;none&#x27;\n",
       "        else m.style.display = &#x27;block&#x27;;\n",
       "\n",
       "    }\n",
       "\n",
       "\n",
       "    function saveAsPNG() {\n",
       "\n",
       "        var a = document.body.appendChild( document.createElement( &#x27;a&#x27; ) );\n",
       "        a.href = renderer.domElement.toDataURL( &#x27;image/png&#x27; );\n",
       "        a.download = &#x27;screenshot&#x27;;\n",
       "        a.click();\n",
       "\n",
       "    }\n",
       "\n",
       "    function saveAsHTML() {\n",
       "\n",
       "        toggleMenu(); // otherwise visible in output\n",
       "        event.stopPropagation();\n",
       "\n",
       "        var blob = new Blob( [ &#x27;&lt;!DOCTYPE html&gt;\\n&#x27; + document.documentElement.outerHTML ] );\n",
       "        var a = document.body.appendChild( document.createElement( &#x27;a&#x27; ) );\n",
       "        a.href = window.URL.createObjectURL( blob );\n",
       "        a.download = suggestFilename();\n",
       "        a.click();\n",
       "\n",
       "        function suggestFilename() {\n",
       "            if ( !document.title ) {\n",
       "                return &#x27;graphic.html&#x27;;\n",
       "            } else if ( /\\.html?$/i.test( document.title ) ) {\n",
       "                return document.title; // already ends in .htm or .html\n",
       "            } else {\n",
       "                return document.title + &#x27;.html&#x27;;\n",
       "            }\n",
       "        }\n",
       "\n",
       "    }\n",
       "\n",
       "    function getViewpoint() {\n",
       "\n",
       "        function roundTo( x, n ) { return +x.toFixed(n); }\n",
       "\n",
       "        var v = camera.quaternion.inverse();\n",
       "        var r = Math.sqrt( v.x*v.x + v.y*v.y + v.z*v.z );\n",
       "        var axis = [ roundTo( v.x / r, 4 ), roundTo( v.y / r, 4 ), roundTo( v.z / r, 4 ) ];\n",
       "        var angle = roundTo( 2 * Math.atan2( r, v.w ) * 180 / Math.PI, 2 );\n",
       "\n",
       "        var textArea = document.createElement( &#x27;textarea&#x27; );\n",
       "        textArea.textContent = JSON.stringify( axis ) + &#x27;,&#x27; + angle;\n",
       "        textArea.style.csstext = &#x27;position: absolute; top: -100%&#x27;;\n",
       "        document.body.append( textArea );\n",
       "        textArea.select();\n",
       "        document.execCommand( &#x27;copy&#x27; );\n",
       "\n",
       "        var m = document.getElementById( &#x27;menu-message&#x27; );\n",
       "        m.innerHTML = &#x27;Viewpoint copied to clipboard&#x27;;\n",
       "        m.style.display = &#x27;block&#x27;;\n",
       "        setTimeout( function() { m.style.display = &#x27;none&#x27;; }, 2000 );\n",
       "\n",
       "    }\n",
       "\n",
       "    function getCamera() {\n",
       "\n",
       "        function roundTo( x, n ) { return +x.toFixed(n); }\n",
       "\n",
       "        var pos = camera.position;\n",
       "        var pos_r = [ roundTo( pos.x, 4 ), roundTo( pos.y, 4 ), roundTo( pos.z, 4 ) ];\n",
       "   //     var up = camera.up; // up is always (0,0,1)\n",
       "        var textArea = document.createElement(&#x27;textarea&#x27;);\n",
       "        var cam_position = JSON.stringify(pos_r);\n",
       "        textArea.textContent = &#x27;,camera_position=&#x27; + cam_position;\n",
       "        textArea.style.csstext = &#x27;position: absolute; top: -100%&#x27;;\n",
       "        document.body.append( textArea );\n",
       "        textArea.select();\n",
       "        document.execCommand( &#x27;copy&#x27; );\n",
       "\n",
       "        var m = document.getElementById( &#x27;menu-message&#x27; );\n",
       "        m.innerHTML = &#x27;Camera position &#x27;+ cam_position+&#x27; copied to clipboard&#x27;;\n",
       "        m.style.display = &#x27;block&#x27;;\n",
       "        setTimeout( function() { m.style.display = &#x27;none&#x27;; }, 2000 );\n",
       "\n",
       "    }\n",
       "\n",
       "&lt;/script&gt;\n",
       "\n",
       "&lt;div id=&quot;menu-container&quot; onclick=&quot;toggleMenu()&quot;&gt;&amp;#x24d8;\n",
       "&lt;div id=&quot;menu-message&quot;&gt;&lt;/div&gt;\n",
       "&lt;div id=&quot;menu-content&quot;&gt;\n",
       "&lt;div onclick=&quot;saveAsPNG()&quot;&gt;Save as PNG&lt;/div&gt;\n",
       "&lt;div onclick=&quot;saveAsHTML()&quot;&gt;Save as HTML&lt;/div&gt;\n",
       "&lt;div onclick=&quot;getCamera()&quot;&gt;Get camera&lt;/div&gt;\n",
       "&lt;div onclick=&quot;getViewpoint()&quot;&gt;Get viewpoint&lt;/div&gt;\n",
       "&lt;div&gt;Close Menu&lt;/div&gt;\n",
       "&lt;/div&gt;&lt;/div&gt;\n",
       "\n",
       "\n",
       "&lt;/body&gt;\n",
       "&lt;/html&gt;\n",
       "\"\n",
       "        width=\"100%\"\n",
       "        height=\"400\"\n",
       "        style=\"border: 0;\">\n",
       "</iframe>\n"
      ],
      "text/plain": [
       "Graphics3d Object"
      ]
     },
     "execution_count": 2,
     "metadata": {},
     "output_type": "execute_result"
    }
   ],
   "source": [
    "# Define parameters only for the plot\n",
    "u, v = var('u v')\n",
    "# Set numerical values for R and r\n",
    "R = 3\n",
    "r = 1\n",
    "\n",
    "# Define expressions using the numerical R and r\n",
    "x = (R + r*cos(u))\n",
    "z = r*sin(u)\n",
    "\n",
    "def surface_r(u, v, x, z):\n",
    "    r1 = x*cos(v)\n",
    "    r2 = x*sin(v)\n",
    "    r3 = z\n",
    "    return vector([r1, r2, r3])\n",
    "\n",
    "rv = surface_r(u, v, x, z)\n",
    "\n",
    "display(Math(r'\\mathbf{r}(u, v) = ' + latex(rv)))\n",
    "# Plot the resulting 3D surface\n",
    "parametric_plot3d(rv, (u, 0, 2*pi), (v, 0, 2*pi), color='blue', opacity=0.5)"
   ]
  },
  {
   "cell_type": "code",
   "execution_count": 10,
   "metadata": {
    "vscode": {
     "languageId": "sage"
    }
   },
   "outputs": [
    {
     "data": {
      "text/latex": [
       "$\\displaystyle \\mathbf{r}(u, v) = \\left(r \\cos\\left(v\\right) \\sin\\left(u\\right),\\,r \\sin\\left(u\\right) \\sin\\left(v\\right),\\,r \\cos\\left(u\\right)\\right)$"
      ],
      "text/plain": [
       "<IPython.core.display.Math object>"
      ]
     },
     "metadata": {},
     "output_type": "display_data"
    }
   ],
   "source": [
    "R, r, alpha = var('R r a')\n",
    "x = (r*sin(u))\n",
    "z = r*cos(u)\n",
    "\n",
    "#x = alpha * cosh(u)\n",
    "#z = alpha * sinh(u)\n",
    "\n",
    "rv = surface_r(u, v, x, z)\n",
    "\n",
    "display(Math(r'\\mathbf{r}(u, v) = ' + latex(rv)))"
   ]
  },
  {
   "cell_type": "code",
   "execution_count": 11,
   "metadata": {
    "vscode": {
     "languageId": "sage"
    }
   },
   "outputs": [
    {
     "data": {
      "text/latex": [
       "$\\displaystyle E = r^{2}$"
      ],
      "text/plain": [
       "<IPython.core.display.Math object>"
      ]
     },
     "metadata": {},
     "output_type": "display_data"
    },
    {
     "data": {
      "text/latex": [
       "$\\displaystyle F = 0$"
      ],
      "text/plain": [
       "<IPython.core.display.Math object>"
      ]
     },
     "metadata": {},
     "output_type": "display_data"
    },
    {
     "data": {
      "text/latex": [
       "$\\displaystyle G = r^{2} \\sin\\left(u\\right)^{2}$"
      ],
      "text/plain": [
       "<IPython.core.display.Math object>"
      ]
     },
     "metadata": {},
     "output_type": "display_data"
    },
    {
     "data": {
      "text/latex": [
       "$\\displaystyle E_u = 0$"
      ],
      "text/plain": [
       "<IPython.core.display.Math object>"
      ]
     },
     "metadata": {},
     "output_type": "display_data"
    },
    {
     "data": {
      "text/latex": [
       "$\\displaystyle E_v = 0$"
      ],
      "text/plain": [
       "<IPython.core.display.Math object>"
      ]
     },
     "metadata": {},
     "output_type": "display_data"
    },
    {
     "data": {
      "text/latex": [
       "$\\displaystyle F_u = 0$"
      ],
      "text/plain": [
       "<IPython.core.display.Math object>"
      ]
     },
     "metadata": {},
     "output_type": "display_data"
    },
    {
     "data": {
      "text/latex": [
       "$\\displaystyle F_v = 0$"
      ],
      "text/plain": [
       "<IPython.core.display.Math object>"
      ]
     },
     "metadata": {},
     "output_type": "display_data"
    },
    {
     "data": {
      "text/latex": [
       "$\\displaystyle G_u = 2 \\, r^{2} \\cos\\left(u\\right) \\sin\\left(u\\right)$"
      ],
      "text/plain": [
       "<IPython.core.display.Math object>"
      ]
     },
     "metadata": {},
     "output_type": "display_data"
    },
    {
     "data": {
      "text/latex": [
       "$\\displaystyle G_v = 0$"
      ],
      "text/plain": [
       "<IPython.core.display.Math object>"
      ]
     },
     "metadata": {},
     "output_type": "display_data"
    },
    {
     "data": {
      "text/latex": [
       "$\\displaystyle D = r^{4} \\sin\\left(u\\right)^{2}$"
      ],
      "text/plain": [
       "<IPython.core.display.Math object>"
      ]
     },
     "metadata": {},
     "output_type": "display_data"
    }
   ],
   "source": [
    "drdu = rv.diff(u)\n",
    "drdv = rv.diff(v)\n",
    "\n",
    "E = drdu.dot_product(drdu).full_simplify()\n",
    "F = drdu.dot_product(drdv).full_simplify()\n",
    "G = drdv.dot_product(drdv).full_simplify()\n",
    "\n",
    "display(Math(r'E = ' + latex(E)))\n",
    "display(Math(r'F = ' + latex(F)))\n",
    "display(Math(r'G = ' + latex(G)))\n",
    "\n",
    "E_u = E.diff(u).full_simplify()\n",
    "E_v = E.diff(v).full_simplify()\n",
    "F_u = F.diff(u).full_simplify()\n",
    "F_v = F.diff(v).full_simplify()\n",
    "G_u = G.diff(u).full_simplify()\n",
    "G_v = G.diff(v).full_simplify()\n",
    "\n",
    "display(Math(r'E_u = ' + latex(E_u)))\n",
    "display(Math(r'E_v = ' + latex(E_v)))\n",
    "display(Math(r'F_u = ' + latex(F_u)))\n",
    "display(Math(r'F_v = ' + latex(F_v)))\n",
    "display(Math(r'G_u = ' + latex(G_u)))\n",
    "display(Math(r'G_v = ' + latex(G_v)))\n",
    "\n",
    "\n",
    "D = (E*G - F^2).full_simplify()\n",
    "display(Math(r'D = ' + latex(D)))"
   ]
  },
  {
   "cell_type": "code",
   "execution_count": 12,
   "metadata": {
    "vscode": {
     "languageId": "sage"
    }
   },
   "outputs": [
    {
     "data": {
      "text/latex": [
       "$\\displaystyle g_{\\mu\\nu} = \\left(\\begin{array}{rr}\n",
       "r^{2} & 0 \\\\\n",
       "0 & r^{2} \\sin\\left(u\\right)^{2}\n",
       "\\end{array}\\right)$"
      ],
      "text/plain": [
       "<IPython.core.display.Math object>"
      ]
     },
     "metadata": {},
     "output_type": "display_data"
    },
    {
     "data": {
      "text/latex": [
       "$\\displaystyle g^{\\mu\\nu} = \\left(\\begin{array}{rr}\n",
       "\\frac{1}{r^{2}} & 0 \\\\\n",
       "0 & \\frac{1}{r^{2} \\sin\\left(u\\right)^{2}}\n",
       "\\end{array}\\right)$"
      ],
      "text/plain": [
       "<IPython.core.display.Math object>"
      ]
     },
     "metadata": {},
     "output_type": "display_data"
    }
   ],
   "source": [
    "metric = matrix([[E, F], [F, G]])\n",
    "metric_inv = metric.inverse()\n",
    "\n",
    "display(Math(r'g_{\\mu\\nu} = ' + latex(metric)))\n",
    "display(Math(r'g^{\\mu\\nu} = ' + latex(metric_inv)))"
   ]
  },
  {
   "cell_type": "code",
   "execution_count": 13,
   "metadata": {
    "vscode": {
     "languageId": "sage"
    }
   },
   "outputs": [
    {
     "data": {
      "text/latex": [
       "$\\displaystyle \\dot{x} = r \\cos\\left(u\\right)$"
      ],
      "text/plain": [
       "<IPython.core.display.Math object>"
      ]
     },
     "metadata": {},
     "output_type": "display_data"
    },
    {
     "data": {
      "text/latex": [
       "$\\displaystyle \\ddot{x} = -r \\sin\\left(u\\right)$"
      ],
      "text/plain": [
       "<IPython.core.display.Math object>"
      ]
     },
     "metadata": {},
     "output_type": "display_data"
    },
    {
     "data": {
      "text/latex": [
       "$\\displaystyle \\dot{z} = -r \\sin\\left(u\\right)$"
      ],
      "text/plain": [
       "<IPython.core.display.Math object>"
      ]
     },
     "metadata": {},
     "output_type": "display_data"
    },
    {
     "data": {
      "text/latex": [
       "$\\displaystyle \\ddot{z} = -r \\cos\\left(u\\right)$"
      ],
      "text/plain": [
       "<IPython.core.display.Math object>"
      ]
     },
     "metadata": {},
     "output_type": "display_data"
    }
   ],
   "source": [
    "x_d = x.diff(u)\n",
    "z_d = z.diff(u)\n",
    "\n",
    "x_dd = x_d.diff(u)\n",
    "z_dd = z_d.diff(u)\n",
    "\n",
    "display(Math(r'\\dot{x} = ' + latex(x_d)))\n",
    "display(Math(r'\\ddot{x} = ' + latex(x_dd)))\n",
    "display(Math(r'\\dot{z} = ' + latex(z_d)))\n",
    "display(Math(r'\\ddot{z} = ' + latex(z_dd)))"
   ]
  },
  {
   "cell_type": "code",
   "execution_count": 14,
   "metadata": {
    "vscode": {
     "languageId": "sage"
    }
   },
   "outputs": [
    {
     "data": {
      "text/latex": [
       "$\\displaystyle a = \\frac{2 \\, \\cos\\left(u\\right)}{\\sin\\left(u\\right)}$"
      ],
      "text/plain": [
       "<IPython.core.display.Math object>"
      ]
     },
     "metadata": {},
     "output_type": "display_data"
    },
    {
     "data": {
      "text/latex": [
       "$\\displaystyle b = -\\cos\\left(u\\right) \\sin\\left(u\\right)$"
      ],
      "text/plain": [
       "<IPython.core.display.Math object>"
      ]
     },
     "metadata": {},
     "output_type": "display_data"
    },
    {
     "data": {
      "text/latex": [
       "$\\displaystyle c = 0$"
      ],
      "text/plain": [
       "<IPython.core.display.Math object>"
      ]
     },
     "metadata": {},
     "output_type": "display_data"
    }
   ],
   "source": [
    "a = 2 * x_d / x\n",
    "a = a.full_simplify()\n",
    "b = - (x * x_d) / (x_d^2 + z_d^2)\n",
    "b = b.full_simplify()\n",
    "c = (x_dd * x_d + z_dd * z_d) / (x_d^2 + z_d^2)\n",
    "c = c.full_simplify()\n",
    "\n",
    "display(Math(r'a = ' + latex(a)))\n",
    "display(Math(r'b = ' + latex(b)))\n",
    "display(Math(r'c = ' + latex(c)))   "
   ]
  },
  {
   "cell_type": "code",
   "execution_count": 15,
   "metadata": {
    "vscode": {
     "languageId": "sage"
    }
   },
   "outputs": [
    {
     "data": {
      "text/latex": [
       "$\\displaystyle \\Gamma^1_{11} = 0$"
      ],
      "text/plain": [
       "<IPython.core.display.Math object>"
      ]
     },
     "metadata": {},
     "output_type": "display_data"
    },
    {
     "data": {
      "text/latex": [
       "$\\displaystyle \\Gamma^1_{12} = \\Gamma^1_{21} = 0$"
      ],
      "text/plain": [
       "<IPython.core.display.Math object>"
      ]
     },
     "metadata": {},
     "output_type": "display_data"
    },
    {
     "data": {
      "text/latex": [
       "$\\displaystyle \\Gamma^1_{22} = -\\cos\\left(u\\right) \\sin\\left(u\\right)$"
      ],
      "text/plain": [
       "<IPython.core.display.Math object>"
      ]
     },
     "metadata": {},
     "output_type": "display_data"
    },
    {
     "data": {
      "text/latex": [
       "$\\displaystyle \\Gamma^2_{11} = 0$"
      ],
      "text/plain": [
       "<IPython.core.display.Math object>"
      ]
     },
     "metadata": {},
     "output_type": "display_data"
    },
    {
     "data": {
      "text/latex": [
       "$\\displaystyle \\Gamma^2_{12} = \\Gamma^2_{21} = \\frac{\\cos\\left(u\\right)}{\\sin\\left(u\\right)}$"
      ],
      "text/plain": [
       "<IPython.core.display.Math object>"
      ]
     },
     "metadata": {},
     "output_type": "display_data"
    },
    {
     "data": {
      "text/latex": [
       "$\\displaystyle \\Gamma^2_{22} = 0$"
      ],
      "text/plain": [
       "<IPython.core.display.Math object>"
      ]
     },
     "metadata": {},
     "output_type": "display_data"
    }
   ],
   "source": [
    "u, v = var('u v')\n",
    "coords = [u, v]\n",
    "\n",
    "def Gamma(i, j, k):\n",
    "    Gamma_val = 0\n",
    "    for l in range(2):\n",
    "        Gamma_val += 1/2 * metric_inv[l, k] * ( metric[i, l].diff(coords[j]) + metric[j, l].diff(coords[i]) - metric[i, j].diff(coords[l]) )\n",
    "    return Gamma_val\n",
    "\n",
    "Gamma11_1 = Gamma(0, 0, 0)\n",
    "display(Math(r'\\Gamma^1_{11} = ' + latex(Gamma11_1)))\n",
    "Gamma21_1 = Gamma(1, 0, 0)\n",
    "Gamma12_1 = Gamma(0, 1, 0)\n",
    "display(Math(r'\\Gamma^1_{12} = \\Gamma^1_{21} = ' + latex(Gamma12_1)))\n",
    "Gamma22_1 = Gamma(1, 1, 0)\n",
    "display(Math(r'\\Gamma^1_{22} = ' + latex(Gamma22_1)))\n",
    "Gamma11_2 = Gamma(0, 0, 1)\n",
    "display(Math(r'\\Gamma^2_{11} = ' + latex(Gamma11_2)))\n",
    "Gamma12_2 = Gamma(0, 1, 1)\n",
    "Gamma21_2 = Gamma(1, 0, 1)\n",
    "display(Math(r'\\Gamma^2_{12} = \\Gamma^2_{21} = ' + latex(Gamma12_2)))\n",
    "Gamma22_2 = Gamma(1, 1, 1)\n",
    "display(Math(r'\\Gamma^2_{22} = ' + latex(Gamma22_2)))   "
   ]
  },
  {
   "cell_type": "code",
   "execution_count": 16,
   "metadata": {
    "vscode": {
     "languageId": "sage"
    }
   },
   "outputs": [
    {
     "data": {
      "text/latex": [
       "$\\displaystyle g_1: -\\mathit{\\dot{v}}^{2} \\cos\\left(u\\right) \\sin\\left(u\\right) + \\mathit{\\ddot{u}} = 0$"
      ],
      "text/plain": [
       "<IPython.core.display.Math object>"
      ]
     },
     "metadata": {},
     "output_type": "display_data"
    },
    {
     "data": {
      "text/latex": [
       "$\\displaystyle g_2: \\frac{2 \\, \\mathit{\\dot{u}} \\mathit{\\dot{v}} \\cos\\left(u\\right) + \\mathit{\\ddot{v}} \\sin\\left(u\\right)}{\\sin\\left(u\\right)} = 0$"
      ],
      "text/plain": [
       "<IPython.core.display.Math object>"
      ]
     },
     "metadata": {},
     "output_type": "display_data"
    }
   ],
   "source": [
    "import re\n",
    "\n",
    "# Define the derivative variables.\n",
    "ud, vd, udd, vdd = var('ud vd udd vdd')\n",
    "\n",
    "# Define the geodesic equations for the two components.\n",
    "g1 = udd + Gamma11_1 * ud^2 + 2 * Gamma12_1 * ud * vd + Gamma22_1 * vd^2\n",
    "g1 = g1.full_simplify()\n",
    "g2 = vdd + Gamma11_2 * ud^2 + 2 * Gamma12_2 * ud * vd + Gamma22_2 * vd^2\n",
    "g2 = g2.full_simplify()\n",
    "\n",
    "# Convert to LaTeX and replace the variable names with the desired symbols.\n",
    "g1_latex = latex(g1)\n",
    "g1_latex = g1_latex.replace('udd', r'\\ddot{u}')\\\n",
    "                   .replace('vdd', r'\\ddot{v}')\\\n",
    "                   .replace('ud', r'\\dot{u}')\\\n",
    "                   .replace('vd', r'\\dot{v}')\n",
    "\n",
    "g2_latex = latex(g2)\n",
    "g2_latex = g2_latex.replace('udd', r'\\ddot{u}')\\\n",
    "                   .replace('vdd', r'\\ddot{v}')\\\n",
    "                   .replace('ud', r'\\dot{u}')\\\n",
    "                   .replace('vd', r'\\dot{v}')\n",
    "\n",
    "# Remove extra wrappers like \\mathtt{\\text{ ... }} using regex.\n",
    "g1_latex_clean = re.sub(r'\\\\mathtt\\{\\\\text\\{(.*?)\\}\\}', r'\\1', g1_latex)\n",
    "g2_latex_clean = re.sub(r'\\\\mathtt\\{\\\\text\\{(.*?)\\}\\}', r'\\1', g2_latex)\n",
    "\n",
    "# Display the final LaTeX formatted expressions.\n",
    "display(Math(\"g_1: \" + g1_latex_clean + \" = 0\"))\n",
    "display(Math(\"g_2: \" + g2_latex_clean + \" = 0\"))"
   ]
  },
  {
   "cell_type": "code",
   "execution_count": 52,
   "metadata": {
    "vscode": {
     "languageId": "sage"
    }
   },
   "outputs": [
    {
     "data": {
      "text/latex": [
       "$\\displaystyle \\mathbf{r}(u, v) = \\left(\\cos\\left(v\\right) x\\left(u\\right),\\,\\sin\\left(v\\right) x\\left(u\\right),\\,z\\left(u\\right)\\right)$"
      ],
      "text/plain": [
       "<IPython.core.display.Math object>"
      ]
     },
     "metadata": {},
     "output_type": "display_data"
    },
    {
     "data": {
      "text/latex": [
       "$\\displaystyle g_{\\mu\\nu} = \\left(\\begin{array}{rr}\n",
       "E & F \\\\\n",
       "F & G\n",
       "\\end{array}\\right)$"
      ],
      "text/plain": [
       "<IPython.core.display.Math object>"
      ]
     },
     "metadata": {},
     "output_type": "display_data"
    },
    {
     "data": {
      "text/latex": [
       "$\\displaystyle g^{\\mu\\nu} = \\left(\\begin{array}{rr}\n",
       "\\frac{1}{E} - \\frac{F^{2}}{E^{2} {\\left(\\frac{F^{2}}{E} - G\\right)}} & \\frac{F}{E {\\left(\\frac{F^{2}}{E} - G\\right)}} \\\\\n",
       "\\frac{F}{E {\\left(\\frac{F^{2}}{E} - G\\right)}} & -\\frac{1}{\\frac{F^{2}}{E} - G}\n",
       "\\end{array}\\right)$"
      ],
      "text/plain": [
       "<IPython.core.display.Math object>"
      ]
     },
     "metadata": {},
     "output_type": "display_data"
    },
    {
     "name": "stdout",
     "output_type": "stream",
     "text": [
      "Gamma^0_0,0 = 0\n",
      "Gamma^1_0,0 = 0\n",
      "Gamma^0_0,1 = 0\n",
      "Gamma^1_0,1 = 0\n",
      "Gamma^0_1,0 = 0\n",
      "Gamma^1_1,0 = 0\n",
      "Gamma^0_1,1 = 0\n",
      "Gamma^1_1,1 = 0\n"
     ]
    }
   ],
   "source": [
    "# Define the coordinate functions (assuming x and z are functions of u)\n",
    "x = function('x')(u)\n",
    "z = function('z')(u)\n",
    "\n",
    "# Define the parameterization of your surface (with coordinates u and v)\n",
    "r = vector([\n",
    "    x * cos(v),\n",
    "    x * sin(v),\n",
    "    z\n",
    "])\n",
    "display(Math(r'\\mathbf{r}(u, v) = ' + latex(r)))\n",
    "\n",
    "# Compute partial derivatives of r (if needed for metric derivation)\n",
    "drdu = r.diff(u)\n",
    "drdv = r.diff(v)\n",
    "\n",
    "# Define symbolic metric components\n",
    "E, F, G = var('E F G')\n",
    "\n",
    "# Build the metric matrix and its inverse\n",
    "metric_sym = matrix([[E, F], [F, G]])\n",
    "metric_sym_inv = metric_sym.inverse()\n",
    "display(Math(r'g_{\\mu\\nu} = ' + latex(metric_sym)))\n",
    "display(Math(r'g^{\\mu\\nu} = ' + latex(metric_sym_inv)))\n",
    "\n",
    "# Coordinates list for differentiations\n",
    "coords = [u, v]\n",
    "\n",
    "# Define the function to compute Christoffel symbols symbolically.\n",
    "def Gamma(i, j, k):\n",
    "    Gamma_val = 0\n",
    "    for l in range(2):\n",
    "        Gamma_val += 1/2 * metric_sym_inv[l, k] * (\n",
    "            metric_sym[i, l].diff(coords[j]) +\n",
    "            metric_sym[j, l].diff(coords[i]) -\n",
    "            metric_sym[i, j].diff(coords[l])\n",
    "        )\n",
    "    return simplify(Gamma_val)\n",
    "\n",
    "# Print out all Christoffel symbols Gamma^k_{ij}\n",
    "for i in range(2):\n",
    "    for j in range(2):\n",
    "        for k in range(2):\n",
    "            print(\"Gamma^{}_{},{} = {}\".format(k, i, j, Gamma(i, j, k)))\n"
   ]
  },
  {
   "cell_type": "markdown",
   "metadata": {},
   "source": [
    "$$\n",
    "   \\Gamma_{\\mu\\nu}^{\\sigma} = \\frac{1}{2} g^{\\lambda\\sigma} \\left( \\frac{\\partial g_{\\mu\\lambda}}{\\partial q^{\\nu}} + \\frac{\\partial g_{\\nu\\lambda}}{\\partial q^{\\mu}} - \\frac{\\partial g_{\\mu\\nu}}{\\partial q^{\\lambda}} \\right).\n",
    "$$"
   ]
  },
  {
   "cell_type": "code",
   "execution_count": null,
   "metadata": {
    "vscode": {
     "languageId": "sage"
    }
   },
   "outputs": [],
   "source": [
    "Gamma11_1 = (1/2) "
   ]
  }
 ],
 "metadata": {
  "kernelspec": {
   "display_name": "SageMath 10.5",
   "language": "sage",
   "name": "SageMath-10.5"
  },
  "language_info": {
   "codemirror_mode": {
    "name": "ipython",
    "version": 3
   },
   "file_extension": ".py",
   "mimetype": "text/x-python",
   "name": "python",
   "nbconvert_exporter": "python",
   "pygments_lexer": "ipython3",
   "version": "3.12.5"
  }
 },
 "nbformat": 4,
 "nbformat_minor": 2
}
